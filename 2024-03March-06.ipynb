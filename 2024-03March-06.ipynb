{
 "cells": [
  {
   "cell_type": "markdown",
   "id": "409b3bea-fe2d-4e04-8b62-591e593fa26e",
   "metadata": {},
   "source": [
    "# Agenda\n",
    "\n",
    "- Packages (including with poetry)\n",
    "- Concurrency (threads, multiprocesses, `asyncio`)\n",
    "- Pytest\n",
    "- Decorators (maybe?)"
   ]
  },
  {
   "cell_type": "markdown",
   "id": "f1e774a1-ff59-4cb8-9150-a2f739a1e854",
   "metadata": {},
   "source": [
    "# Package vocabulary\n",
    "\n",
    "1. Modules. Every module is a file, ending with `.py`.  The file can be anywhere in `sys.path`.\n",
    "2. Package. A directory/folder containing one or more modules.\n",
    "3. Distribution package. "
   ]
  },
  {
   "cell_type": "code",
   "execution_count": 1,
   "id": "302b5204-1a91-4093-93ee-303243f95727",
   "metadata": {},
   "outputs": [
    {
     "data": {
      "text/plain": [
       "['/Users/reuven/.pyenv/versions/3.12.2/lib/python312.zip',\n",
       " '/Users/reuven/.pyenv/versions/3.12.2/lib/python3.12',\n",
       " '/Users/reuven/.pyenv/versions/3.12.2/lib/python3.12/lib-dynload',\n",
       " '',\n",
       " '/Users/reuven/.pyenv/versions/3.12.2/lib/python3.12/site-packages']"
      ]
     },
     "execution_count": 1,
     "metadata": {},
     "output_type": "execute_result"
    }
   ],
   "source": [
    "import sys\n",
    "sys.path"
   ]
  },
  {
   "cell_type": "code",
   "execution_count": 2,
   "id": "31587bb6-8feb-441b-8197-c03d50ab6cb3",
   "metadata": {},
   "outputs": [],
   "source": [
    "import random"
   ]
  },
  {
   "cell_type": "code",
   "execution_count": 3,
   "id": "6793b7c8-6f41-4d3b-b766-28808e9fd447",
   "metadata": {},
   "outputs": [
    {
     "data": {
      "text/plain": [
       "<module 'random' from '/Users/reuven/.pyenv/versions/3.12.2/lib/python3.12/random.py'>"
      ]
     },
     "execution_count": 3,
     "metadata": {},
     "output_type": "execute_result"
    }
   ],
   "source": [
    "random"
   ]
  },
  {
   "cell_type": "code",
   "execution_count": 4,
   "id": "e6bb0188-0bcc-4466-a172-3a87ac3e596e",
   "metadata": {},
   "outputs": [
    {
     "data": {
      "text/plain": [
       "<module 'sys' (built-in)>"
      ]
     },
     "execution_count": 4,
     "metadata": {},
     "output_type": "execute_result"
    }
   ],
   "source": [
    "sys"
   ]
  },
  {
   "cell_type": "code",
   "execution_count": 5,
   "id": "7aaf4ac5-bee6-43df-ae7d-b1e068f7710c",
   "metadata": {},
   "outputs": [],
   "source": [
    "import time\n"
   ]
  },
  {
   "cell_type": "code",
   "execution_count": 6,
   "id": "19e73b70-cc2b-4dca-bc82-3b8bc8712afd",
   "metadata": {},
   "outputs": [
    {
     "data": {
      "text/plain": [
       "<module 'time' (built-in)>"
      ]
     },
     "execution_count": 6,
     "metadata": {},
     "output_type": "execute_result"
    }
   ],
   "source": [
    "time"
   ]
  },
  {
   "cell_type": "code",
   "execution_count": null,
   "id": "043878d3-1644-489f-9057-31aa8c8251fd",
   "metadata": {},
   "outputs": [],
   "source": []
  }
 ],
 "metadata": {
  "kernelspec": {
   "display_name": "Python 3 (ipykernel)",
   "language": "python",
   "name": "python3"
  },
  "language_info": {
   "codemirror_mode": {
    "name": "ipython",
    "version": 3
   },
   "file_extension": ".py",
   "mimetype": "text/x-python",
   "name": "python",
   "nbconvert_exporter": "python",
   "pygments_lexer": "ipython3",
   "version": "3.12.2"
  },
  "widgets": {
   "application/vnd.jupyter.widget-state+json": {
    "state": {},
    "version_major": 2,
    "version_minor": 0
   }
  }
 },
 "nbformat": 4,
 "nbformat_minor": 5
}
