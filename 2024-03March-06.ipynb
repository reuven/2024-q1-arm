{
 "cells": [
  {
   "cell_type": "markdown",
   "id": "409b3bea-fe2d-4e04-8b62-591e593fa26e",
   "metadata": {},
   "source": [
    "# Agenda\n",
    "\n",
    "- Packages (including with poetry)\n",
    "- Concurrency (threads, multiprocesses, `asyncio`)\n",
    "- Pytest\n",
    "- Decorators (maybe?)"
   ]
  },
  {
   "cell_type": "markdown",
   "id": "f1e774a1-ff59-4cb8-9150-a2f739a1e854",
   "metadata": {},
   "source": [
    "# Package vocabulary\n",
    "\n",
    "1. Modules. Every module is a file, ending with `.py`.  The file can be anywhere in `sys.path`.\n",
    "2. Package. A directory/folder containing one or more modules. There is often a file called `__init__.py`, which helps us import things correctly.\n",
    "3. Distribution package. A folder around the package, such as: Dependencies, binaries, licences, etc. Today, distributed usually as a \"wheelfile,\" with a `whl` extension suffix."
   ]
  },
  {
   "cell_type": "code",
   "execution_count": 1,
   "id": "302b5204-1a91-4093-93ee-303243f95727",
   "metadata": {},
   "outputs": [
    {
     "data": {
      "text/plain": [
       "['/Users/reuven/.pyenv/versions/3.12.2/lib/python312.zip',\n",
       " '/Users/reuven/.pyenv/versions/3.12.2/lib/python3.12',\n",
       " '/Users/reuven/.pyenv/versions/3.12.2/lib/python3.12/lib-dynload',\n",
       " '',\n",
       " '/Users/reuven/.pyenv/versions/3.12.2/lib/python3.12/site-packages']"
      ]
     },
     "execution_count": 1,
     "metadata": {},
     "output_type": "execute_result"
    }
   ],
   "source": [
    "import sys\n",
    "sys.path"
   ]
  },
  {
   "cell_type": "code",
   "execution_count": 2,
   "id": "31587bb6-8feb-441b-8197-c03d50ab6cb3",
   "metadata": {},
   "outputs": [],
   "source": [
    "import random"
   ]
  },
  {
   "cell_type": "code",
   "execution_count": 3,
   "id": "6793b7c8-6f41-4d3b-b766-28808e9fd447",
   "metadata": {},
   "outputs": [
    {
     "data": {
      "text/plain": [
       "<module 'random' from '/Users/reuven/.pyenv/versions/3.12.2/lib/python3.12/random.py'>"
      ]
     },
     "execution_count": 3,
     "metadata": {},
     "output_type": "execute_result"
    }
   ],
   "source": [
    "random"
   ]
  },
  {
   "cell_type": "code",
   "execution_count": 4,
   "id": "e6bb0188-0bcc-4466-a172-3a87ac3e596e",
   "metadata": {},
   "outputs": [
    {
     "data": {
      "text/plain": [
       "<module 'sys' (built-in)>"
      ]
     },
     "execution_count": 4,
     "metadata": {},
     "output_type": "execute_result"
    }
   ],
   "source": [
    "sys"
   ]
  },
  {
   "cell_type": "code",
   "execution_count": 5,
   "id": "7aaf4ac5-bee6-43df-ae7d-b1e068f7710c",
   "metadata": {},
   "outputs": [],
   "source": [
    "import time\n"
   ]
  },
  {
   "cell_type": "code",
   "execution_count": 6,
   "id": "19e73b70-cc2b-4dca-bc82-3b8bc8712afd",
   "metadata": {
    "scrolled": true
   },
   "outputs": [
    {
     "data": {
      "text/plain": [
       "<module 'time' (built-in)>"
      ]
     },
     "execution_count": 6,
     "metadata": {},
     "output_type": "execute_result"
    }
   ],
   "source": [
    "time"
   ]
  },
  {
   "cell_type": "markdown",
   "id": "5daa5b05-f696-4c89-8d34-4cd32352e2df",
   "metadata": {},
   "source": [
    "# Poetry stuff\n",
    "\n",
    "- `poetry new` -- create a new repo\n",
    "- `poetry add` -- add a new package dependency to `pyproject.toml`, ensuring that the versions don't conflict with other package versions -- also adds it to the virtual environment\n",
    "- `poetry remove` -- remove a dependency from `pyproject.toml`\n",
    "- `poetry build` -- create the `.tar.gz` and `.whl` files\n",
    "- `poetry shell` -- get a system shell in the virtual environment\n",
    "- `poetry publish` -- publish to PyPI (or a local repository)"
   ]
  },
  {
   "cell_type": "markdown",
   "id": "e3bff86d-445f-4b3c-8d4e-50a27131b650",
   "metadata": {},
   "source": [
    "# Concurrency\n",
    "\n",
    "GIL -- global interpreter lock\n",
    "\n",
    "- Gilectomy\n",
    "- "
   ]
  },
  {
   "cell_type": "markdown",
   "id": "c694bcea-8b2c-48ff-8cdf-9770a51fe4e6",
   "metadata": {},
   "source": [
    "# Exercise: File lengths\n",
    "\n",
    "1. Write a function, `file_length`, that takes a filename as an argument and puts the length, along with the filename, in a 2-element tuple in a queue.\n",
    "2. Take a list of filenames, and run `file_length` on each file in a thread.\n",
    "3. When the threads have all finished running, go through the queue, printing how long each file is."
   ]
  },
  {
   "cell_type": "markdown",
   "id": "d3bfe93c-64a5-442a-be4a-720428e52874",
   "metadata": {},
   "source": [
    "# Future\n",
    "\n",
    "An object that we get back from a function call that will (in the future) give us the actual answer"
   ]
  },
  {
   "cell_type": "markdown",
   "id": "b26fb7bc-8918-4830-8374-271f9ba12efe",
   "metadata": {},
   "source": [
    "# Exercise: File lengths (take 2)\n",
    "\n",
    "Re-implement `file_length` in threads:\n",
    "- Once using `executor.submit`\n",
    "- Once using `executor.map`"
   ]
  },
  {
   "cell_type": "code",
   "execution_count": 7,
   "id": "8c6900b2-d3d3-41c6-b1d1-a21035bad2d8",
   "metadata": {},
   "outputs": [],
   "source": [
    "from concurrent.futures import ThreadPoolExecutor, wait, FIRST_COMPLETED\n"
   ]
  },
  {
   "cell_type": "markdown",
   "id": "26b2e1ad-ae65-4027-83be-f22ea0d46628",
   "metadata": {},
   "source": [
    "# Pytest\n",
    "\n",
    "- We use `assert` for our tests\n",
    "    - Usually, this would crash our program!\n",
    "- We write each test as a function, each named `test_*` or `*_test`"
   ]
  },
  {
   "cell_type": "markdown",
   "id": "a537b989-b67d-416d-a46c-0cf5c275b97e",
   "metadata": {},
   "source": [
    "# Exercise: `min_and_max`\n",
    "\n",
    "1. Write a function, `min_and_max`, that takes a sequence of integers. It returns a two-element list, the smallest item in the list and the largest.\n",
    "2. Write `pytest` tests that check this code in a variety of ways."
   ]
  },
  {
   "cell_type": "markdown",
   "id": "3551048b-1401-4611-ab9f-c9456b4eab49",
   "metadata": {},
   "source": [
    "# Exercise: `count_vowels`\n",
    "\n",
    "1. Define `count_vowels`, a function that takes a string as a input. The returned value is a dict whose keys are vowels (a, e, i, o, u) and the values are integers, the number of times each vowel appears.\n",
    "2. Write parameterized tests for this function."
   ]
  },
  {
   "cell_type": "markdown",
   "id": "fa1981cb-f9af-4d3b-b009-b21f3ba953b9",
   "metadata": {},
   "source": [
    "# Parametrized fixtures\n",
    "\n",
    "Normally, a fixture returns a single, identical object with every mention. We can have a single fixture return multiple objects with different values via parametrization. This involves:\n",
    "\n",
    "- We pass a params keyword argument to pytest.fixture. The value for params is a list of any objects you want.\n",
    "- The fixture function needs to accept a parameter (i.e., a fixture) called request.\n",
    "- Inside of the fixture, we can retrieve the current value from params as request.param. (Notice that params is plural and request.param is singular.)\n",
    "- The fixture will be used once per value in params. If you use the fixture in a test function, the test function will be invoked once per value in params, as well.\n",
    "\n"
   ]
  },
  {
   "cell_type": "markdown",
   "id": "ef590ea7-9b6f-4128-ba0a-d3f3a23b242d",
   "metadata": {},
   "source": [
    "# Decorator talk\n",
    "\n",
    "https://www.youtube.com/watch?v=MjHpMCIvwsY"
   ]
  },
  {
   "cell_type": "markdown",
   "id": "a7c08aa5-a0b2-422d-b78a-661cda4e227a",
   "metadata": {},
   "source": [
    "# Decorators assume you know:\n",
    "\n",
    "1. Functions are objects, like all other objects.\n",
    "2. "
   ]
  }
 ],
 "metadata": {
  "kernelspec": {
   "display_name": "Python 3 (ipykernel)",
   "language": "python",
   "name": "python3"
  },
  "language_info": {
   "codemirror_mode": {
    "name": "ipython",
    "version": 3
   },
   "file_extension": ".py",
   "mimetype": "text/x-python",
   "name": "python",
   "nbconvert_exporter": "python",
   "pygments_lexer": "ipython3",
   "version": "3.12.2"
  },
  "widgets": {
   "application/vnd.jupyter.widget-state+json": {
    "state": {},
    "version_major": 2,
    "version_minor": 0
   }
  }
 },
 "nbformat": 4,
 "nbformat_minor": 5
}
