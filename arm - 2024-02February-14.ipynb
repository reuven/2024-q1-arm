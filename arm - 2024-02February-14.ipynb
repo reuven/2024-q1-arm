{
 "cells": [
  {
   "cell_type": "markdown",
   "metadata": {},
   "source": [
    "# Agenda\n",
    "\n",
    "1. Data structures\n",
    "2. Functions\n",
    "    - Arguments and parameters\n",
    "    - Bytecodes\n",
    "    - Scoping\n",
    "    - Inner functions\n",
    "    - Type hints/annotations + Mypy\n",
    "3. Objects\n",
    "    - Class, instance, method\n",
    "    - Attributes -- ICPO\n",
    "    - Inheritance\n",
    "    - Magic methods\n",
    "    - Properties + descriptors\n",
    "    - Memory management + objects\n",
    "4. Iterators and generators\n",
    "5. Concurrency -- thread, processes, asyncio\n",
    "6. pytest"
   ]
  },
  {
   "cell_type": "markdown",
   "metadata": {},
   "source": [
    "# Assignment\n"
   ]
  },
  {
   "cell_type": "code",
   "execution_count": null,
   "metadata": {},
   "outputs": [],
   "source": [
    "x = 5\n",
    "print(x)"
   ]
  }
 ],
 "metadata": {
  "kernelspec": {
   "display_name": "Python 3 (ipykernel)",
   "language": "python",
   "name": "python3"
  },
  "language_info": {
   "codemirror_mode": {
    "name": "ipython",
    "version": 3
   },
   "file_extension": ".py",
   "mimetype": "text/x-python",
   "name": "python",
   "nbconvert_exporter": "python",
   "pygments_lexer": "ipython3",
   "version": "3.12.1"
  },
  "widgets": {
   "application/vnd.jupyter.widget-state+json": {
    "state": {},
    "version_major": 2,
    "version_minor": 0
   }
  }
 },
 "nbformat": 4,
 "nbformat_minor": 4
}
