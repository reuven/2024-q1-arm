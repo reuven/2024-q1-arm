{
 "cells": [
  {
   "cell_type": "markdown",
   "metadata": {},
   "source": [
    "# Agenda\n",
    "\n",
    "1. Data structures\n",
    "2. Functions\n",
    "    - Arguments and parameters\n",
    "    - Bytecodes\n",
    "    - Scoping\n",
    "    - Inner functions\n",
    "    - Type hints/annotations + Mypy\n",
    "3. Objects\n",
    "    - Class, instance, method\n",
    "    - Attributes -- ICPO\n",
    "    - Inheritance\n",
    "    - Magic methods\n",
    "    - Properties + descriptors\n",
    "    - Memory management + objects\n",
    "4. Iterators and generators\n",
    "5. Concurrency -- thread, processes, asyncio\n",
    "6. pytest"
   ]
  },
  {
   "cell_type": "markdown",
   "metadata": {},
   "source": [
    "# Assignment\n"
   ]
  },
  {
   "cell_type": "code",
   "execution_count": 2,
   "metadata": {},
   "outputs": [
    {
     "name": "stdout",
     "output_type": "stream",
     "text": [
      "5\n"
     ]
    }
   ],
   "source": [
    "x = 5\n",
    "print(x)"
   ]
  },
  {
   "cell_type": "code",
   "execution_count": 3,
   "metadata": {},
   "outputs": [
    {
     "data": {
      "text/plain": [
       "int"
      ]
     },
     "execution_count": 3,
     "metadata": {},
     "output_type": "execute_result"
    }
   ],
   "source": [
    "type(x)"
   ]
  },
  {
   "cell_type": "code",
   "execution_count": 4,
   "metadata": {},
   "outputs": [
    {
     "data": {
      "text/plain": [
       "str"
      ]
     },
     "execution_count": 4,
     "metadata": {},
     "output_type": "execute_result"
    }
   ],
   "source": [
    "x = 'abcd'\n",
    "type(x)"
   ]
  },
  {
   "cell_type": "code",
   "execution_count": 5,
   "metadata": {},
   "outputs": [
    {
     "name": "stdout",
     "output_type": "stream",
     "text": [
      "10\n"
     ]
    }
   ],
   "source": [
    "x = 10\n",
    "y = x   \n",
    "\n",
    "x = 20\n",
    "print(y)"
   ]
  },
  {
   "cell_type": "code",
   "execution_count": 6,
   "metadata": {},
   "outputs": [
    {
     "data": {
      "text/plain": [
       "4387289840"
      ]
     },
     "execution_count": 6,
     "metadata": {},
     "output_type": "execute_result"
    }
   ],
   "source": [
    "x = 10\n",
    "id(x)  "
   ]
  },
  {
   "cell_type": "code",
   "execution_count": 7,
   "metadata": {},
   "outputs": [
    {
     "data": {
      "text/plain": [
       "4387289872"
      ]
     },
     "execution_count": 7,
     "metadata": {},
     "output_type": "execute_result"
    }
   ],
   "source": [
    "x += 1  \n",
    "id(x)"
   ]
  },
  {
   "cell_type": "code",
   "execution_count": null,
   "metadata": {},
   "outputs": [],
   "source": [
    "x = [10, 20, 30]\n",
    "y = x\n",
    "\n",
    "x[0] = 999\n",
    "print(y)\n",
    "\n",
    "x.append(40)\n",
    "print(y)"
   ]
  },
  {
   "cell_type": "code",
   "execution_count": 8,
   "metadata": {},
   "outputs": [
    {
     "data": {
      "text/plain": [
       "True"
      ]
     },
     "execution_count": 8,
     "metadata": {},
     "output_type": "execute_result"
    }
   ],
   "source": [
    "# I can ask if two values are equal\n",
    "\n",
    "x = 10\n",
    "y = 10\n",
    "\n",
    "x == y "
   ]
  },
  {
   "cell_type": "code",
   "execution_count": 9,
   "metadata": {},
   "outputs": [
    {
     "data": {
      "text/plain": [
       "True"
      ]
     },
     "execution_count": 9,
     "metadata": {},
     "output_type": "execute_result"
    }
   ],
   "source": [
    "# are they  the same object?\n",
    "\n",
    "x is y     # id(x) == id(y)"
   ]
  },
  {
   "cell_type": "code",
   "execution_count": 10,
   "metadata": {},
   "outputs": [
    {
     "data": {
      "text/plain": [
       "True"
      ]
     },
     "execution_count": 10,
     "metadata": {},
     "output_type": "execute_result"
    }
   ],
   "source": [
    "x = 1000\n",
    "y = 1000\n",
    "\n",
    "x == y"
   ]
  },
  {
   "cell_type": "code",
   "execution_count": 11,
   "metadata": {},
   "outputs": [
    {
     "data": {
      "text/plain": [
       "False"
      ]
     },
     "execution_count": 11,
     "metadata": {},
     "output_type": "execute_result"
    }
   ],
   "source": [
    "x is y"
   ]
  },
  {
   "cell_type": "code",
   "execution_count": 12,
   "metadata": {},
   "outputs": [
    {
     "name": "stdout",
     "output_type": "stream",
     "text": [
      "Yes, it is None!\n"
     ]
    }
   ],
   "source": [
    "x = None\n",
    "\n",
    "if x == None:    # not Pythonic!\n",
    "    print('Yes, it is None!')"
   ]
  },
  {
   "cell_type": "code",
   "execution_count": 13,
   "metadata": {},
   "outputs": [
    {
     "name": "stdout",
     "output_type": "stream",
     "text": [
      "Yes, it is None\n"
     ]
    }
   ],
   "source": [
    "if x is None:   \n",
    "    print('Yes, it is None')"
   ]
  },
  {
   "cell_type": "code",
   "execution_count": 14,
   "metadata": {},
   "outputs": [
    {
     "data": {
      "text/plain": [
       "True"
      ]
     },
     "execution_count": 14,
     "metadata": {},
     "output_type": "execute_result"
    }
   ],
   "source": [
    "x = 'abcd'\n",
    "y = 'abcd'\n",
    "\n",
    "x == y"
   ]
  },
  {
   "cell_type": "code",
   "execution_count": 15,
   "metadata": {},
   "outputs": [
    {
     "data": {
      "text/plain": [
       "True"
      ]
     },
     "execution_count": 15,
     "metadata": {},
     "output_type": "execute_result"
    }
   ],
   "source": [
    "x is y"
   ]
  },
  {
   "cell_type": "code",
   "execution_count": 16,
   "metadata": {},
   "outputs": [
    {
     "data": {
      "text/plain": [
       "True"
      ]
     },
     "execution_count": 16,
     "metadata": {},
     "output_type": "execute_result"
    }
   ],
   "source": [
    "x = 'ab.cd'\n",
    "y = 'ab.cd'\n",
    "\n",
    "x == y"
   ]
  },
  {
   "cell_type": "code",
   "execution_count": 17,
   "metadata": {},
   "outputs": [
    {
     "data": {
      "text/plain": [
       "False"
      ]
     },
     "execution_count": 17,
     "metadata": {},
     "output_type": "execute_result"
    }
   ],
   "source": [
    "x is y"
   ]
  },
  {
   "cell_type": "code",
   "execution_count": 18,
   "metadata": {},
   "outputs": [],
   "source": [
    "i = 10"
   ]
  },
  {
   "cell_type": "code",
   "execution_count": 19,
   "metadata": {},
   "outputs": [
    {
     "data": {
      "text/plain": [
       "{'__name__': '__main__',\n",
       " '__doc__': 'Automatically created module for IPython interactive environment',\n",
       " '__package__': None,\n",
       " '__loader__': None,\n",
       " '__spec__': None,\n",
       " '__builtin__': <module 'builtins' (built-in)>,\n",
       " '__builtins__': <module 'builtins' (built-in)>,\n",
       " '_ih': ['',\n",
       "  '2+3',\n",
       "  'x = 5\\nprint(x)',\n",
       "  'type(x)',\n",
       "  \"x = 'abcd'\\ntype(x)\",\n",
       "  'x = 10\\ny = x   \\n\\nx = 20\\nprint(y)',\n",
       "  'x = 10\\nid(x)  ',\n",
       "  'x += 1  \\nid(x)',\n",
       "  '# I can ask if two values are equal\\n\\nx = 10\\ny = 10\\n\\nx == y ',\n",
       "  '# are they  the same object?\\n\\nx is y     # id(x) == id(y)',\n",
       "  'x = 1000\\ny = 1000\\n\\nx == y',\n",
       "  'x is y',\n",
       "  \"x = None\\n\\nif x == None:\\n    print('Yes, it is None!')\",\n",
       "  \"if x is None:   \\n    print('Yes, it is None')\",\n",
       "  \"x = 'abcd'\\ny = 'abcd'\\n\\nx == y\",\n",
       "  'x is y',\n",
       "  \"x = 'ab.cd'\\ny = 'ab.cd'\\n\\nx == y\",\n",
       "  'x is y',\n",
       "  'i = 10',\n",
       "  'globals()'],\n",
       " '_oh': {1: 5,\n",
       "  3: int,\n",
       "  4: str,\n",
       "  6: 4387289840,\n",
       "  7: 4387289872,\n",
       "  8: True,\n",
       "  9: True,\n",
       "  10: True,\n",
       "  11: False,\n",
       "  14: True,\n",
       "  15: True,\n",
       "  16: True,\n",
       "  17: False},\n",
       " '_dh': [PosixPath('/Users/reuven/Courses/Current/arm-2024-q1-arm')],\n",
       " 'In': ['',\n",
       "  '2+3',\n",
       "  'x = 5\\nprint(x)',\n",
       "  'type(x)',\n",
       "  \"x = 'abcd'\\ntype(x)\",\n",
       "  'x = 10\\ny = x   \\n\\nx = 20\\nprint(y)',\n",
       "  'x = 10\\nid(x)  ',\n",
       "  'x += 1  \\nid(x)',\n",
       "  '# I can ask if two values are equal\\n\\nx = 10\\ny = 10\\n\\nx == y ',\n",
       "  '# are they  the same object?\\n\\nx is y     # id(x) == id(y)',\n",
       "  'x = 1000\\ny = 1000\\n\\nx == y',\n",
       "  'x is y',\n",
       "  \"x = None\\n\\nif x == None:\\n    print('Yes, it is None!')\",\n",
       "  \"if x is None:   \\n    print('Yes, it is None')\",\n",
       "  \"x = 'abcd'\\ny = 'abcd'\\n\\nx == y\",\n",
       "  'x is y',\n",
       "  \"x = 'ab.cd'\\ny = 'ab.cd'\\n\\nx == y\",\n",
       "  'x is y',\n",
       "  'i = 10',\n",
       "  'globals()'],\n",
       " 'Out': {1: 5,\n",
       "  3: int,\n",
       "  4: str,\n",
       "  6: 4387289840,\n",
       "  7: 4387289872,\n",
       "  8: True,\n",
       "  9: True,\n",
       "  10: True,\n",
       "  11: False,\n",
       "  14: True,\n",
       "  15: True,\n",
       "  16: True,\n",
       "  17: False},\n",
       " 'get_ipython': <bound method InteractiveShell.get_ipython of <ipykernel.zmqshell.ZMQInteractiveShell object at 0x107ae25a0>>,\n",
       " 'exit': <IPython.core.autocall.ZMQExitAutocall at 0x107bd3590>,\n",
       " 'quit': <IPython.core.autocall.ZMQExitAutocall at 0x107bd3590>,\n",
       " 'open': <function _io.open(file, mode='r', buffering=-1, encoding=None, errors=None, newline=None, closefd=True, opener=None)>,\n",
       " '_': False,\n",
       " '__': True,\n",
       " '___': True,\n",
       " '__session__': '/Users/reuven/Courses/Current/arm-2024-q1-arm/arm - 2024-02February-14.ipynb',\n",
       " '_i': 'i = 10',\n",
       " '_ii': 'x is y',\n",
       " '_iii': \"x = 'ab.cd'\\ny = 'ab.cd'\\n\\nx == y\",\n",
       " '_i1': '2+3',\n",
       " '_1': 5,\n",
       " '_i2': 'x = 5\\nprint(x)',\n",
       " 'x': 'ab.cd',\n",
       " '_i3': 'type(x)',\n",
       " '_3': int,\n",
       " '_i4': \"x = 'abcd'\\ntype(x)\",\n",
       " '_4': str,\n",
       " '_i5': 'x = 10\\ny = x   \\n\\nx = 20\\nprint(y)',\n",
       " 'y': 'ab.cd',\n",
       " '_i6': 'x = 10\\nid(x)  ',\n",
       " '_6': 4387289840,\n",
       " '_i7': 'x += 1  \\nid(x)',\n",
       " '_7': 4387289872,\n",
       " '_i8': '# I can ask if two values are equal\\n\\nx = 10\\ny = 10\\n\\nx == y ',\n",
       " '_8': True,\n",
       " '_i9': '# are they  the same object?\\n\\nx is y     # id(x) == id(y)',\n",
       " '_9': True,\n",
       " '_i10': 'x = 1000\\ny = 1000\\n\\nx == y',\n",
       " '_10': True,\n",
       " '_i11': 'x is y',\n",
       " '_11': False,\n",
       " '_i12': \"x = None\\n\\nif x == None:\\n    print('Yes, it is None!')\",\n",
       " '_i13': \"if x is None:   \\n    print('Yes, it is None')\",\n",
       " '_i14': \"x = 'abcd'\\ny = 'abcd'\\n\\nx == y\",\n",
       " '_14': True,\n",
       " '_i15': 'x is y',\n",
       " '_15': True,\n",
       " '_i16': \"x = 'ab.cd'\\ny = 'ab.cd'\\n\\nx == y\",\n",
       " '_16': True,\n",
       " '_i17': 'x is y',\n",
       " '_17': False,\n",
       " '_i18': 'i = 10',\n",
       " 'i': 10,\n",
       " '_i19': 'globals()'}"
      ]
     },
     "execution_count": 19,
     "metadata": {},
     "output_type": "execute_result"
    }
   ],
   "source": [
    "globals()"
   ]
  },
  {
   "cell_type": "code",
   "execution_count": 20,
   "metadata": {},
   "outputs": [
    {
     "data": {
      "text/plain": [
       "4425116688"
      ]
     },
     "execution_count": 20,
     "metadata": {},
     "output_type": "execute_result"
    }
   ],
   "source": [
    "x = 'abcd'\n",
    "id(x)"
   ]
  },
  {
   "cell_type": "code",
   "execution_count": 23,
   "metadata": {},
   "outputs": [
    {
     "data": {
      "text/plain": [
       "4425116688"
      ]
     },
     "execution_count": 23,
     "metadata": {},
     "output_type": "execute_result"
    }
   ],
   "source": [
    "# interning\n",
    "\n",
    "import sys\n",
    "\n",
    "id(sys.intern('abcd'))"
   ]
  },
  {
   "cell_type": "code",
   "execution_count": 24,
   "metadata": {},
   "outputs": [
    {
     "data": {
      "text/plain": [
       "4425116688"
      ]
     },
     "execution_count": 24,
     "metadata": {},
     "output_type": "execute_result"
    }
   ],
   "source": [
    "id(sys.intern('abcd'))"
   ]
  },
  {
   "cell_type": "code",
   "execution_count": 25,
   "metadata": {},
   "outputs": [
    {
     "data": {
      "text/plain": [
       "4425512256"
      ]
     },
     "execution_count": 25,
     "metadata": {},
     "output_type": "execute_result"
    }
   ],
   "source": [
    "id(sys.intern('ab.cd'))"
   ]
  },
  {
   "cell_type": "code",
   "execution_count": 26,
   "metadata": {},
   "outputs": [
    {
     "data": {
      "text/plain": [
       "4425512256"
      ]
     },
     "execution_count": 26,
     "metadata": {},
     "output_type": "execute_result"
    }
   ],
   "source": [
    "id(sys.intern('ab.cd'))"
   ]
  },
  {
   "cell_type": "code",
   "execution_count": 27,
   "metadata": {},
   "outputs": [
    {
     "data": {
      "text/plain": [
       "4425509040"
      ]
     },
     "execution_count": 27,
     "metadata": {},
     "output_type": "execute_result"
    }
   ],
   "source": [
    "x = 'ab.cd'\n",
    "id(x)"
   ]
  },
  {
   "cell_type": "code",
   "execution_count": 28,
   "metadata": {},
   "outputs": [],
   "source": [
    "x = sys.intern('ab.cd')"
   ]
  },
  {
   "cell_type": "code",
   "execution_count": 29,
   "metadata": {},
   "outputs": [
    {
     "data": {
      "text/plain": [
       "4425512256"
      ]
     },
     "execution_count": 29,
     "metadata": {},
     "output_type": "execute_result"
    }
   ],
   "source": [
    "id(x)"
   ]
  },
  {
   "cell_type": "code",
   "execution_count": 30,
   "metadata": {},
   "outputs": [
    {
     "data": {
      "text/plain": [
       "'3.12.1 (main, Jan 29 2024, 07:04:51) [Clang 15.0.0 (clang-1500.1.0.2.5)]'"
      ]
     },
     "execution_count": 30,
     "metadata": {},
     "output_type": "execute_result"
    }
   ],
   "source": [
    "import sys\n",
    "sys.version"
   ]
  },
  {
   "cell_type": "code",
   "execution_count": 31,
   "metadata": {},
   "outputs": [
    {
     "data": {
      "text/plain": [
       "28"
      ]
     },
     "execution_count": 31,
     "metadata": {},
     "output_type": "execute_result"
    }
   ],
   "source": [
    "i = 0\n",
    "\n",
    "sys.getsizeof(i)"
   ]
  },
  {
   "cell_type": "code",
   "execution_count": 32,
   "metadata": {},
   "outputs": [
    {
     "data": {
      "text/plain": [
       "28"
      ]
     },
     "execution_count": 32,
     "metadata": {},
     "output_type": "execute_result"
    }
   ],
   "source": [
    "i = 1\n",
    "sys.getsizeof(i)"
   ]
  },
  {
   "cell_type": "code",
   "execution_count": 33,
   "metadata": {},
   "outputs": [
    {
     "data": {
      "text/plain": [
       "32"
      ]
     },
     "execution_count": 33,
     "metadata": {},
     "output_type": "execute_result"
    }
   ],
   "source": [
    "i = 1234567890\n",
    "sys.getsizeof(i)"
   ]
  },
  {
   "cell_type": "code",
   "execution_count": 34,
   "metadata": {},
   "outputs": [],
   "source": [
    "i = i ** 1000"
   ]
  },
  {
   "cell_type": "code",
   "execution_count": 35,
   "metadata": {},
   "outputs": [
    {
     "data": {
      "text/plain": [
       "4052"
      ]
     },
     "execution_count": 35,
     "metadata": {},
     "output_type": "execute_result"
    }
   ],
   "source": [
    "sys.getsizeof(i)"
   ]
  },
  {
   "cell_type": "code",
   "execution_count": null,
   "metadata": {},
   "outputs": [],
   "source": []
  }
 ],
 "metadata": {
  "kernelspec": {
   "display_name": "Python 3 (ipykernel)",
   "language": "python",
   "name": "python3"
  },
  "language_info": {
   "codemirror_mode": {
    "name": "ipython",
    "version": 3
   },
   "file_extension": ".py",
   "mimetype": "text/x-python",
   "name": "python",
   "nbconvert_exporter": "python",
   "pygments_lexer": "ipython3",
   "version": "3.12.1"
  },
  "widgets": {
   "application/vnd.jupyter.widget-state+json": {
    "state": {},
    "version_major": 2,
    "version_minor": 0
   }
  }
 },
 "nbformat": 4,
 "nbformat_minor": 4
}
