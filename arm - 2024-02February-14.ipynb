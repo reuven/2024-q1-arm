{
 "cells": [
  {
   "cell_type": "markdown",
   "metadata": {},
   "source": [
    "# Agenda\n",
    "\n",
    "1. Data structures\n",
    "2. Functions\n",
    "    - Arguments and parameters\n",
    "    - Bytecodes\n",
    "    - Scoping\n",
    "    - Inner functions\n",
    "    - Type hints/annotations + Mypy\n",
    "3. Objects\n",
    "    - Class, instance, method\n",
    "    - Attributes -- ICPO\n",
    "    - Inheritance\n",
    "    - Magic methods\n",
    "    - Properties + descriptors\n",
    "    - Memory management + objects\n",
    "4. Iterators and generators\n",
    "5. Concurrency -- thread, processes, asyncio\n",
    "6. pytest"
   ]
  },
  {
   "cell_type": "markdown",
   "metadata": {},
   "source": [
    "# Assignment\n"
   ]
  },
  {
   "cell_type": "code",
   "execution_count": 2,
   "metadata": {},
   "outputs": [
    {
     "name": "stdout",
     "output_type": "stream",
     "text": [
      "5\n"
     ]
    }
   ],
   "source": [
    "x = 5\n",
    "print(x)"
   ]
  },
  {
   "cell_type": "code",
   "execution_count": 3,
   "metadata": {},
   "outputs": [
    {
     "data": {
      "text/plain": [
       "int"
      ]
     },
     "execution_count": 3,
     "metadata": {},
     "output_type": "execute_result"
    }
   ],
   "source": [
    "type(x)"
   ]
  },
  {
   "cell_type": "code",
   "execution_count": 4,
   "metadata": {},
   "outputs": [
    {
     "data": {
      "text/plain": [
       "str"
      ]
     },
     "execution_count": 4,
     "metadata": {},
     "output_type": "execute_result"
    }
   ],
   "source": [
    "x = 'abcd'\n",
    "type(x)"
   ]
  },
  {
   "cell_type": "code",
   "execution_count": 5,
   "metadata": {},
   "outputs": [
    {
     "name": "stdout",
     "output_type": "stream",
     "text": [
      "10\n"
     ]
    }
   ],
   "source": [
    "x = 10\n",
    "y = x   \n",
    "\n",
    "x = 20\n",
    "print(y)"
   ]
  },
  {
   "cell_type": "code",
   "execution_count": 6,
   "metadata": {},
   "outputs": [
    {
     "data": {
      "text/plain": [
       "4387289840"
      ]
     },
     "execution_count": 6,
     "metadata": {},
     "output_type": "execute_result"
    }
   ],
   "source": [
    "x = 10\n",
    "id(x)  "
   ]
  },
  {
   "cell_type": "code",
   "execution_count": 7,
   "metadata": {},
   "outputs": [
    {
     "data": {
      "text/plain": [
       "4387289872"
      ]
     },
     "execution_count": 7,
     "metadata": {},
     "output_type": "execute_result"
    }
   ],
   "source": [
    "x += 1  \n",
    "id(x)"
   ]
  },
  {
   "cell_type": "code",
   "execution_count": null,
   "metadata": {},
   "outputs": [],
   "source": [
    "x = [10, 20, 30]\n",
    "y = x\n",
    "\n",
    "x[0] = 999\n",
    "print(y)\n",
    "\n",
    "x.append(40)\n",
    "print(y)"
   ]
  },
  {
   "cell_type": "code",
   "execution_count": 8,
   "metadata": {},
   "outputs": [
    {
     "data": {
      "text/plain": [
       "True"
      ]
     },
     "execution_count": 8,
     "metadata": {},
     "output_type": "execute_result"
    }
   ],
   "source": [
    "# I can ask if two values are equal\n",
    "\n",
    "x = 10\n",
    "y = 10\n",
    "\n",
    "x == y "
   ]
  },
  {
   "cell_type": "code",
   "execution_count": 9,
   "metadata": {},
   "outputs": [
    {
     "data": {
      "text/plain": [
       "True"
      ]
     },
     "execution_count": 9,
     "metadata": {},
     "output_type": "execute_result"
    }
   ],
   "source": [
    "# are they  the same object?\n",
    "\n",
    "x is y     # id(x) == id(y)"
   ]
  },
  {
   "cell_type": "code",
   "execution_count": 10,
   "metadata": {},
   "outputs": [
    {
     "data": {
      "text/plain": [
       "True"
      ]
     },
     "execution_count": 10,
     "metadata": {},
     "output_type": "execute_result"
    }
   ],
   "source": [
    "x = 1000\n",
    "y = 1000\n",
    "\n",
    "x == y"
   ]
  },
  {
   "cell_type": "code",
   "execution_count": 11,
   "metadata": {},
   "outputs": [
    {
     "data": {
      "text/plain": [
       "False"
      ]
     },
     "execution_count": 11,
     "metadata": {},
     "output_type": "execute_result"
    }
   ],
   "source": [
    "x is y"
   ]
  },
  {
   "cell_type": "code",
   "execution_count": 12,
   "metadata": {},
   "outputs": [
    {
     "name": "stdout",
     "output_type": "stream",
     "text": [
      "Yes, it is None!\n"
     ]
    }
   ],
   "source": [
    "x = None\n",
    "\n",
    "if x == None:    # not Pythonic!\n",
    "    print('Yes, it is None!')"
   ]
  },
  {
   "cell_type": "code",
   "execution_count": 13,
   "metadata": {},
   "outputs": [
    {
     "name": "stdout",
     "output_type": "stream",
     "text": [
      "Yes, it is None\n"
     ]
    }
   ],
   "source": [
    "if x is None:   \n",
    "    print('Yes, it is None')"
   ]
  },
  {
   "cell_type": "code",
   "execution_count": 14,
   "metadata": {},
   "outputs": [
    {
     "data": {
      "text/plain": [
       "True"
      ]
     },
     "execution_count": 14,
     "metadata": {},
     "output_type": "execute_result"
    }
   ],
   "source": [
    "x = 'abcd'\n",
    "y = 'abcd'\n",
    "\n",
    "x == y"
   ]
  },
  {
   "cell_type": "code",
   "execution_count": 15,
   "metadata": {},
   "outputs": [
    {
     "data": {
      "text/plain": [
       "True"
      ]
     },
     "execution_count": 15,
     "metadata": {},
     "output_type": "execute_result"
    }
   ],
   "source": [
    "x is y"
   ]
  },
  {
   "cell_type": "code",
   "execution_count": 16,
   "metadata": {},
   "outputs": [
    {
     "data": {
      "text/plain": [
       "True"
      ]
     },
     "execution_count": 16,
     "metadata": {},
     "output_type": "execute_result"
    }
   ],
   "source": [
    "x = 'ab.cd'\n",
    "y = 'ab.cd'\n",
    "\n",
    "x == y"
   ]
  },
  {
   "cell_type": "code",
   "execution_count": 17,
   "metadata": {},
   "outputs": [
    {
     "data": {
      "text/plain": [
       "False"
      ]
     },
     "execution_count": 17,
     "metadata": {},
     "output_type": "execute_result"
    }
   ],
   "source": [
    "x is y"
   ]
  },
  {
   "cell_type": "code",
   "execution_count": 18,
   "metadata": {},
   "outputs": [],
   "source": [
    "i = 10"
   ]
  },
  {
   "cell_type": "code",
   "execution_count": 19,
   "metadata": {},
   "outputs": [
    {
     "data": {
      "text/plain": [
       "{'__name__': '__main__',\n",
       " '__doc__': 'Automatically created module for IPython interactive environment',\n",
       " '__package__': None,\n",
       " '__loader__': None,\n",
       " '__spec__': None,\n",
       " '__builtin__': <module 'builtins' (built-in)>,\n",
       " '__builtins__': <module 'builtins' (built-in)>,\n",
       " '_ih': ['',\n",
       "  '2+3',\n",
       "  'x = 5\\nprint(x)',\n",
       "  'type(x)',\n",
       "  \"x = 'abcd'\\ntype(x)\",\n",
       "  'x = 10\\ny = x   \\n\\nx = 20\\nprint(y)',\n",
       "  'x = 10\\nid(x)  ',\n",
       "  'x += 1  \\nid(x)',\n",
       "  '# I can ask if two values are equal\\n\\nx = 10\\ny = 10\\n\\nx == y ',\n",
       "  '# are they  the same object?\\n\\nx is y     # id(x) == id(y)',\n",
       "  'x = 1000\\ny = 1000\\n\\nx == y',\n",
       "  'x is y',\n",
       "  \"x = None\\n\\nif x == None:\\n    print('Yes, it is None!')\",\n",
       "  \"if x is None:   \\n    print('Yes, it is None')\",\n",
       "  \"x = 'abcd'\\ny = 'abcd'\\n\\nx == y\",\n",
       "  'x is y',\n",
       "  \"x = 'ab.cd'\\ny = 'ab.cd'\\n\\nx == y\",\n",
       "  'x is y',\n",
       "  'i = 10',\n",
       "  'globals()'],\n",
       " '_oh': {1: 5,\n",
       "  3: int,\n",
       "  4: str,\n",
       "  6: 4387289840,\n",
       "  7: 4387289872,\n",
       "  8: True,\n",
       "  9: True,\n",
       "  10: True,\n",
       "  11: False,\n",
       "  14: True,\n",
       "  15: True,\n",
       "  16: True,\n",
       "  17: False},\n",
       " '_dh': [PosixPath('/Users/reuven/Courses/Current/arm-2024-q1-arm')],\n",
       " 'In': ['',\n",
       "  '2+3',\n",
       "  'x = 5\\nprint(x)',\n",
       "  'type(x)',\n",
       "  \"x = 'abcd'\\ntype(x)\",\n",
       "  'x = 10\\ny = x   \\n\\nx = 20\\nprint(y)',\n",
       "  'x = 10\\nid(x)  ',\n",
       "  'x += 1  \\nid(x)',\n",
       "  '# I can ask if two values are equal\\n\\nx = 10\\ny = 10\\n\\nx == y ',\n",
       "  '# are they  the same object?\\n\\nx is y     # id(x) == id(y)',\n",
       "  'x = 1000\\ny = 1000\\n\\nx == y',\n",
       "  'x is y',\n",
       "  \"x = None\\n\\nif x == None:\\n    print('Yes, it is None!')\",\n",
       "  \"if x is None:   \\n    print('Yes, it is None')\",\n",
       "  \"x = 'abcd'\\ny = 'abcd'\\n\\nx == y\",\n",
       "  'x is y',\n",
       "  \"x = 'ab.cd'\\ny = 'ab.cd'\\n\\nx == y\",\n",
       "  'x is y',\n",
       "  'i = 10',\n",
       "  'globals()'],\n",
       " 'Out': {1: 5,\n",
       "  3: int,\n",
       "  4: str,\n",
       "  6: 4387289840,\n",
       "  7: 4387289872,\n",
       "  8: True,\n",
       "  9: True,\n",
       "  10: True,\n",
       "  11: False,\n",
       "  14: True,\n",
       "  15: True,\n",
       "  16: True,\n",
       "  17: False},\n",
       " 'get_ipython': <bound method InteractiveShell.get_ipython of <ipykernel.zmqshell.ZMQInteractiveShell object at 0x107ae25a0>>,\n",
       " 'exit': <IPython.core.autocall.ZMQExitAutocall at 0x107bd3590>,\n",
       " 'quit': <IPython.core.autocall.ZMQExitAutocall at 0x107bd3590>,\n",
       " 'open': <function _io.open(file, mode='r', buffering=-1, encoding=None, errors=None, newline=None, closefd=True, opener=None)>,\n",
       " '_': False,\n",
       " '__': True,\n",
       " '___': True,\n",
       " '__session__': '/Users/reuven/Courses/Current/arm-2024-q1-arm/arm - 2024-02February-14.ipynb',\n",
       " '_i': 'i = 10',\n",
       " '_ii': 'x is y',\n",
       " '_iii': \"x = 'ab.cd'\\ny = 'ab.cd'\\n\\nx == y\",\n",
       " '_i1': '2+3',\n",
       " '_1': 5,\n",
       " '_i2': 'x = 5\\nprint(x)',\n",
       " 'x': 'ab.cd',\n",
       " '_i3': 'type(x)',\n",
       " '_3': int,\n",
       " '_i4': \"x = 'abcd'\\ntype(x)\",\n",
       " '_4': str,\n",
       " '_i5': 'x = 10\\ny = x   \\n\\nx = 20\\nprint(y)',\n",
       " 'y': 'ab.cd',\n",
       " '_i6': 'x = 10\\nid(x)  ',\n",
       " '_6': 4387289840,\n",
       " '_i7': 'x += 1  \\nid(x)',\n",
       " '_7': 4387289872,\n",
       " '_i8': '# I can ask if two values are equal\\n\\nx = 10\\ny = 10\\n\\nx == y ',\n",
       " '_8': True,\n",
       " '_i9': '# are they  the same object?\\n\\nx is y     # id(x) == id(y)',\n",
       " '_9': True,\n",
       " '_i10': 'x = 1000\\ny = 1000\\n\\nx == y',\n",
       " '_10': True,\n",
       " '_i11': 'x is y',\n",
       " '_11': False,\n",
       " '_i12': \"x = None\\n\\nif x == None:\\n    print('Yes, it is None!')\",\n",
       " '_i13': \"if x is None:   \\n    print('Yes, it is None')\",\n",
       " '_i14': \"x = 'abcd'\\ny = 'abcd'\\n\\nx == y\",\n",
       " '_14': True,\n",
       " '_i15': 'x is y',\n",
       " '_15': True,\n",
       " '_i16': \"x = 'ab.cd'\\ny = 'ab.cd'\\n\\nx == y\",\n",
       " '_16': True,\n",
       " '_i17': 'x is y',\n",
       " '_17': False,\n",
       " '_i18': 'i = 10',\n",
       " 'i': 10,\n",
       " '_i19': 'globals()'}"
      ]
     },
     "execution_count": 19,
     "metadata": {},
     "output_type": "execute_result"
    }
   ],
   "source": [
    "globals()"
   ]
  },
  {
   "cell_type": "code",
   "execution_count": 20,
   "metadata": {},
   "outputs": [
    {
     "data": {
      "text/plain": [
       "4425116688"
      ]
     },
     "execution_count": 20,
     "metadata": {},
     "output_type": "execute_result"
    }
   ],
   "source": [
    "x = 'abcd'\n",
    "id(x)"
   ]
  },
  {
   "cell_type": "code",
   "execution_count": 23,
   "metadata": {},
   "outputs": [
    {
     "data": {
      "text/plain": [
       "4425116688"
      ]
     },
     "execution_count": 23,
     "metadata": {},
     "output_type": "execute_result"
    }
   ],
   "source": [
    "# interning\n",
    "\n",
    "import sys\n",
    "\n",
    "id(sys.intern('abcd'))"
   ]
  },
  {
   "cell_type": "code",
   "execution_count": 24,
   "metadata": {},
   "outputs": [
    {
     "data": {
      "text/plain": [
       "4425116688"
      ]
     },
     "execution_count": 24,
     "metadata": {},
     "output_type": "execute_result"
    }
   ],
   "source": [
    "id(sys.intern('abcd'))"
   ]
  },
  {
   "cell_type": "code",
   "execution_count": 25,
   "metadata": {},
   "outputs": [
    {
     "data": {
      "text/plain": [
       "4425512256"
      ]
     },
     "execution_count": 25,
     "metadata": {},
     "output_type": "execute_result"
    }
   ],
   "source": [
    "id(sys.intern('ab.cd'))"
   ]
  },
  {
   "cell_type": "code",
   "execution_count": 26,
   "metadata": {},
   "outputs": [
    {
     "data": {
      "text/plain": [
       "4425512256"
      ]
     },
     "execution_count": 26,
     "metadata": {},
     "output_type": "execute_result"
    }
   ],
   "source": [
    "id(sys.intern('ab.cd'))"
   ]
  },
  {
   "cell_type": "code",
   "execution_count": 27,
   "metadata": {},
   "outputs": [
    {
     "data": {
      "text/plain": [
       "4425509040"
      ]
     },
     "execution_count": 27,
     "metadata": {},
     "output_type": "execute_result"
    }
   ],
   "source": [
    "x = 'ab.cd'\n",
    "id(x)"
   ]
  },
  {
   "cell_type": "code",
   "execution_count": 28,
   "metadata": {},
   "outputs": [],
   "source": [
    "x = sys.intern('ab.cd')"
   ]
  },
  {
   "cell_type": "code",
   "execution_count": 29,
   "metadata": {},
   "outputs": [
    {
     "data": {
      "text/plain": [
       "4425512256"
      ]
     },
     "execution_count": 29,
     "metadata": {},
     "output_type": "execute_result"
    }
   ],
   "source": [
    "id(x)"
   ]
  },
  {
   "cell_type": "code",
   "execution_count": 30,
   "metadata": {},
   "outputs": [
    {
     "data": {
      "text/plain": [
       "'3.12.1 (main, Jan 29 2024, 07:04:51) [Clang 15.0.0 (clang-1500.1.0.2.5)]'"
      ]
     },
     "execution_count": 30,
     "metadata": {},
     "output_type": "execute_result"
    }
   ],
   "source": [
    "import sys\n",
    "sys.version"
   ]
  },
  {
   "cell_type": "code",
   "execution_count": 31,
   "metadata": {},
   "outputs": [
    {
     "data": {
      "text/plain": [
       "28"
      ]
     },
     "execution_count": 31,
     "metadata": {},
     "output_type": "execute_result"
    }
   ],
   "source": [
    "i = 0\n",
    "\n",
    "sys.getsizeof(i)"
   ]
  },
  {
   "cell_type": "code",
   "execution_count": 32,
   "metadata": {},
   "outputs": [
    {
     "data": {
      "text/plain": [
       "28"
      ]
     },
     "execution_count": 32,
     "metadata": {},
     "output_type": "execute_result"
    }
   ],
   "source": [
    "i = 1\n",
    "sys.getsizeof(i)"
   ]
  },
  {
   "cell_type": "code",
   "execution_count": 33,
   "metadata": {},
   "outputs": [
    {
     "data": {
      "text/plain": [
       "32"
      ]
     },
     "execution_count": 33,
     "metadata": {},
     "output_type": "execute_result"
    }
   ],
   "source": [
    "i = 1234567890\n",
    "sys.getsizeof(i)"
   ]
  },
  {
   "cell_type": "code",
   "execution_count": 34,
   "metadata": {},
   "outputs": [],
   "source": [
    "i = i ** 1000"
   ]
  },
  {
   "cell_type": "code",
   "execution_count": 35,
   "metadata": {},
   "outputs": [
    {
     "data": {
      "text/plain": [
       "4052"
      ]
     },
     "execution_count": 35,
     "metadata": {},
     "output_type": "execute_result"
    }
   ],
   "source": [
    "sys.getsizeof(i)"
   ]
  },
  {
   "cell_type": "code",
   "execution_count": 36,
   "metadata": {},
   "outputs": [
    {
     "data": {
      "text/plain": [
       "56"
      ]
     },
     "execution_count": 36,
     "metadata": {},
     "output_type": "execute_result"
    }
   ],
   "source": [
    "mylist = []\n",
    "sys.getsizeof(mylist)"
   ]
  },
  {
   "cell_type": "code",
   "execution_count": 37,
   "metadata": {},
   "outputs": [
    {
     "data": {
      "text/plain": [
       "104"
      ]
     },
     "execution_count": 37,
     "metadata": {},
     "output_type": "execute_result"
    }
   ],
   "source": [
    "mylist = [10, 20, 30, 40, 50]\n",
    "sys.getsizeof(mylist)"
   ]
  },
  {
   "cell_type": "code",
   "execution_count": 38,
   "metadata": {},
   "outputs": [],
   "source": [
    "mylist[0] = 'abcdefghij' * 100_000"
   ]
  },
  {
   "cell_type": "code",
   "execution_count": 39,
   "metadata": {},
   "outputs": [
    {
     "data": {
      "text/plain": [
       "104"
      ]
     },
     "execution_count": 39,
     "metadata": {},
     "output_type": "execute_result"
    }
   ],
   "source": [
    "sys.getsizeof(mylist)"
   ]
  },
  {
   "cell_type": "code",
   "execution_count": 40,
   "metadata": {},
   "outputs": [
    {
     "name": "stdout",
     "output_type": "stream",
     "text": [
      "i=0, len(mylist)=0, sys.getsizeof(mylist)=56\n",
      "i=1, len(mylist)=1, sys.getsizeof(mylist)=88\n",
      "i=2, len(mylist)=2, sys.getsizeof(mylist)=88\n",
      "i=3, len(mylist)=3, sys.getsizeof(mylist)=88\n",
      "i=4, len(mylist)=4, sys.getsizeof(mylist)=88\n",
      "i=5, len(mylist)=5, sys.getsizeof(mylist)=120\n",
      "i=6, len(mylist)=6, sys.getsizeof(mylist)=120\n",
      "i=7, len(mylist)=7, sys.getsizeof(mylist)=120\n",
      "i=8, len(mylist)=8, sys.getsizeof(mylist)=120\n",
      "i=9, len(mylist)=9, sys.getsizeof(mylist)=184\n",
      "i=10, len(mylist)=10, sys.getsizeof(mylist)=184\n",
      "i=11, len(mylist)=11, sys.getsizeof(mylist)=184\n",
      "i=12, len(mylist)=12, sys.getsizeof(mylist)=184\n",
      "i=13, len(mylist)=13, sys.getsizeof(mylist)=184\n",
      "i=14, len(mylist)=14, sys.getsizeof(mylist)=184\n",
      "i=15, len(mylist)=15, sys.getsizeof(mylist)=184\n",
      "i=16, len(mylist)=16, sys.getsizeof(mylist)=184\n",
      "i=17, len(mylist)=17, sys.getsizeof(mylist)=248\n",
      "i=18, len(mylist)=18, sys.getsizeof(mylist)=248\n",
      "i=19, len(mylist)=19, sys.getsizeof(mylist)=248\n",
      "i=20, len(mylist)=20, sys.getsizeof(mylist)=248\n",
      "i=21, len(mylist)=21, sys.getsizeof(mylist)=248\n",
      "i=22, len(mylist)=22, sys.getsizeof(mylist)=248\n",
      "i=23, len(mylist)=23, sys.getsizeof(mylist)=248\n",
      "i=24, len(mylist)=24, sys.getsizeof(mylist)=248\n",
      "i=25, len(mylist)=25, sys.getsizeof(mylist)=312\n",
      "i=26, len(mylist)=26, sys.getsizeof(mylist)=312\n",
      "i=27, len(mylist)=27, sys.getsizeof(mylist)=312\n",
      "i=28, len(mylist)=28, sys.getsizeof(mylist)=312\n",
      "i=29, len(mylist)=29, sys.getsizeof(mylist)=312\n"
     ]
    }
   ],
   "source": [
    "mylist = []\n",
    "\n",
    "for i in range(30):\n",
    "    print(f'{i=}, {len(mylist)=}, {sys.getsizeof(mylist)=}')   # format string / fancy string\n",
    "    mylist.append(i)"
   ]
  },
  {
   "cell_type": "code",
   "execution_count": 41,
   "metadata": {},
   "outputs": [
    {
     "data": {
      "text/plain": [
       "80"
      ]
     },
     "execution_count": 41,
     "metadata": {},
     "output_type": "execute_result"
    }
   ],
   "source": [
    "t = (10, 20, 30, 40, 50)\n",
    "sys.getsizeof(t)"
   ]
  },
  {
   "cell_type": "code",
   "execution_count": 42,
   "metadata": {},
   "outputs": [],
   "source": [
    "person = ('Reuven', 'Lerner', 46)"
   ]
  },
  {
   "cell_type": "code",
   "execution_count": 43,
   "metadata": {},
   "outputs": [
    {
     "data": {
      "text/plain": [
       "'Reuven'"
      ]
     },
     "execution_count": 43,
     "metadata": {},
     "output_type": "execute_result"
    }
   ],
   "source": [
    "person[0]"
   ]
  },
  {
   "cell_type": "code",
   "execution_count": 44,
   "metadata": {},
   "outputs": [
    {
     "data": {
      "text/plain": [
       "'Lerner'"
      ]
     },
     "execution_count": 44,
     "metadata": {},
     "output_type": "execute_result"
    }
   ],
   "source": [
    "person[1]"
   ]
  },
  {
   "cell_type": "code",
   "execution_count": 45,
   "metadata": {},
   "outputs": [
    {
     "data": {
      "text/plain": [
       "46"
      ]
     },
     "execution_count": 45,
     "metadata": {},
     "output_type": "execute_result"
    }
   ],
   "source": [
    "person[2]"
   ]
  },
  {
   "cell_type": "code",
   "execution_count": 46,
   "metadata": {},
   "outputs": [],
   "source": [
    "# namedtuple\n",
    "\n",
    "from collections import namedtuple"
   ]
  },
  {
   "cell_type": "code",
   "execution_count": 47,
   "metadata": {},
   "outputs": [],
   "source": [
    "Person = namedtuple('Person', ['first', 'last', 'shoesize'])"
   ]
  },
  {
   "cell_type": "code",
   "execution_count": 48,
   "metadata": {},
   "outputs": [
    {
     "data": {
      "text/plain": [
       "type"
      ]
     },
     "execution_count": 48,
     "metadata": {},
     "output_type": "execute_result"
    }
   ],
   "source": [
    "type(Person)"
   ]
  },
  {
   "cell_type": "code",
   "execution_count": 49,
   "metadata": {},
   "outputs": [
    {
     "data": {
      "text/plain": [
       "(tuple,)"
      ]
     },
     "execution_count": 49,
     "metadata": {},
     "output_type": "execute_result"
    }
   ],
   "source": [
    "Person.__bases__"
   ]
  },
  {
   "cell_type": "code",
   "execution_count": 50,
   "metadata": {},
   "outputs": [
    {
     "data": {
      "text/plain": [
       "'str'"
      ]
     },
     "execution_count": 50,
     "metadata": {},
     "output_type": "execute_result"
    }
   ],
   "source": [
    "str.__name__"
   ]
  },
  {
   "cell_type": "code",
   "execution_count": 51,
   "metadata": {},
   "outputs": [
    {
     "data": {
      "text/plain": [
       "'list'"
      ]
     },
     "execution_count": 51,
     "metadata": {},
     "output_type": "execute_result"
    }
   ],
   "source": [
    "list.__name__"
   ]
  },
  {
   "cell_type": "code",
   "execution_count": 52,
   "metadata": {},
   "outputs": [
    {
     "data": {
      "text/plain": [
       "'Person'"
      ]
     },
     "execution_count": 52,
     "metadata": {},
     "output_type": "execute_result"
    }
   ],
   "source": [
    "Person.__name__"
   ]
  },
  {
   "cell_type": "code",
   "execution_count": 53,
   "metadata": {},
   "outputs": [],
   "source": [
    "Person.__name__ = 'otherthing'"
   ]
  },
  {
   "cell_type": "code",
   "execution_count": 54,
   "metadata": {},
   "outputs": [
    {
     "data": {
      "text/plain": [
       "'otherthing'"
      ]
     },
     "execution_count": 54,
     "metadata": {},
     "output_type": "execute_result"
    }
   ],
   "source": [
    "Person.__name__"
   ]
  },
  {
   "cell_type": "code",
   "execution_count": 55,
   "metadata": {},
   "outputs": [],
   "source": [
    "Person = namedtuple('Dog', ['first', 'last', 'shoesize'])"
   ]
  },
  {
   "cell_type": "code",
   "execution_count": 56,
   "metadata": {},
   "outputs": [
    {
     "data": {
      "text/plain": [
       "'Dog'"
      ]
     },
     "execution_count": 56,
     "metadata": {},
     "output_type": "execute_result"
    }
   ],
   "source": [
    "Person.__name__"
   ]
  },
  {
   "cell_type": "code",
   "execution_count": 57,
   "metadata": {},
   "outputs": [],
   "source": [
    "p = Person('Reuven', 'Lerner', 46)"
   ]
  },
  {
   "cell_type": "code",
   "execution_count": 58,
   "metadata": {},
   "outputs": [
    {
     "data": {
      "text/plain": [
       "'Reuven'"
      ]
     },
     "execution_count": 58,
     "metadata": {},
     "output_type": "execute_result"
    }
   ],
   "source": [
    "p[0]"
   ]
  },
  {
   "cell_type": "code",
   "execution_count": 59,
   "metadata": {},
   "outputs": [
    {
     "data": {
      "text/plain": [
       "'Lerner'"
      ]
     },
     "execution_count": 59,
     "metadata": {},
     "output_type": "execute_result"
    }
   ],
   "source": [
    "p[1]"
   ]
  },
  {
   "cell_type": "code",
   "execution_count": 60,
   "metadata": {},
   "outputs": [
    {
     "data": {
      "text/plain": [
       "46"
      ]
     },
     "execution_count": 60,
     "metadata": {},
     "output_type": "execute_result"
    }
   ],
   "source": [
    "p[2]"
   ]
  },
  {
   "cell_type": "code",
   "execution_count": 61,
   "metadata": {},
   "outputs": [
    {
     "data": {
      "text/plain": [
       "'Reuven'"
      ]
     },
     "execution_count": 61,
     "metadata": {},
     "output_type": "execute_result"
    }
   ],
   "source": [
    "p.first"
   ]
  },
  {
   "cell_type": "code",
   "execution_count": 62,
   "metadata": {},
   "outputs": [
    {
     "data": {
      "text/plain": [
       "'Lerner'"
      ]
     },
     "execution_count": 62,
     "metadata": {},
     "output_type": "execute_result"
    }
   ],
   "source": [
    "p.last"
   ]
  },
  {
   "cell_type": "code",
   "execution_count": 63,
   "metadata": {},
   "outputs": [
    {
     "data": {
      "text/plain": [
       "46"
      ]
     },
     "execution_count": 63,
     "metadata": {},
     "output_type": "execute_result"
    }
   ],
   "source": [
    "p.shoesize"
   ]
  },
  {
   "cell_type": "code",
   "execution_count": 64,
   "metadata": {},
   "outputs": [
    {
     "data": {
      "text/plain": [
       "Dog(first='Reuven', last='Lerner', shoesize=46)"
      ]
     },
     "execution_count": 64,
     "metadata": {},
     "output_type": "execute_result"
    }
   ],
   "source": [
    "p"
   ]
  },
  {
   "cell_type": "code",
   "execution_count": 65,
   "metadata": {},
   "outputs": [],
   "source": [
    "Person = namedtuple('Person', ['first', 'last', 'shoesize'])"
   ]
  },
  {
   "cell_type": "code",
   "execution_count": 66,
   "metadata": {},
   "outputs": [],
   "source": [
    "p = Person('Reuven', 'Lerner', 46)"
   ]
  },
  {
   "cell_type": "code",
   "execution_count": 67,
   "metadata": {},
   "outputs": [
    {
     "data": {
      "text/plain": [
       "Person(first='Reuven', last='Lerner', shoesize=46)"
      ]
     },
     "execution_count": 67,
     "metadata": {},
     "output_type": "execute_result"
    }
   ],
   "source": [
    "p"
   ]
  },
  {
   "cell_type": "code",
   "execution_count": 68,
   "metadata": {},
   "outputs": [
    {
     "data": {
      "text/plain": [
       "Person(first='OtherName', last='Lerner', shoesize=46)"
      ]
     },
     "execution_count": 68,
     "metadata": {},
     "output_type": "execute_result"
    }
   ],
   "source": [
    "# _replace returns a new tuple\n",
    "# \n",
    "p._replace(first='OtherName')"
   ]
  },
  {
   "cell_type": "markdown",
   "metadata": {},
   "source": [
    "# Exercise: Bookstore\n",
    "\n",
    "1. Define a `Book` class using `namedtuple` with fields `title`, `price`, `author`.\n",
    "2. Define a list, `inventory`, with 4 instances of `Book`.\n",
    "3. Ask the user, repeatedly, what book they want to buy.\n",
    "    - Empty string? Stop asking\n",
    "    - A book that is in `inventory`? Print all details, and add price to `total`\n",
    "    - Not there? Scold the user a bit\n",
    "4. In the end, tell the user the total bill."
   ]
  },
  {
   "cell_type": "code",
   "execution_count": 1,
   "metadata": {},
   "outputs": [],
   "source": [
    "from collections import namedtuple\n",
    "\n",
    "Book = namedtuple('Book', ['title', 'price', 'author'])\n",
    "\n",
    "# Book = namedtuple('Book', 'title price author')\n",
    "\n",
    "b1 = Book('title1', 100, 'author1')\n",
    "b2 = Book('title2', 75, 'author2')\n",
    "b3 = Book('title3', 150, 'author1')\n",
    "b4 = Book('title4', 130, 'author2')\n",
    "\n",
    "inventory = [b1, b2, b3, b4]\n",
    "total = 0\n",
    "\n",
    "while True:\n",
    "    to_buy = input('Enter book: ').strip()\n",
    "\n",
    "    # if to_buy == '':   # not Pythonic\n",
    "    #     break\n",
    "\n",
    "    if not to_buy:\n",
    "        break\n",
    "\n",
    "    for one_book in inventory:\n",
    "        if one_book.title == to_buy:\n",
    "            total += one_book.price\n",
    "            print(f'{to_buy} costs {one_book.price}; ')"
   ]
  },
  {
   "cell_type": "code",
   "execution_count": null,
   "metadata": {},
   "outputs": [],
   "source": []
  }
 ],
 "metadata": {
  "kernelspec": {
   "display_name": "Python 3 (ipykernel)",
   "language": "python",
   "name": "python3"
  },
  "language_info": {
   "codemirror_mode": {
    "name": "ipython",
    "version": 3
   },
   "file_extension": ".py",
   "mimetype": "text/x-python",
   "name": "python",
   "nbconvert_exporter": "python",
   "pygments_lexer": "ipython3",
   "version": "3.12.1"
  },
  "widgets": {
   "application/vnd.jupyter.widget-state+json": {
    "state": {},
    "version_major": 2,
    "version_minor": 0
   }
  }
 },
 "nbformat": 4,
 "nbformat_minor": 4
}
