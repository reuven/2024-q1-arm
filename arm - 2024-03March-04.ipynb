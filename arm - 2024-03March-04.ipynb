{
 "cells": [
  {
   "cell_type": "markdown",
   "id": "1bfcb0ed-673f-4066-9954-d430e84e8b40",
   "metadata": {},
   "source": [
    "# Agenda\n",
    "\n",
    "- Recap + exercise with magic methods\n",
    "- Memory, `__del__`\n",
    "- Object system \n",
    "- Properties and descriptors\n",
    "- Iterators\n",
    "- Generator functions\n",
    "- Generator expressions\n",
    "- `itertools`"
   ]
  },
  {
   "cell_type": "code",
   "execution_count": 1,
   "id": "35a1bd81-6170-4bcd-9b45-a65ada996545",
   "metadata": {},
   "outputs": [
    {
     "data": {
      "text/plain": [
       "4"
      ]
     },
     "execution_count": 1,
     "metadata": {},
     "output_type": "execute_result"
    }
   ],
   "source": [
    "s = 'abcd'\n",
    "\n",
    "len(s)"
   ]
  },
  {
   "cell_type": "code",
   "execution_count": 3,
   "id": "5241b725-be2b-4583-b5b4-8a5df4888fa4",
   "metadata": {},
   "outputs": [
    {
     "data": {
      "text/plain": [
       "4"
      ]
     },
     "execution_count": 3,
     "metadata": {},
     "output_type": "execute_result"
    }
   ],
   "source": [
    "# len actually runs __len__ on the object\n",
    "\n",
    "s.__len__()  # we can run this, but we shouldn't!"
   ]
  },
  {
   "cell_type": "code",
   "execution_count": 4,
   "id": "0e67336f-e090-4fa6-8fc1-2d36478a1e94",
   "metadata": {},
   "outputs": [
    {
     "ename": "TypeError",
     "evalue": "object of type 'MyClass' has no len()",
     "output_type": "error",
     "traceback": [
      "\u001b[0;31m---------------------------------------------------------------------------\u001b[0m",
      "\u001b[0;31mTypeError\u001b[0m                                 Traceback (most recent call last)",
      "Cell \u001b[0;32mIn[4], line 6\u001b[0m\n\u001b[1;32m      3\u001b[0m         \u001b[38;5;28mself\u001b[39m\u001b[38;5;241m.\u001b[39mx \u001b[38;5;241m=\u001b[39m x\n\u001b[1;32m      5\u001b[0m m \u001b[38;5;241m=\u001b[39m MyClass(\u001b[38;5;124m'\u001b[39m\u001b[38;5;124mabcd\u001b[39m\u001b[38;5;124m'\u001b[39m)\n\u001b[0;32m----> 6\u001b[0m \u001b[38;5;28;43mlen\u001b[39;49m\u001b[43m(\u001b[49m\u001b[43mm\u001b[49m\u001b[43m)\u001b[49m \n",
      "\u001b[0;31mTypeError\u001b[0m: object of type 'MyClass' has no len()"
     ]
    }
   ],
   "source": [
    "class MyClass:\n",
    "    def __init__(self, x):\n",
    "        self.x = x\n",
    "\n",
    "m = MyClass('abcd')\n",
    "len(m) "
   ]
  },
  {
   "cell_type": "code",
   "execution_count": 5,
   "id": "b3ddec30-f3b7-4dd2-92fe-97413037ee55",
   "metadata": {},
   "outputs": [
    {
     "name": "stdout",
     "output_type": "stream",
     "text": [
      "Now in __len__ of MyClass, with self.x='abcd'\n"
     ]
    },
    {
     "data": {
      "text/plain": [
       "4"
      ]
     },
     "execution_count": 5,
     "metadata": {},
     "output_type": "execute_result"
    }
   ],
   "source": [
    "class MyClass:\n",
    "    def __init__(self, x):\n",
    "        self.x = x\n",
    "    def __len__(self):\n",
    "        print(f'Now in __len__ of MyClass, with {self.x=}')\n",
    "        return len(self.x)\n",
    "\n",
    "m = MyClass('abcd')\n",
    "len(m) "
   ]
  },
  {
   "cell_type": "code",
   "execution_count": 6,
   "id": "b24ae180-dfd4-477e-b415-877a4d6b1b4b",
   "metadata": {},
   "outputs": [
    {
     "name": "stdout",
     "output_type": "stream",
     "text": [
      "<__main__.MyClass object at 0x1122fe720>\n"
     ]
    }
   ],
   "source": [
    "# __str__ \n",
    "\n",
    "print(m)"
   ]
  },
  {
   "cell_type": "code",
   "execution_count": 7,
   "id": "21d48aa9-ad12-49eb-9fe2-32fdd21b0c94",
   "metadata": {},
   "outputs": [],
   "source": [
    "# print(str(m) --> print(m.__str__()) "
   ]
  },
  {
   "cell_type": "code",
   "execution_count": 8,
   "id": "df323ab0-f8bb-4357-b007-00ad05ebd72a",
   "metadata": {},
   "outputs": [
    {
     "data": {
      "text/plain": [
       "'<__main__.MyClass object at 0x1122fe720>'"
      ]
     },
     "execution_count": 8,
     "metadata": {},
     "output_type": "execute_result"
    }
   ],
   "source": [
    "object.__str__(m)"
   ]
  },
  {
   "cell_type": "code",
   "execution_count": 13,
   "id": "218bef70-8eec-49ce-ad0f-dee2edf081a0",
   "metadata": {},
   "outputs": [
    {
     "name": "stdout",
     "output_type": "stream",
     "text": [
      "Now in __len__ of MyClass, with self.x='abcd'\n"
     ]
    },
    {
     "data": {
      "text/plain": [
       "4"
      ]
     },
     "execution_count": 13,
     "metadata": {},
     "output_type": "execute_result"
    }
   ],
   "source": [
    "class MyClass:\n",
    "    def __init__(self, x):\n",
    "        self.x = x\n",
    "    def __len__(self):\n",
    "        print(f'Now in __len__ of MyClass, with {self.x=}')\n",
    "        return len(self.x)\n",
    "    def __str__(self):\n",
    "        print(f'Now in __str__ of MyClass, with {self.x=}')\n",
    "        return str(self.x)\n",
    "    def __repr__(self):\n",
    "        print(f'Now in __repr__ of MyClass, with {self.x=}')\n",
    "        return str(self.x)\n",
    "\n",
    "\n",
    "m = MyClass('abcd')\n",
    "len(m) "
   ]
  },
  {
   "cell_type": "code",
   "execution_count": 14,
   "id": "7beeb2e8-4cbe-4c94-985d-f78921c2d241",
   "metadata": {},
   "outputs": [
    {
     "name": "stdout",
     "output_type": "stream",
     "text": [
      "Now in __str__ of MyClass, with self.x='abcd'\n",
      "abcd\n"
     ]
    }
   ],
   "source": [
    "print(m)"
   ]
  },
  {
   "cell_type": "code",
   "execution_count": 15,
   "id": "7b8f8893-10c1-4cfc-93fa-ab7a0d15eaa3",
   "metadata": {},
   "outputs": [
    {
     "name": "stdout",
     "output_type": "stream",
     "text": [
      "Now in __str__ of MyClass, with self.x='abcd'\n"
     ]
    },
    {
     "data": {
      "text/plain": [
       "'abcd'"
      ]
     },
     "execution_count": 15,
     "metadata": {},
     "output_type": "execute_result"
    }
   ],
   "source": [
    "str(m)"
   ]
  },
  {
   "cell_type": "code",
   "execution_count": 16,
   "id": "59815a36-e627-4c64-9091-80c402dda626",
   "metadata": {},
   "outputs": [
    {
     "name": "stdout",
     "output_type": "stream",
     "text": [
      "Now in __repr__ of MyClass, with self.x='abcd'\n"
     ]
    },
    {
     "data": {
      "text/plain": [
       "abcd"
      ]
     },
     "execution_count": 16,
     "metadata": {},
     "output_type": "execute_result"
    }
   ],
   "source": [
    "m"
   ]
  },
  {
   "cell_type": "code",
   "execution_count": 17,
   "id": "2d7ef376-9f53-49a9-9fc4-289c96caf42f",
   "metadata": {},
   "outputs": [
    {
     "name": "stdout",
     "output_type": "stream",
     "text": [
      "Now in __repr__ of MyClass, with self.x='abcd'\n",
      "[abcd]\n"
     ]
    }
   ],
   "source": [
    "mylist = [m]\n",
    "print(mylist)"
   ]
  },
  {
   "cell_type": "code",
   "execution_count": 18,
   "id": "881fdd47-2cd7-4758-a0c2-b73f0d054db1",
   "metadata": {},
   "outputs": [
    {
     "name": "stdout",
     "output_type": "stream",
     "text": [
      "Now in __str__ of MyClass, with self.x='abcd'\n",
      "my m is abcd\n"
     ]
    }
   ],
   "source": [
    "print(f'my m is {m}')"
   ]
  },
  {
   "cell_type": "code",
   "execution_count": 19,
   "id": "bb962874-8dcd-4528-b05d-f84a21f0828d",
   "metadata": {},
   "outputs": [
    {
     "name": "stdout",
     "output_type": "stream",
     "text": [
      "Now in __len__ of MyClass, with self.x='abcd'\n"
     ]
    },
    {
     "data": {
      "text/plain": [
       "4"
      ]
     },
     "execution_count": 19,
     "metadata": {},
     "output_type": "execute_result"
    }
   ],
   "source": [
    "class MyClass:\n",
    "    def __init__(self, x):\n",
    "        self.x = x\n",
    "    def __len__(self):\n",
    "        print(f'Now in __len__ of MyClass, with {self.x=}')\n",
    "        return len(self.x)\n",
    "    # def __str__(self):\n",
    "    #     print(f'Now in __str__ of MyClass, with {self.x=}')\n",
    "    #     return str(self.x)\n",
    "    def __repr__(self):\n",
    "        print(f'Now in __repr__ of MyClass, with {self.x=}')\n",
    "        return str(self.x)\n",
    "\n",
    "m = MyClass('abcd')\n",
    "len(m) "
   ]
  },
  {
   "cell_type": "code",
   "execution_count": 20,
   "id": "9f2ea4fd-5712-46a5-8040-19aae6afdc2b",
   "metadata": {},
   "outputs": [
    {
     "name": "stdout",
     "output_type": "stream",
     "text": [
      "Now in __repr__ of MyClass, with self.x='abcd'\n",
      "abcd\n"
     ]
    }
   ],
   "source": [
    "print(m)"
   ]
  },
  {
   "cell_type": "code",
   "execution_count": 21,
   "id": "41c615e7-96ec-4dbe-9f0b-e8b073b1724f",
   "metadata": {},
   "outputs": [
    {
     "name": "stdout",
     "output_type": "stream",
     "text": [
      "Now in __repr__ of MyClass, with self.x='abcd'\n"
     ]
    },
    {
     "data": {
      "text/plain": [
       "abcd"
      ]
     },
     "execution_count": 21,
     "metadata": {},
     "output_type": "execute_result"
    }
   ],
   "source": [
    "m"
   ]
  },
  {
   "cell_type": "code",
   "execution_count": 22,
   "id": "e95346d7-5b98-4d1d-8b23-dec791fb691f",
   "metadata": {},
   "outputs": [
    {
     "name": "stdout",
     "output_type": "stream",
     "text": [
      "Now in __repr__ of MyClass, with self.x='abcd'\n"
     ]
    },
    {
     "data": {
      "text/plain": [
       "'abcd'"
      ]
     },
     "execution_count": 22,
     "metadata": {},
     "output_type": "execute_result"
    }
   ],
   "source": [
    "str(m)"
   ]
  },
  {
   "cell_type": "code",
   "execution_count": 23,
   "id": "7c81f202-f840-4ed3-bac1-2e6649585706",
   "metadata": {},
   "outputs": [],
   "source": [
    "m.__repr__ = lambda: 'I am the repr!'"
   ]
  },
  {
   "cell_type": "code",
   "execution_count": 24,
   "id": "ac869e8c-b2ac-44de-9bea-e7bc726655d8",
   "metadata": {},
   "outputs": [
    {
     "name": "stdout",
     "output_type": "stream",
     "text": [
      "Now in __repr__ of MyClass, with self.x='abcd'\n"
     ]
    },
    {
     "data": {
      "text/plain": [
       "'abcd'"
      ]
     },
     "execution_count": 24,
     "metadata": {},
     "output_type": "execute_result"
    }
   ],
   "source": [
    "str(m)"
   ]
  },
  {
   "cell_type": "code",
   "execution_count": 25,
   "id": "337d328b-e43f-4972-b4ad-06f19a88601c",
   "metadata": {},
   "outputs": [
    {
     "name": "stdout",
     "output_type": "stream",
     "text": [
      "Now in __repr__ of MyClass, with self.x='abcd'\n",
      "abcd\n"
     ]
    }
   ],
   "source": [
    "print(m)"
   ]
  },
  {
   "cell_type": "code",
   "execution_count": 26,
   "id": "f323924a-ff76-46bb-90a0-362b98c540b6",
   "metadata": {},
   "outputs": [
    {
     "name": "stdout",
     "output_type": "stream",
     "text": [
      "Now in __repr__ of MyClass, with self.x='abcd'\n"
     ]
    },
    {
     "data": {
      "text/plain": [
       "abcd"
      ]
     },
     "execution_count": 26,
     "metadata": {},
     "output_type": "execute_result"
    }
   ],
   "source": [
    "m"
   ]
  },
  {
   "cell_type": "code",
   "execution_count": 27,
   "id": "15a8f0e9-bd3c-4933-a740-37d60e75ac50",
   "metadata": {},
   "outputs": [
    {
     "data": {
      "text/plain": [
       "'I am the repr!'"
      ]
     },
     "execution_count": 27,
     "metadata": {},
     "output_type": "execute_result"
    }
   ],
   "source": [
    "m.__repr__()"
   ]
  },
  {
   "cell_type": "code",
   "execution_count": 28,
   "id": "af17d356-0f35-458a-b444-2cf7a8c2c60d",
   "metadata": {},
   "outputs": [
    {
     "name": "stdout",
     "output_type": "stream",
     "text": [
      "Now in __len__ of MyClass, with self.x='abcd'\n"
     ]
    },
    {
     "data": {
      "text/plain": [
       "4"
      ]
     },
     "execution_count": 28,
     "metadata": {},
     "output_type": "execute_result"
    }
   ],
   "source": [
    "class MyClass:\n",
    "    def __init__(self, x):\n",
    "        self.x = x\n",
    "    def __len__(self):\n",
    "        print(f'Now in __len__ of MyClass, with {self.x=}')\n",
    "        return len(self.x)\n",
    "    # def __str__(self):\n",
    "    #     print(f'Now in __str__ of MyClass, with {self.x=}')\n",
    "    #     return str(self.x)\n",
    "    def __repr__(self):\n",
    "        print(f'Now in __repr__ of MyClass, with {self.x=}')\n",
    "        return str(self.x)\n",
    "    def hello(self):\n",
    "        return f'Hello, {vars(self)=}'\n",
    "\n",
    "m = MyClass('abcd')\n",
    "len(m) "
   ]
  },
  {
   "cell_type": "code",
   "execution_count": 30,
   "id": "1e970f73-28a1-4768-a84b-8f9f2cdf228b",
   "metadata": {},
   "outputs": [
    {
     "data": {
      "text/plain": [
       "\"Hello, vars(self)={'x': 'abcd'}\""
      ]
     },
     "execution_count": 30,
     "metadata": {},
     "output_type": "execute_result"
    }
   ],
   "source": [
    "m.hello() # m has hello? no.  MyClass has hello? yes"
   ]
  },
  {
   "cell_type": "code",
   "execution_count": 31,
   "id": "39b05e7b-0a87-45b7-a39f-238d5a358fc7",
   "metadata": {},
   "outputs": [],
   "source": [
    "# can we directly assign a function object to an instance? Yes, but don't do it!\n",
    "m.hello = lambda: 'Actually, goodbye!'"
   ]
  },
  {
   "cell_type": "code",
   "execution_count": 32,
   "id": "b3cedcb8-140d-4cd9-877f-29e0f9ced13a",
   "metadata": {},
   "outputs": [
    {
     "data": {
      "text/plain": [
       "'Actually, goodbye!'"
      ]
     },
     "execution_count": 32,
     "metadata": {},
     "output_type": "execute_result"
    }
   ],
   "source": [
    "\n",
    "m.hello()"
   ]
  },
  {
   "cell_type": "code",
   "execution_count": 33,
   "id": "155efc2e-6aec-4596-8078-4bfbc2e66b7a",
   "metadata": {},
   "outputs": [
    {
     "name": "stdout",
     "output_type": "stream",
     "text": [
      "Now in __len__ of MyClass, with self.x='abcd'\n"
     ]
    },
    {
     "data": {
      "text/plain": [
       "4"
      ]
     },
     "execution_count": 33,
     "metadata": {},
     "output_type": "execute_result"
    }
   ],
   "source": [
    "class MyClass:\n",
    "    def __init__(self, x):\n",
    "        self.x = x\n",
    "    def __len__(self):\n",
    "        print(f'Now in __len__ of MyClass, with {self.x=}')\n",
    "        return len(self.x)\n",
    "    # def __str__(self):\n",
    "    #     print(f'Now in __str__ of MyClass, with {self.x=}')\n",
    "    #     return str(self.x)\n",
    "    def __repr__(self):\n",
    "        print(f'Now in __repr__ of MyClass, with {self.x=}')\n",
    "        return str(self.x)\n",
    "    def hello(self):\n",
    "        return f'Hello, {vars(self)=}'\n",
    "\n",
    "m = MyClass('abcd')\n",
    "len(m) "
   ]
  },
  {
   "cell_type": "code",
   "execution_count": 34,
   "id": "77a6e989-2bc6-47ad-8ef7-665f44d5d3c7",
   "metadata": {},
   "outputs": [
    {
     "ename": "TypeError",
     "evalue": "int() argument must be a string, a bytes-like object or a real number, not 'MyClass'",
     "output_type": "error",
     "traceback": [
      "\u001b[0;31m---------------------------------------------------------------------------\u001b[0m",
      "\u001b[0;31mTypeError\u001b[0m                                 Traceback (most recent call last)",
      "Cell \u001b[0;32mIn[34], line 2\u001b[0m\n\u001b[1;32m      1\u001b[0m \u001b[38;5;66;03m# can I turn m into an instance?\u001b[39;00m\n\u001b[0;32m----> 2\u001b[0m \u001b[38;5;28;43mint\u001b[39;49m\u001b[43m(\u001b[49m\u001b[43mm\u001b[49m\u001b[43m)\u001b[49m\n",
      "\u001b[0;31mTypeError\u001b[0m: int() argument must be a string, a bytes-like object or a real number, not 'MyClass'"
     ]
    }
   ],
   "source": [
    "# can I turn m into an instance?\n",
    "int(m)"
   ]
  },
  {
   "cell_type": "code",
   "execution_count": 37,
   "id": "9bebd774-21cc-48e6-a02f-a25473b3093e",
   "metadata": {},
   "outputs": [
    {
     "name": "stdout",
     "output_type": "stream",
     "text": [
      "Now in __len__ of MyClass, with self.x='abcd'\n"
     ]
    },
    {
     "data": {
      "text/plain": [
       "4"
      ]
     },
     "execution_count": 37,
     "metadata": {},
     "output_type": "execute_result"
    }
   ],
   "source": [
    "class MyClass:\n",
    "    def __init__(self, x):\n",
    "        self.x = x\n",
    "    def __len__(self):\n",
    "        print(f'Now in __len__ of MyClass, with {self.x=}')\n",
    "        return len(self.x)\n",
    "    # def __str__(self):\n",
    "    #     print(f'Now in __str__ of MyClass, with {self.x=}')\n",
    "    #     return str(self.x)\n",
    "    def __repr__(self):\n",
    "        print(f'Now in __repr__ of MyClass, with {self.x=}')\n",
    "        return str(self.x)\n",
    "    def hello(self):\n",
    "        return f'Hello, {vars(self)=}'\n",
    "    def __int__(self):\n",
    "        try:\n",
    "            return int(self.x)\n",
    "        except ValueError:\n",
    "            return 0\n",
    "\n",
    "m = MyClass('abcd')\n",
    "len(m) "
   ]
  },
  {
   "cell_type": "code",
   "execution_count": 38,
   "id": "dabb45c7-6cb6-4d64-b2bf-fd0655c7adfb",
   "metadata": {},
   "outputs": [
    {
     "data": {
      "text/plain": [
       "0"
      ]
     },
     "execution_count": 38,
     "metadata": {},
     "output_type": "execute_result"
    }
   ],
   "source": [
    "int(m)"
   ]
  },
  {
   "cell_type": "code",
   "execution_count": 39,
   "id": "1cbe30e6-2f4b-4d6c-800f-0661ed2642f7",
   "metadata": {},
   "outputs": [
    {
     "data": {
      "text/plain": [
       "1234"
      ]
     },
     "execution_count": 39,
     "metadata": {},
     "output_type": "execute_result"
    }
   ],
   "source": [
    "m = MyClass('1234')\n",
    "int(m)"
   ]
  },
  {
   "cell_type": "code",
   "execution_count": 40,
   "id": "760b0061-5d74-4410-93d9-a12e38a5905a",
   "metadata": {},
   "outputs": [
    {
     "name": "stdout",
     "output_type": "stream",
     "text": [
      "Yes, it is 100\n"
     ]
    }
   ],
   "source": [
    "x = 100\n",
    "\n",
    "if x == 100:\n",
    "    print('Yes, it is 100')\n",
    "else:\n",
    "    print('No, it is not 100')"
   ]
  },
  {
   "cell_type": "code",
   "execution_count": 41,
   "id": "591f07c4-e23b-4fab-9b14-cd9231f91fb1",
   "metadata": {},
   "outputs": [
    {
     "name": "stdout",
     "output_type": "stream",
     "text": [
      "Yes, it is True-ish\n"
     ]
    }
   ],
   "source": [
    "x = 100\n",
    "\n",
    "if x:\n",
    "    print('Yes, it is True-ish')\n",
    "else:\n",
    "    print('No, it is False-ish')"
   ]
  },
  {
   "cell_type": "code",
   "execution_count": 42,
   "id": "38ce3fcb-c6ee-4e3b-bd1f-060c8ef20f9e",
   "metadata": {},
   "outputs": [
    {
     "data": {
      "text/plain": [
       "True"
      ]
     },
     "execution_count": 42,
     "metadata": {},
     "output_type": "execute_result"
    }
   ],
   "source": [
    "x.__bool__()"
   ]
  },
  {
   "cell_type": "code",
   "execution_count": 45,
   "id": "4b845074-8abe-4449-9239-007877cb3b39",
   "metadata": {},
   "outputs": [],
   "source": [
    "class MyClass:\n",
    "    def __init__(self, x):\n",
    "        self.x = x\n",
    "    def __len__(self):\n",
    "        print(f'Now in __len__ of MyClass, with {self.x=}')\n",
    "        return len(self.x)\n",
    "    # def __str__(self):\n",
    "    #     print(f'Now in __str__ of MyClass, with {self.x=}')\n",
    "    #     return str(self.x)\n",
    "    def __repr__(self):\n",
    "        print(f'Now in __repr__ of MyClass, with {self.x=}')\n",
    "        return str(self.x)\n",
    "    def hello(self):\n",
    "        return f'Hello, {vars(self)=}'\n",
    "    def __int__(self):\n",
    "        try:\n",
    "            return int(self.x)\n",
    "        except ValueError:\n",
    "            return 0\n",
    "    def __bool__(self):\n",
    "        return len(str(self.x)) % 2 == 1\n"
   ]
  },
  {
   "cell_type": "code",
   "execution_count": 46,
   "id": "59d7963c-dc1a-4af5-938d-64ff1c8ad8ba",
   "metadata": {},
   "outputs": [
    {
     "data": {
      "text/plain": [
       "True"
      ]
     },
     "execution_count": 46,
     "metadata": {},
     "output_type": "execute_result"
    }
   ],
   "source": [
    "m = MyClass('abcde')\n",
    "bool(m)"
   ]
  },
  {
   "cell_type": "code",
   "execution_count": 47,
   "id": "eec18334-3c88-4ff2-812f-474ebeaee37f",
   "metadata": {},
   "outputs": [
    {
     "data": {
      "text/plain": [
       "False"
      ]
     },
     "execution_count": 47,
     "metadata": {},
     "output_type": "execute_result"
    }
   ],
   "source": [
    "m = MyClass('abcd')\n",
    "bool(m)"
   ]
  },
  {
   "cell_type": "code",
   "execution_count": 48,
   "id": "b9266a59-0eb7-4464-a58d-d15cc83c12c6",
   "metadata": {},
   "outputs": [
    {
     "name": "stdout",
     "output_type": "stream",
     "text": [
      "Falseish\n"
     ]
    }
   ],
   "source": [
    "if m:\n",
    "    print('Truish!')\n",
    "else:\n",
    "    print('Falseish')"
   ]
  },
  {
   "cell_type": "code",
   "execution_count": 49,
   "id": "f07a3318-8cde-42ec-a2a9-9ed4f2049501",
   "metadata": {},
   "outputs": [],
   "source": [
    "# __eq__ \n",
    "\n",
    "# if I run  x == y, this is translated to x.__eq__(y)\n",
    "# which is translated into MyClass.__eq__(x, y)"
   ]
  },
  {
   "cell_type": "code",
   "execution_count": 54,
   "id": "0321d8d6-8d25-4500-9a27-f1c88543f288",
   "metadata": {},
   "outputs": [
    {
     "name": "stdout",
     "output_type": "stream",
     "text": [
      "m = abcd\n"
     ]
    }
   ],
   "source": [
    "class MyClass:\n",
    "    def __init__(self, x):\n",
    "        self.x = x\n",
    "    def __len__(self):\n",
    "        print(f'Now in __len__ of MyClass, with {self.x=}')\n",
    "        return len(self.x)\n",
    "    # def __str__(self):\n",
    "    #     print(f'Now in __str__ of MyClass, with {self.x=}')\n",
    "    #     return str(self.x)\n",
    "    def __repr__(self):\n",
    "        print(f'Now in __repr__ of MyClass, with {self.x=}')\n",
    "        return str(self.x)\n",
    "    def hello(self):\n",
    "        return f'Hello, {vars(self)=}'\n",
    "    def __int__(self):\n",
    "        try:\n",
    "            return int(self.x)\n",
    "        except ValueError:\n",
    "            return 0\n",
    "    def __format__(self, format_code):\n",
    "        if format_code == 'reverse':\n",
    "            return self.x[::-1]    # reverse a string\n",
    "        else:\n",
    "            return self.x\n",
    "\n",
    "m = MyClass('abcd')\n",
    "\n",
    "print(f'm = {m}')"
   ]
  },
  {
   "cell_type": "code",
   "execution_count": 57,
   "id": "6e1c4224-4cff-4d98-ae86-9844d1345b31",
   "metadata": {},
   "outputs": [
    {
     "name": "stdout",
     "output_type": "stream",
     "text": [
      "m = dcba\n"
     ]
    }
   ],
   "source": [
    "print(f'm = {m:reverse}')"
   ]
  },
  {
   "cell_type": "code",
   "execution_count": 58,
   "id": "4c62393c-eeb4-46d7-8dc9-47a60adc9179",
   "metadata": {},
   "outputs": [
    {
     "name": "stdout",
     "output_type": "stream",
     "text": [
      "m = abcd\n"
     ]
    }
   ],
   "source": [
    "print(f'm = {m}')"
   ]
  },
  {
   "cell_type": "code",
   "execution_count": 61,
   "id": "1e1310cb-e980-442b-b676-17aa2844bed1",
   "metadata": {},
   "outputs": [
    {
     "name": "stdout",
     "output_type": "stream",
     "text": [
      "123456789\n"
     ]
    }
   ],
   "source": [
    "x = 123456789\n",
    "print(f'{x}')"
   ]
  },
  {
   "cell_type": "code",
   "execution_count": 62,
   "id": "47fa6d72-3463-4577-877a-35fc095cf69f",
   "metadata": {},
   "outputs": [
    {
     "name": "stdout",
     "output_type": "stream",
     "text": [
      "123,456,789\n"
     ]
    }
   ],
   "source": [
    "print(f'{x:,}')"
   ]
  },
  {
   "cell_type": "code",
   "execution_count": 65,
   "id": "0109d3a5-9e10-411a-a4e8-cf966f2e14ad",
   "metadata": {},
   "outputs": [
    {
     "name": "stdout",
     "output_type": "stream",
     "text": [
      "123,456,789:\n"
     ]
    }
   ],
   "source": [
    "print(f'{x:,}:')"
   ]
  },
  {
   "cell_type": "code",
   "execution_count": 69,
   "id": "0b80d3ef-ccf8-425d-acb5-ffd5c737f1d0",
   "metadata": {},
   "outputs": [
    {
     "name": "stdout",
     "output_type": "stream",
     "text": [
      "123456789.12\n"
     ]
    }
   ],
   "source": [
    "x = 123456789.12345\n",
    "\n",
    "print(f'{x:0.2f}')"
   ]
  },
  {
   "cell_type": "markdown",
   "id": "2c20d827-2794-44a9-b835-5bb623a2388e",
   "metadata": {},
   "source": [
    "# f-string info\n",
    "\n",
    "https://fstring.help/"
   ]
  },
  {
   "cell_type": "markdown",
   "id": "4aa3205b-53c6-47dc-90a7-867aa4a6b925",
   "metadata": {},
   "source": [
    "# Exercise: Person with magic methods\n",
    "\n",
    "1. Define `Person` as a class with `first` and `last` attributes.\n",
    "2. If we print/`str` an instance, we should get a string with the first and last names, separated by a space.\n",
    "3. If we run `len` on an instance, we should get the total number of characters in first and last names.\n",
    "4. If we run `==` on two instances, it'll compare both `first` and `last`\n",
    "5. If we run `<` or `>`, then it should compare `last` and then `first`.\n",
    "6. Create a list of `Person` objects, and sort them by last name, and then first name.\n",
    "7. If we put a `Person` in an f-string, we'll get the regular first + last string. But if we use the format string `asia` after `:`, then we'll get last name and then first name."
   ]
  },
  {
   "cell_type": "code",
   "execution_count": 76,
   "id": "93630af9-d277-4d7f-9fcf-17c226bb7ec8",
   "metadata": {},
   "outputs": [],
   "source": [
    "class Person:\n",
    "    def __init__(self, first, last):\n",
    "        self.first = first\n",
    "        self.last = last\n",
    "    def __repr__(self):\n",
    "        return f'{self.first} {self.last}'\n",
    "    def __len__(self):\n",
    "        return len(self.first + self.last)\n",
    "\n",
    "p1 = Person('Reuven', 'Lerner')\n",
    "p2 = Person('John', 'Smith')\n",
    "p3 = Person('Also', 'Smith')\n",
    "\n",
    "people = [p1, p2, p3]"
   ]
  },
  {
   "cell_type": "code",
   "execution_count": 77,
   "id": "48b398b9-e995-402a-a271-1fb443927ce7",
   "metadata": {},
   "outputs": [
    {
     "name": "stdout",
     "output_type": "stream",
     "text": [
      "Reuven Lerner\n"
     ]
    }
   ],
   "source": [
    "print(p1)"
   ]
  },
  {
   "cell_type": "code",
   "execution_count": 78,
   "id": "c545b77b-ac78-4232-bb13-78f0ccb3d57b",
   "metadata": {},
   "outputs": [
    {
     "data": {
      "text/plain": [
       "[Reuven Lerner, John Smith, Also Smith]"
      ]
     },
     "execution_count": 78,
     "metadata": {},
     "output_type": "execute_result"
    }
   ],
   "source": [
    "people"
   ]
  },
  {
   "cell_type": "code",
   "execution_count": 79,
   "id": "200005d1-82a6-4ad1-96c1-cd3bdfa7d9f2",
   "metadata": {},
   "outputs": [
    {
     "data": {
      "text/plain": [
       "12"
      ]
     },
     "execution_count": 79,
     "metadata": {},
     "output_type": "execute_result"
    }
   ],
   "source": [
    "len(p1)"
   ]
  },
  {
   "cell_type": "code",
   "execution_count": 80,
   "id": "6c4ba0e0-7592-48bc-b6df-d72ccb49c039",
   "metadata": {},
   "outputs": [
    {
     "data": {
      "text/plain": [
       "False"
      ]
     },
     "execution_count": 80,
     "metadata": {},
     "output_type": "execute_result"
    }
   ],
   "source": [
    "p1 == p2"
   ]
  },
  {
   "cell_type": "code",
   "execution_count": 81,
   "id": "67afbfe7-be9d-4bbb-82cb-fd1905e11d9f",
   "metadata": {},
   "outputs": [
    {
     "data": {
      "text/plain": [
       "True"
      ]
     },
     "execution_count": 81,
     "metadata": {},
     "output_type": "execute_result"
    }
   ],
   "source": [
    "p1 == p1"
   ]
  },
  {
   "cell_type": "code",
   "execution_count": 82,
   "id": "76105642-98e0-4155-b9ea-ce9c043a5b4d",
   "metadata": {},
   "outputs": [
    {
     "data": {
      "text/plain": [
       "False"
      ]
     },
     "execution_count": 82,
     "metadata": {},
     "output_type": "execute_result"
    }
   ],
   "source": [
    "p4 = Person('Reuven', 'Lerner')\n",
    "\n",
    "p1 == p4"
   ]
  },
  {
   "cell_type": "code",
   "execution_count": 98,
   "id": "82d25584-72f9-4b55-b847-f5aaf6b4fc13",
   "metadata": {},
   "outputs": [],
   "source": [
    "class Person:\n",
    "    def __init__(self, first, last):\n",
    "        self.first = first\n",
    "        self.last = last\n",
    "    def __repr__(self):\n",
    "        return f'{self.first} {self.last}'\n",
    "    def __len__(self):\n",
    "        return len(self.first + self.last)\n",
    "    def __eq__(self, other):\n",
    "\n",
    "        # if hasattr(other, 'first') and hasattr(other, 'last'):\n",
    "        #     return vars(self) == vars(other)\n",
    "        # return False\n",
    "    \n",
    "        # if you're worried about vars, we can do this:\n",
    "        attributes_to_check = ['first', 'last', 'thingee']\n",
    "        self_attrs = {one_attribute : getattr(self, one_attribute) if hasattr(self, one_attribute) else None\n",
    "                      for one_attribute in attributes_to_check}\n",
    "        other_attrs = {one_attribute : getattr(other, one_attribute) if hasattr(other, one_attribute) else None\n",
    "                      for one_attribute in attributes_to_check}\n",
    "\n",
    "        print(self_attrs)\n",
    "        print(other_attrs)\n",
    "\n",
    "        return self_attrs == other_attrs\n",
    "        \n",
    "\n",
    "\n",
    "p1 = Person('Reuven', 'Lerner')\n",
    "p2 = Person('John', 'Smith')\n",
    "p3 = Person('Also', 'Smith')\n",
    "\n",
    "people = [p1, p2, p3]"
   ]
  },
  {
   "cell_type": "code",
   "execution_count": 99,
   "id": "db53fa9a-828b-4a24-8cf6-c55634caa8ac",
   "metadata": {},
   "outputs": [
    {
     "name": "stdout",
     "output_type": "stream",
     "text": [
      "{'first': 'Reuven', 'last': 'Lerner', 'thingee': None}\n",
      "{'first': 'Reuven', 'last': 'Lerner', 'thingee': None}\n"
     ]
    },
    {
     "data": {
      "text/plain": [
       "True"
      ]
     },
     "execution_count": 99,
     "metadata": {},
     "output_type": "execute_result"
    }
   ],
   "source": [
    "p4 = Person('Reuven', 'Lerner')\n",
    "\n",
    "p1 == p4"
   ]
  },
  {
   "cell_type": "code",
   "execution_count": 100,
   "id": "99c0d53b-f93f-4b1f-8061-25cc97dc6dc1",
   "metadata": {},
   "outputs": [
    {
     "name": "stdout",
     "output_type": "stream",
     "text": [
      "{'first': 'Reuven', 'last': 'Lerner', 'thingee': None}\n",
      "{'first': None, 'last': None, 'thingee': None}\n"
     ]
    },
    {
     "data": {
      "text/plain": [
       "False"
      ]
     },
     "execution_count": 100,
     "metadata": {},
     "output_type": "execute_result"
    }
   ],
   "source": [
    "p1 == 5"
   ]
  },
  {
   "cell_type": "markdown",
   "id": "423703f6-a62d-4df7-8a7e-147d9e4219f5",
   "metadata": {},
   "source": [
    "5. If we run `<` or `>`, then it should compare `last` and then `first`.\n",
    "6. Create a list of `Person` objects, and sort them by last name, and then first name.\n",
    "7. If we put a `Person` in an f-string, we'll get the regular first + last string. But if we use the format string `asia` after `:`, then we'll get last name and then first name."
   ]
  },
  {
   "cell_type": "code",
   "execution_count": 103,
   "id": "f833b133-a6bb-40a9-94f4-4dfbf3d83b77",
   "metadata": {},
   "outputs": [],
   "source": [
    "from functools import total_ordering\n",
    "\n",
    "@total_ordering\n",
    "class Person:\n",
    "    def __init__(self, first, last):\n",
    "        self.first = first\n",
    "        self.last = last\n",
    "    def __repr__(self):\n",
    "        return f'{self.first} {self.last}'\n",
    "    def __len__(self):\n",
    "        return len(self.first + self.last)\n",
    "    def __eq__(self, other):\n",
    "\n",
    "        # if you're worried about vars, we can do this:\n",
    "        attributes_to_check = ['first', 'last', 'thingee']\n",
    "        self_attrs = {one_attribute : getattr(self, one_attribute) if hasattr(self, one_attribute) else None\n",
    "                      for one_attribute in attributes_to_check}\n",
    "        other_attrs = {one_attribute : getattr(other, one_attribute) if hasattr(other, one_attribute) else None\n",
    "                      for one_attribute in attributes_to_check}\n",
    "\n",
    "        print(self_attrs)\n",
    "        print(other_attrs)\n",
    "\n",
    "        return self_attrs == other_attrs\n",
    "\n",
    "    def __lt__(self, other):\n",
    "        return [self.last, self.first] < [other.last, other.first]\n",
    "     \n",
    "p1 = Person('Reuven', 'Lerner')\n",
    "p2 = Person('John', 'Smith')\n",
    "p3 = Person('Also', 'Smith')\n",
    "\n",
    "people = [p1, p2, p3]"
   ]
  },
  {
   "cell_type": "code",
   "execution_count": 104,
   "id": "f6a2d713-1be8-41e6-bf4f-b11d655c0d91",
   "metadata": {},
   "outputs": [
    {
     "data": {
      "text/plain": [
       "[Reuven Lerner, Also Smith, John Smith]"
      ]
     },
     "execution_count": 104,
     "metadata": {},
     "output_type": "execute_result"
    }
   ],
   "source": [
    "sorted(people)"
   ]
  },
  {
   "cell_type": "code",
   "execution_count": 105,
   "id": "c5a4b08a-f034-4ea1-992d-2471842de81d",
   "metadata": {},
   "outputs": [
    {
     "data": {
      "text/plain": [
       "True"
      ]
     },
     "execution_count": 105,
     "metadata": {},
     "output_type": "execute_result"
    }
   ],
   "source": [
    "p2 >= p1"
   ]
  },
  {
   "cell_type": "code",
   "execution_count": 107,
   "id": "a6a88c10-92c3-41f3-9a3f-45656798fde8",
   "metadata": {},
   "outputs": [
    {
     "name": "stdout",
     "output_type": "stream",
     "text": [
      "Reuven Lerner\n",
      "Lerner Reuven\n"
     ]
    }
   ],
   "source": [
    "from functools import total_ordering\n",
    "\n",
    "@total_ordering\n",
    "class Person:\n",
    "    def __init__(self, first, last):\n",
    "        self.first = first\n",
    "        self.last = last\n",
    "    def __repr__(self):\n",
    "        return f'{self.first} {self.last}'\n",
    "    def __len__(self):\n",
    "        return len(self.first + self.last)\n",
    "    def __eq__(self, other):\n",
    "\n",
    "        # if you're worried about vars, we can do this:\n",
    "        attributes_to_check = ['first', 'last', 'thingee']\n",
    "        self_attrs = {one_attribute : getattr(self, one_attribute) if hasattr(self, one_attribute) else None\n",
    "                      for one_attribute in attributes_to_check}\n",
    "        other_attrs = {one_attribute : getattr(other, one_attribute) if hasattr(other, one_attribute) else None\n",
    "                      for one_attribute in attributes_to_check}\n",
    "\n",
    "        print(self_attrs)\n",
    "        print(other_attrs)\n",
    "\n",
    "        return self_attrs == other_attrs\n",
    "\n",
    "    def __lt__(self, other):\n",
    "        return [self.last, self.first] < [other.last, other.first]\n",
    "\n",
    "    def __format__(self, format_code):\n",
    "        if format_code == 'asia':\n",
    "            return f'{self.last} {self.first}'\n",
    "        return str(self)\n",
    "     \n",
    "p1 = Person('Reuven', 'Lerner')\n",
    "p2 = Person('John', 'Smith')\n",
    "p3 = Person('Also', 'Smith')\n",
    "\n",
    "print(f'{p1}')\n",
    "print(f'{p1:asia}')"
   ]
  },
  {
   "cell_type": "code",
   "execution_count": 109,
   "id": "c2ed52f1-0e2c-4327-bb98-9aed21b813f5",
   "metadata": {},
   "outputs": [
    {
     "name": "stdout",
     "output_type": "stream",
     "text": [
      "9\n"
     ]
    }
   ],
   "source": [
    "def myfunc():\n",
    "    x = 'abcdefgh!'\n",
    "    print(len(x))\n",
    "\n",
    "myfunc()"
   ]
  },
  {
   "cell_type": "code",
   "execution_count": 110,
   "id": "1625b56d-4049-4f20-a341-bacf28fd95a7",
   "metadata": {},
   "outputs": [],
   "source": [
    "mylist = [10, 20, 30]\n",
    "\n",
    "mylist.append(mylist)"
   ]
  },
  {
   "cell_type": "code",
   "execution_count": 111,
   "id": "9df0f2c2-0b5d-46c3-a8ca-247c2ee23ab3",
   "metadata": {},
   "outputs": [
    {
     "data": {
      "text/plain": [
       "[10, 20, 30, [...]]"
      ]
     },
     "execution_count": 111,
     "metadata": {},
     "output_type": "execute_result"
    }
   ],
   "source": [
    "mylist"
   ]
  },
  {
   "cell_type": "code",
   "execution_count": 112,
   "id": "22dca1f2-03a6-456e-a5ce-386361197fda",
   "metadata": {},
   "outputs": [
    {
     "data": {
      "text/plain": [
       "True"
      ]
     },
     "execution_count": 112,
     "metadata": {},
     "output_type": "execute_result"
    }
   ],
   "source": [
    "mylist[3] is mylist"
   ]
  },
  {
   "cell_type": "code",
   "execution_count": 113,
   "id": "b1fb4c07-8ee0-4bde-915b-5dbac1a0d27b",
   "metadata": {},
   "outputs": [],
   "source": [
    "del(mylist)"
   ]
  },
  {
   "cell_type": "code",
   "execution_count": 119,
   "id": "6ff40a04-03be-42c4-9c5b-1567637f1325",
   "metadata": {},
   "outputs": [
    {
     "name": "stdout",
     "output_type": "stream",
     "text": [
      "I am dead self.x=10\n",
      "I am dead self.x=40\n",
      "I am dead self.x=20\n",
      "I am dead self.x=30\n"
     ]
    }
   ],
   "source": [
    "class MyClass:\n",
    "    def __init__(self, x):\n",
    "        self.x = x\n",
    "\n",
    "    def __del__(self):\n",
    "        print(f'I am dead {self.x=}')\n",
    "\n",
    "m1 = MyClass(10)    \n",
    "m2 = MyClass(20)\n",
    "m3 = MyClass(30)\n",
    "\n",
    "# mylist = [m1, m2, m3]\n",
    "\n",
    "m1 = MyClass(40)\n",
    "\n",
    "del(m1)\n",
    "del(m2)\n",
    "del(m3)"
   ]
  },
  {
   "cell_type": "code",
   "execution_count": 118,
   "id": "360a6488-a229-4444-97a0-7561a0f6b1a6",
   "metadata": {},
   "outputs": [
    {
     "name": "stdout",
     "output_type": "stream",
     "text": [
      "I am dead self.x=30\n",
      "I am dead self.x=20\n",
      "I am dead self.x=10\n"
     ]
    }
   ],
   "source": [
    "del(mylist)"
   ]
  },
  {
   "cell_type": "code",
   "execution_count": 122,
   "id": "88f64df1-22bb-4089-a7d6-3da6bc20c09b",
   "metadata": {},
   "outputs": [],
   "source": [
    "import weakref\n",
    "\n",
    "m1 = MyClass(10)    \n",
    "m2 = m1\n",
    "m3 = weakref.ref(m1)"
   ]
  },
  {
   "cell_type": "code",
   "execution_count": 123,
   "id": "d8e44de6-a1b9-443a-b34c-2ddffc953f5f",
   "metadata": {},
   "outputs": [
    {
     "data": {
      "text/plain": [
       "10"
      ]
     },
     "execution_count": 123,
     "metadata": {},
     "output_type": "execute_result"
    }
   ],
   "source": [
    "m1.x"
   ]
  },
  {
   "cell_type": "code",
   "execution_count": 124,
   "id": "dda48fd9-855a-4ded-9101-6fce66cbdda9",
   "metadata": {},
   "outputs": [
    {
     "data": {
      "text/plain": [
       "10"
      ]
     },
     "execution_count": 124,
     "metadata": {},
     "output_type": "execute_result"
    }
   ],
   "source": [
    "m2.x"
   ]
  },
  {
   "cell_type": "code",
   "execution_count": 126,
   "id": "89b9b00f-7017-4e8e-8509-e8c6d9c5e779",
   "metadata": {},
   "outputs": [
    {
     "data": {
      "text/plain": [
       "True"
      ]
     },
     "execution_count": 126,
     "metadata": {},
     "output_type": "execute_result"
    }
   ],
   "source": [
    "m1 == m2"
   ]
  },
  {
   "cell_type": "code",
   "execution_count": 128,
   "id": "4557642b-f626-40ed-b24b-458c1bfea05c",
   "metadata": {},
   "outputs": [
    {
     "data": {
      "text/plain": [
       "True"
      ]
     },
     "execution_count": 128,
     "metadata": {},
     "output_type": "execute_result"
    }
   ],
   "source": [
    "m1 == m3()"
   ]
  },
  {
   "cell_type": "code",
   "execution_count": 129,
   "id": "bc8b849b-5561-4d14-aa61-35ae57adc909",
   "metadata": {},
   "outputs": [
    {
     "data": {
      "text/plain": [
       "10"
      ]
     },
     "execution_count": 129,
     "metadata": {},
     "output_type": "execute_result"
    }
   ],
   "source": [
    "m3().x"
   ]
  },
  {
   "cell_type": "code",
   "execution_count": 130,
   "id": "b2e44855-02a0-4224-b150-61b452280a61",
   "metadata": {},
   "outputs": [],
   "source": [
    "del(m2)"
   ]
  },
  {
   "cell_type": "code",
   "execution_count": 131,
   "id": "2fcdcf31-9e32-46fd-bb27-cf4cbcfe6f35",
   "metadata": {},
   "outputs": [],
   "source": [
    "del(m1)"
   ]
  },
  {
   "cell_type": "code",
   "execution_count": 132,
   "id": "a73c7fb1-c069-4292-8807-151052af7770",
   "metadata": {},
   "outputs": [
    {
     "data": {
      "text/plain": [
       "<__main__.MyClass at 0x113aa80e0>"
      ]
     },
     "execution_count": 132,
     "metadata": {},
     "output_type": "execute_result"
    }
   ],
   "source": [
    "m3()"
   ]
  },
  {
   "cell_type": "code",
   "execution_count": 133,
   "id": "c0d274f6-a492-42dd-8d4e-55efe55865c7",
   "metadata": {},
   "outputs": [],
   "source": [
    "import gc"
   ]
  },
  {
   "cell_type": "code",
   "execution_count": 135,
   "id": "b833c064-e344-49a5-b4d7-e9c6e695d5a5",
   "metadata": {},
   "outputs": [
    {
     "data": {
      "text/plain": [
       "(276, 0, 7)"
      ]
     },
     "execution_count": 135,
     "metadata": {},
     "output_type": "execute_result"
    }
   ],
   "source": [
    "gc.get_count()"
   ]
  },
  {
   "cell_type": "code",
   "execution_count": 140,
   "id": "15ff4a69-6281-42c4-b933-d275e729f644",
   "metadata": {},
   "outputs": [
    {
     "data": {
      "text/plain": [
       "11"
      ]
     },
     "execution_count": 140,
     "metadata": {},
     "output_type": "execute_result"
    }
   ],
   "source": [
    "import sys\n",
    "sys.getrefcount(mylist)"
   ]
  },
  {
   "cell_type": "code",
   "execution_count": 141,
   "id": "83032099-af49-4695-a6cd-fe22e3893ec8",
   "metadata": {},
   "outputs": [
    {
     "data": {
      "text/plain": [
       "2"
      ]
     },
     "execution_count": 141,
     "metadata": {},
     "output_type": "execute_result"
    }
   ],
   "source": [
    "mylist = [10, 20, 30]\n",
    "\n",
    "sys.getrefcount(mylist)"
   ]
  },
  {
   "cell_type": "code",
   "execution_count": 142,
   "id": "040a9891-ff4e-4dde-8f1f-34a0f4df7f83",
   "metadata": {},
   "outputs": [
    {
     "data": {
      "text/plain": [
       "2"
      ]
     },
     "execution_count": 142,
     "metadata": {},
     "output_type": "execute_result"
    }
   ],
   "source": [
    "sys.getrefcount(mylist)"
   ]
  },
  {
   "cell_type": "code",
   "execution_count": 143,
   "id": "5610a5e6-e320-47ab-903f-4ce69ec5eebd",
   "metadata": {},
   "outputs": [
    {
     "data": {
      "text/plain": [
       "[10, 20, 30]"
      ]
     },
     "execution_count": 143,
     "metadata": {},
     "output_type": "execute_result"
    }
   ],
   "source": [
    "mylist"
   ]
  },
  {
   "cell_type": "code",
   "execution_count": 144,
   "id": "a91421e6-48f3-488e-ae89-8a729559fe91",
   "metadata": {},
   "outputs": [
    {
     "data": {
      "text/plain": [
       "9"
      ]
     },
     "execution_count": 144,
     "metadata": {},
     "output_type": "execute_result"
    }
   ],
   "source": [
    "sys.getrefcount(mylist)"
   ]
  },
  {
   "cell_type": "code",
   "execution_count": 146,
   "id": "f3448a22-656a-4c6e-aa26-bbcc47d588ce",
   "metadata": {},
   "outputs": [
    {
     "data": {
      "text/plain": [
       "[10, 20, 30]"
      ]
     },
     "execution_count": 146,
     "metadata": {},
     "output_type": "execute_result"
    }
   ],
   "source": [
    "Out[143]"
   ]
  },
  {
   "cell_type": "code",
   "execution_count": 147,
   "id": "f6370086-6f41-480d-95cc-cf6ab8aa2fc2",
   "metadata": {},
   "outputs": [],
   "source": [
    "class MyClass:\n",
    "    def __init__(self, x):\n",
    "        self.x = x\n",
    "\n",
    "m = MyClass(10)"
   ]
  },
  {
   "cell_type": "code",
   "execution_count": 148,
   "id": "08a561d7-d5d8-462b-b328-5cbd6b343c15",
   "metadata": {},
   "outputs": [
    {
     "data": {
      "text/plain": [
       "__main__.MyClass"
      ]
     },
     "execution_count": 148,
     "metadata": {},
     "output_type": "execute_result"
    }
   ],
   "source": [
    "type(m)"
   ]
  },
  {
   "cell_type": "code",
   "execution_count": 149,
   "id": "5a687ead-4d6f-4798-b885-b8c050fdfc7e",
   "metadata": {},
   "outputs": [
    {
     "data": {
      "text/plain": [
       "__main__.MyClass"
      ]
     },
     "execution_count": 149,
     "metadata": {},
     "output_type": "execute_result"
    }
   ],
   "source": [
    "m.__class__"
   ]
  },
  {
   "cell_type": "code",
   "execution_count": 150,
   "id": "c67242e9-7cf4-4cfd-a0fe-32b94224c938",
   "metadata": {},
   "outputs": [
    {
     "data": {
      "text/plain": [
       "(object,)"
      ]
     },
     "execution_count": 150,
     "metadata": {},
     "output_type": "execute_result"
    }
   ],
   "source": [
    "MyClass.__bases__"
   ]
  },
  {
   "cell_type": "code",
   "execution_count": 151,
   "id": "4e053d99-d5a0-4cc0-bd25-968f9ef304d5",
   "metadata": {},
   "outputs": [
    {
     "data": {
      "text/plain": [
       "()"
      ]
     },
     "execution_count": 151,
     "metadata": {},
     "output_type": "execute_result"
    }
   ],
   "source": [
    "object.__bases__"
   ]
  },
  {
   "cell_type": "code",
   "execution_count": 152,
   "id": "e397f9b6-c801-4c4c-9900-35f35f6f6600",
   "metadata": {},
   "outputs": [],
   "source": [
    "class MySubClass(MyClass):\n",
    "    pass"
   ]
  },
  {
   "cell_type": "code",
   "execution_count": 153,
   "id": "99494cae-a2be-4ebd-ad45-fd87c9fb94ee",
   "metadata": {},
   "outputs": [],
   "source": [
    "s = MySubClass(20)"
   ]
  },
  {
   "cell_type": "code",
   "execution_count": 154,
   "id": "f9968934-bd44-46d6-a5dd-c22c4290c774",
   "metadata": {},
   "outputs": [],
   "source": [
    "class MyMetaClass(type):\n",
    "    pass"
   ]
  },
  {
   "cell_type": "code",
   "execution_count": 155,
   "id": "fdf07770-5b1f-446e-b5b2-857b5897c8b0",
   "metadata": {},
   "outputs": [],
   "source": [
    "class UseMeta(metaclass=MyMetaClass):\n",
    "    pass"
   ]
  },
  {
   "cell_type": "code",
   "execution_count": 156,
   "id": "4b312b64-3bca-4a27-bbda-40ef35be1aaf",
   "metadata": {},
   "outputs": [
    {
     "data": {
      "text/plain": [
       "__main__.MyMetaClass"
      ]
     },
     "execution_count": 156,
     "metadata": {},
     "output_type": "execute_result"
    }
   ],
   "source": [
    "type(UseMeta)"
   ]
  },
  {
   "cell_type": "code",
   "execution_count": 157,
   "id": "c3a3a191-1ef6-479c-aed9-acbb782ec395",
   "metadata": {},
   "outputs": [
    {
     "name": "stdout",
     "output_type": "stream",
     "text": [
      "22\n",
      "20\n"
     ]
    }
   ],
   "source": [
    "class Thermostat:\n",
    "    def __init__(self, temp=22):\n",
    "        self.temp = temp\n",
    "\n",
    "t = Thermostat()\n",
    "print(t.temp)\n",
    "t.temp = 20\n",
    "print(t.temp)"
   ]
  },
  {
   "cell_type": "markdown",
   "id": "f56c2d65-c236-4ee3-9ec5-46ddf03024db",
   "metadata": {},
   "source": [
    "# Property\n",
    "\n",
    "Properties look like data attributes, but act like methods (setters + getters)."
   ]
  },
  {
   "cell_type": "code",
   "execution_count": 167,
   "id": "026a1e80-6133-4b07-8ae1-a1693a94982e",
   "metadata": {},
   "outputs": [
    {
     "name": "stdout",
     "output_type": "stream",
     "text": [
      "Now in temp getter\n",
      "22\n",
      "Now in temp setter\n",
      "Now in temp getter\n",
      "20\n"
     ]
    }
   ],
   "source": [
    "class TempTooLowError(Exception):\n",
    "    pass\n",
    "\n",
    "class TempTooHighError(Exception):\n",
    "    pass\n",
    "\n",
    "class Thermostat:\n",
    "    def __init__(self, temp=22):\n",
    "        self._temp = temp\n",
    "\n",
    "    @property\n",
    "    def temp(self):\n",
    "        print(f'Now in temp getter')\n",
    "        return self._temp\n",
    "\n",
    "    @temp.setter\n",
    "    def temp(self, new_temp):\n",
    "        print(f'Now in temp setter')\n",
    "\n",
    "        if new_temp < 15:\n",
    "            raise TempTooLowError(f'Min is 15, you tried to set {new_temp}')\n",
    "\n",
    "        if new_temp > 30:\n",
    "            raise TempTooHighError(f'Max is 30, you tried to set {new_temp}')\n",
    "\n",
    "        self._temp = new_temp\n",
    "\n",
    "t = Thermostat()\n",
    "print(t.temp)\n",
    "\n",
    "t.temp = 20\n",
    "print(t.temp)"
   ]
  },
  {
   "cell_type": "code",
   "execution_count": 168,
   "id": "401d1d33-7675-4fa2-8c00-3e25ae7ef5df",
   "metadata": {},
   "outputs": [
    {
     "name": "stdout",
     "output_type": "stream",
     "text": [
      "Now in temp setter\n"
     ]
    },
    {
     "ename": "TempTooLowError",
     "evalue": "Min is 15, you tried to set -20",
     "output_type": "error",
     "traceback": [
      "\u001b[0;31m---------------------------------------------------------------------------\u001b[0m",
      "\u001b[0;31mTempTooLowError\u001b[0m                           Traceback (most recent call last)",
      "Cell \u001b[0;32mIn[168], line 1\u001b[0m\n\u001b[0;32m----> 1\u001b[0m \u001b[43mt\u001b[49m\u001b[38;5;241;43m.\u001b[39;49m\u001b[43mtemp\u001b[49m \u001b[38;5;241m=\u001b[39m \u001b[38;5;241m-\u001b[39m\u001b[38;5;241m20\u001b[39m\n",
      "Cell \u001b[0;32mIn[167], line 21\u001b[0m, in \u001b[0;36mThermostat.temp\u001b[0;34m(self, new_temp)\u001b[0m\n\u001b[1;32m     18\u001b[0m \u001b[38;5;28mprint\u001b[39m(\u001b[38;5;124mf\u001b[39m\u001b[38;5;124m'\u001b[39m\u001b[38;5;124mNow in temp setter\u001b[39m\u001b[38;5;124m'\u001b[39m)\n\u001b[1;32m     20\u001b[0m \u001b[38;5;28;01mif\u001b[39;00m new_temp \u001b[38;5;241m<\u001b[39m \u001b[38;5;241m15\u001b[39m:\n\u001b[0;32m---> 21\u001b[0m     \u001b[38;5;28;01mraise\u001b[39;00m TempTooLowError(\u001b[38;5;124mf\u001b[39m\u001b[38;5;124m'\u001b[39m\u001b[38;5;124mMin is 15, you tried to set \u001b[39m\u001b[38;5;132;01m{\u001b[39;00mnew_temp\u001b[38;5;132;01m}\u001b[39;00m\u001b[38;5;124m'\u001b[39m)\n\u001b[1;32m     23\u001b[0m \u001b[38;5;28;01mif\u001b[39;00m new_temp \u001b[38;5;241m>\u001b[39m \u001b[38;5;241m30\u001b[39m:\n\u001b[1;32m     24\u001b[0m     \u001b[38;5;28;01mraise\u001b[39;00m TempTooHighError(\u001b[38;5;124mf\u001b[39m\u001b[38;5;124m'\u001b[39m\u001b[38;5;124mMax is 30, you tried to set \u001b[39m\u001b[38;5;132;01m{\u001b[39;00mnew_temp\u001b[38;5;132;01m}\u001b[39;00m\u001b[38;5;124m'\u001b[39m)\n",
      "\u001b[0;31mTempTooLowError\u001b[0m: Min is 15, you tried to set -20"
     ]
    }
   ],
   "source": [
    "t.temp = -20"
   ]
  },
  {
   "cell_type": "code",
   "execution_count": 169,
   "id": "04cc6737-276a-41e8-b5df-33a2aba575e7",
   "metadata": {},
   "outputs": [
    {
     "name": "stdout",
     "output_type": "stream",
     "text": [
      "Now in temp setter\n"
     ]
    },
    {
     "ename": "TempTooHighError",
     "evalue": "Max is 30, you tried to set 40",
     "output_type": "error",
     "traceback": [
      "\u001b[0;31m---------------------------------------------------------------------------\u001b[0m",
      "\u001b[0;31mTempTooHighError\u001b[0m                          Traceback (most recent call last)",
      "Cell \u001b[0;32mIn[169], line 1\u001b[0m\n\u001b[0;32m----> 1\u001b[0m \u001b[43mt\u001b[49m\u001b[38;5;241;43m.\u001b[39;49m\u001b[43mtemp\u001b[49m \u001b[38;5;241m=\u001b[39m \u001b[38;5;241m40\u001b[39m\n",
      "Cell \u001b[0;32mIn[167], line 24\u001b[0m, in \u001b[0;36mThermostat.temp\u001b[0;34m(self, new_temp)\u001b[0m\n\u001b[1;32m     21\u001b[0m     \u001b[38;5;28;01mraise\u001b[39;00m TempTooLowError(\u001b[38;5;124mf\u001b[39m\u001b[38;5;124m'\u001b[39m\u001b[38;5;124mMin is 15, you tried to set \u001b[39m\u001b[38;5;132;01m{\u001b[39;00mnew_temp\u001b[38;5;132;01m}\u001b[39;00m\u001b[38;5;124m'\u001b[39m)\n\u001b[1;32m     23\u001b[0m \u001b[38;5;28;01mif\u001b[39;00m new_temp \u001b[38;5;241m>\u001b[39m \u001b[38;5;241m30\u001b[39m:\n\u001b[0;32m---> 24\u001b[0m     \u001b[38;5;28;01mraise\u001b[39;00m TempTooHighError(\u001b[38;5;124mf\u001b[39m\u001b[38;5;124m'\u001b[39m\u001b[38;5;124mMax is 30, you tried to set \u001b[39m\u001b[38;5;132;01m{\u001b[39;00mnew_temp\u001b[38;5;132;01m}\u001b[39;00m\u001b[38;5;124m'\u001b[39m)\n\u001b[1;32m     26\u001b[0m \u001b[38;5;28mself\u001b[39m\u001b[38;5;241m.\u001b[39m_temp \u001b[38;5;241m=\u001b[39m new_temp\n",
      "\u001b[0;31mTempTooHighError\u001b[0m: Max is 30, you tried to set 40"
     ]
    }
   ],
   "source": [
    "t.temp = 40"
   ]
  },
  {
   "cell_type": "code",
   "execution_count": null,
   "id": "deb738ec-a7b0-48d7-b21f-f95b45bca49a",
   "metadata": {},
   "outputs": [],
   "source": []
  },
  {
   "cell_type": "markdown",
   "id": "ed6f3053-cdc8-4024-a5ff-c1e350cb9657",
   "metadata": {},
   "source": [
    "# Excercise: Person names\n",
    "\n",
    "1. Define a `Person` class with `first` and `last`.\n",
    "2. If I request `.name` from an instance of `Person`, I'll get the first + last name.\n",
    "3. If I assign to `.name` on an instance, it'll assign the separate `first` and `last`."
   ]
  },
  {
   "cell_type": "code",
   "execution_count": 172,
   "id": "dd53a4f3-122f-4179-84b0-f0610f829da6",
   "metadata": {},
   "outputs": [
    {
     "data": {
      "text/plain": [
       "'Reuven Lerner'"
      ]
     },
     "execution_count": 172,
     "metadata": {},
     "output_type": "execute_result"
    }
   ],
   "source": [
    "class Person:\n",
    "    def __init__(self, first, last):\n",
    "        self.first = first\n",
    "        self.last = last\n",
    "\n",
    "    @property\n",
    "    def name(self):\n",
    "        return f'{self.first} {self.last}'\n",
    "\n",
    "    @name.setter\n",
    "    def name(self, new_name):\n",
    "        self.first, self.last = new_name.split(None, 1)\n",
    "\n",
    "p = Person('Reuven', 'Lerner')\n",
    "p.name"
   ]
  },
  {
   "cell_type": "code",
   "execution_count": 173,
   "id": "2f18c65b-5ffb-4f6a-993f-8831b5aa54f2",
   "metadata": {},
   "outputs": [],
   "source": [
    "p.name = 'someone else'"
   ]
  },
  {
   "cell_type": "code",
   "execution_count": 174,
   "id": "6d5a0291-c176-4d3e-8295-4cdc7dbf7c84",
   "metadata": {},
   "outputs": [
    {
     "data": {
      "text/plain": [
       "'someone'"
      ]
     },
     "execution_count": 174,
     "metadata": {},
     "output_type": "execute_result"
    }
   ],
   "source": [
    "p.first"
   ]
  },
  {
   "cell_type": "code",
   "execution_count": 175,
   "id": "c10377ab-76c2-42f3-91a9-3105d61c1372",
   "metadata": {},
   "outputs": [
    {
     "data": {
      "text/plain": [
       "'else'"
      ]
     },
     "execution_count": 175,
     "metadata": {},
     "output_type": "execute_result"
    }
   ],
   "source": [
    "p.last"
   ]
  },
  {
   "cell_type": "code",
   "execution_count": 176,
   "id": "a1962d7b-c13b-491c-bb67-e2a606fcc01b",
   "metadata": {},
   "outputs": [
    {
     "data": {
      "text/plain": [
       "'someone else'"
      ]
     },
     "execution_count": 176,
     "metadata": {},
     "output_type": "execute_result"
    }
   ],
   "source": [
    "p.name"
   ]
  },
  {
   "cell_type": "code",
   "execution_count": 177,
   "id": "b8ab6ddb-44ab-44bc-a547-6cd4d853352d",
   "metadata": {},
   "outputs": [
    {
     "data": {
      "text/plain": [
       "str"
      ]
     },
     "execution_count": 177,
     "metadata": {},
     "output_type": "execute_result"
    }
   ],
   "source": [
    "type(p.name)"
   ]
  },
  {
   "cell_type": "code",
   "execution_count": 178,
   "id": "53ff88cc-81ea-447d-b466-7ec69ecd22c6",
   "metadata": {},
   "outputs": [
    {
     "data": {
      "text/plain": [
       "property"
      ]
     },
     "execution_count": 178,
     "metadata": {},
     "output_type": "execute_result"
    }
   ],
   "source": [
    "type(Person.name)"
   ]
  },
  {
   "cell_type": "markdown",
   "id": "babf5a34-59b2-45f0-82ef-6dd70de386c0",
   "metadata": {},
   "source": [
    "# Descriptor \n",
    "\n",
    "Implements the \"descriptor protocol.\"\n",
    "\n",
    "- If we have a class attribute\n",
    "- But we access it via the instance\n",
    "- And the object in the class attribute implements `__get__` and/or `__set__`\n",
    "- When we request the class attribute via the instance, we get the result of `__get__`\n",
    "- When we set the class attribute via the instance, we pass the value to `__set__`"
   ]
  },
  {
   "cell_type": "code",
   "execution_count": 179,
   "id": "ae51332c-6f59-4131-a51e-ac75ba0412cf",
   "metadata": {},
   "outputs": [],
   "source": [
    "class MyClass:\n",
    "    def hello(self):\n",
    "        return 'Hello'"
   ]
  },
  {
   "cell_type": "code",
   "execution_count": 180,
   "id": "86ffdc7e-a4b3-4753-a1b2-a59a1b66b8a3",
   "metadata": {},
   "outputs": [],
   "source": [
    "m = MyClass()"
   ]
  },
  {
   "cell_type": "code",
   "execution_count": 181,
   "id": "16d54772-d977-4a0c-902a-d09d9555abd3",
   "metadata": {},
   "outputs": [
    {
     "data": {
      "text/plain": [
       "method"
      ]
     },
     "execution_count": 181,
     "metadata": {},
     "output_type": "execute_result"
    }
   ],
   "source": [
    "type(m.hello)"
   ]
  },
  {
   "cell_type": "code",
   "execution_count": 182,
   "id": "fa258c56-2403-4fbc-8e56-ddfdd7308f4d",
   "metadata": {},
   "outputs": [
    {
     "data": {
      "text/plain": [
       "function"
      ]
     },
     "execution_count": 182,
     "metadata": {},
     "output_type": "execute_result"
    }
   ],
   "source": [
    "type(MyClass.hello)"
   ]
  },
  {
   "cell_type": "code",
   "execution_count": 183,
   "id": "3ff68ad6-6444-4222-982d-7005e6a7a917",
   "metadata": {},
   "outputs": [
    {
     "data": {
      "text/plain": [
       "'ABCD'"
      ]
     },
     "execution_count": 183,
     "metadata": {},
     "output_type": "execute_result"
    }
   ],
   "source": [
    "s = 'abcd'\n",
    "s.upper()"
   ]
  },
  {
   "cell_type": "code",
   "execution_count": 184,
   "id": "449ae024-1b5d-4917-a8cc-b4011db0079c",
   "metadata": {},
   "outputs": [
    {
     "data": {
      "text/plain": [
       "'ABCD'"
      ]
     },
     "execution_count": 184,
     "metadata": {},
     "output_type": "execute_result"
    }
   ],
   "source": [
    "str.upper(s)"
   ]
  },
  {
   "cell_type": "code",
   "execution_count": 193,
   "id": "76a4522c-bbf6-4542-8cf4-3ad160331cff",
   "metadata": {},
   "outputs": [
    {
     "name": "stdout",
     "output_type": "stream",
     "text": [
      "Now in MyDescriptor.__init__\n"
     ]
    }
   ],
   "source": [
    "class MyDescriptor:\n",
    "    def __init__(self, data):\n",
    "        print(f'Now in MyDescriptor.__init__')\n",
    "        self.data = data\n",
    "\n",
    "    # obj will be the instance of MyClass \n",
    "    # objtype will be MyClass\n",
    "    def __get__(self, obj, objtype):\n",
    "        print(f'Now in MyDescriptor.__get__, {obj=}, {objtype=}')\n",
    "        return self.data\n",
    "\n",
    "    def __set__(self, obj, newvalue):\n",
    "        print(f'Now in MyDescriptor.__set__, {obj=}, {newvalue=}')\n",
    "        self.data = newvalue\n",
    "\n",
    "class MyClass:\n",
    "    x = 'abcd'\n",
    "    y = MyDescriptor('d')   # y is a class attribute, instance of MyDescriptor\n",
    "\n",
    "m = MyClass()"
   ]
  },
  {
   "cell_type": "code",
   "execution_count": 197,
   "id": "a748a569-35d6-40c7-b714-fb357a287577",
   "metadata": {},
   "outputs": [
    {
     "name": "stdout",
     "output_type": "stream",
     "text": [
      "Now in MyDescriptor.__get__, obj=<__main__.MyClass object at 0x113c583b0>, objtype=<class '__main__.MyClass'>\n"
     ]
    },
    {
     "data": {
      "text/plain": [
       "'e'"
      ]
     },
     "execution_count": 197,
     "metadata": {},
     "output_type": "execute_result"
    }
   ],
   "source": [
    "m.y  # asking for class attribute via an instance, and it has __get__ "
   ]
  },
  {
   "cell_type": "code",
   "execution_count": 198,
   "id": "5619bcb3-beea-42d5-ac90-60a4d15b8fc8",
   "metadata": {},
   "outputs": [
    {
     "name": "stdout",
     "output_type": "stream",
     "text": [
      "Now in MyDescriptor.__set__, obj=<__main__.MyClass object at 0x113c583b0>, newvalue='e'\n"
     ]
    }
   ],
   "source": [
    "m.y = 'e'"
   ]
  },
  {
   "cell_type": "code",
   "execution_count": 199,
   "id": "451e7db8-f78e-4392-b36a-6b6235b5dfbb",
   "metadata": {},
   "outputs": [
    {
     "name": "stdout",
     "output_type": "stream",
     "text": [
      "Now in MyDescriptor.__get__, obj=<__main__.MyClass object at 0x113c583b0>, objtype=<class '__main__.MyClass'>\n"
     ]
    },
    {
     "data": {
      "text/plain": [
       "'e'"
      ]
     },
     "execution_count": 199,
     "metadata": {},
     "output_type": "execute_result"
    }
   ],
   "source": [
    "m.y"
   ]
  },
  {
   "cell_type": "code",
   "execution_count": 200,
   "id": "f97cd816-30b6-457a-b80b-18004181478c",
   "metadata": {},
   "outputs": [
    {
     "name": "stdout",
     "output_type": "stream",
     "text": [
      "Now in MyDescriptor.__init__\n"
     ]
    }
   ],
   "source": [
    "class MyDescriptor:\n",
    "    def __init__(self, data):\n",
    "        print(f'Now in MyDescriptor.__init__')\n",
    "        self.data = data\n",
    "\n",
    "    def __get__(self, obj, objtype):\n",
    "        print(f'Now in MyDescriptor.__get__, {obj=}, {objtype=}')\n",
    "        return self.data\n",
    "\n",
    "    def __set__(self, obj, newvalue):\n",
    "        print(f'Now in MyDescriptor.__set__, {obj=}, {newvalue=}')\n",
    "        self.data = newvalue\n",
    "\n",
    "class MyClass:\n",
    "    x = 'abcd'\n",
    "    y = MyDescriptor('d')   # y is a class attribute, instance of MyDescriptor\n",
    "\n",
    "m1 = MyClass()\n",
    "m2 = MyClass()"
   ]
  },
  {
   "cell_type": "code",
   "execution_count": 201,
   "id": "0fc5f9c0-2458-45b0-b12d-56be7fc88770",
   "metadata": {},
   "outputs": [
    {
     "name": "stdout",
     "output_type": "stream",
     "text": [
      "Now in MyDescriptor.__get__, obj=<__main__.MyClass object at 0x113c5b1a0>, objtype=<class '__main__.MyClass'>\n"
     ]
    },
    {
     "data": {
      "text/plain": [
       "'d'"
      ]
     },
     "execution_count": 201,
     "metadata": {},
     "output_type": "execute_result"
    }
   ],
   "source": [
    "m1.y"
   ]
  },
  {
   "cell_type": "code",
   "execution_count": 202,
   "id": "cc914bb3-b264-4414-85f5-fedfab980490",
   "metadata": {},
   "outputs": [
    {
     "name": "stdout",
     "output_type": "stream",
     "text": [
      "Now in MyDescriptor.__set__, obj=<__main__.MyClass object at 0x113c5b1a0>, newvalue='z'\n"
     ]
    }
   ],
   "source": [
    "m1.y = 'z'"
   ]
  },
  {
   "cell_type": "code",
   "execution_count": 203,
   "id": "08b02fa9-4ab0-451e-af54-bbbcc223501d",
   "metadata": {},
   "outputs": [
    {
     "name": "stdout",
     "output_type": "stream",
     "text": [
      "Now in MyDescriptor.__get__, obj=<__main__.MyClass object at 0x113c5b1a0>, objtype=<class '__main__.MyClass'>\n"
     ]
    },
    {
     "data": {
      "text/plain": [
       "'z'"
      ]
     },
     "execution_count": 203,
     "metadata": {},
     "output_type": "execute_result"
    }
   ],
   "source": [
    "m1.y"
   ]
  },
  {
   "cell_type": "code",
   "execution_count": 204,
   "id": "16e31b3e-8696-434e-a4a8-3641f399edd3",
   "metadata": {},
   "outputs": [
    {
     "name": "stdout",
     "output_type": "stream",
     "text": [
      "Now in MyDescriptor.__get__, obj=<__main__.MyClass object at 0x113c4fa10>, objtype=<class '__main__.MyClass'>\n"
     ]
    },
    {
     "data": {
      "text/plain": [
       "'z'"
      ]
     },
     "execution_count": 204,
     "metadata": {},
     "output_type": "execute_result"
    }
   ],
   "source": [
    "m2.y"
   ]
  },
  {
   "cell_type": "code",
   "execution_count": 205,
   "id": "948590c6-765c-4b7d-a387-07302789c89d",
   "metadata": {},
   "outputs": [
    {
     "name": "stdout",
     "output_type": "stream",
     "text": [
      "Now in MyDescriptor.__set__, obj=<__main__.MyClass object at 0x113c4fa10>, newvalue='q'\n"
     ]
    }
   ],
   "source": [
    "m2.y = 'q'"
   ]
  },
  {
   "cell_type": "code",
   "execution_count": 206,
   "id": "1a2e483b-ed8f-412b-b5d3-f1b84b878505",
   "metadata": {},
   "outputs": [
    {
     "name": "stdout",
     "output_type": "stream",
     "text": [
      "Now in MyDescriptor.__get__, obj=<__main__.MyClass object at 0x113c5b1a0>, objtype=<class '__main__.MyClass'>\n"
     ]
    },
    {
     "data": {
      "text/plain": [
       "'q'"
      ]
     },
     "execution_count": 206,
     "metadata": {},
     "output_type": "execute_result"
    }
   ],
   "source": [
    "m1.y"
   ]
  },
  {
   "cell_type": "code",
   "execution_count": 207,
   "id": "9ac0d607-d8e4-4f49-9f68-25654aa0a10e",
   "metadata": {},
   "outputs": [
    {
     "name": "stdout",
     "output_type": "stream",
     "text": [
      "Now in MyDescriptor.__init__\n",
      "Now in MyDescriptor.__set__, obj=<__main__.MyClass object at 0x113c58530>, newvalue='first'\n",
      "Now in MyDescriptor.__set__, obj=<__main__.MyClass object at 0x113c5b1a0>, newvalue='second'\n"
     ]
    }
   ],
   "source": [
    "class MyDescriptor:\n",
    "    def __init__(self):\n",
    "        print(f'Now in MyDescriptor.__init__')\n",
    "        self.data = {}\n",
    "\n",
    "    def __get__(self, obj, objtype):\n",
    "        print(f'Now in MyDescriptor.__get__, {obj=}, {objtype=}')\n",
    "        return self.data[obj]\n",
    "\n",
    "    def __set__(self, obj, newvalue):\n",
    "        print(f'Now in MyDescriptor.__set__, {obj=}, {newvalue=}')\n",
    "        self.data[obj] = newvalue\n",
    "\n",
    "class MyClass:\n",
    "    x = 'abcd'\n",
    "    y = MyDescriptor()\n",
    "\n",
    "m1 = MyClass()\n",
    "m1.y = 'first'\n",
    "\n",
    "m2 = MyClass()\n",
    "m2.y = 'second'"
   ]
  },
  {
   "cell_type": "code",
   "execution_count": 208,
   "id": "dd98f043-4905-49ec-92af-028c7d5f99ed",
   "metadata": {},
   "outputs": [
    {
     "name": "stdout",
     "output_type": "stream",
     "text": [
      "Now in MyDescriptor.__get__, obj=<__main__.MyClass object at 0x113c58530>, objtype=<class '__main__.MyClass'>\n"
     ]
    },
    {
     "data": {
      "text/plain": [
       "'first'"
      ]
     },
     "execution_count": 208,
     "metadata": {},
     "output_type": "execute_result"
    }
   ],
   "source": [
    "m1.y"
   ]
  },
  {
   "cell_type": "code",
   "execution_count": 209,
   "id": "fadf584c-b789-40b8-a9e8-360d34691e0e",
   "metadata": {},
   "outputs": [
    {
     "name": "stdout",
     "output_type": "stream",
     "text": [
      "Now in MyDescriptor.__get__, obj=<__main__.MyClass object at 0x113c5b1a0>, objtype=<class '__main__.MyClass'>\n"
     ]
    },
    {
     "data": {
      "text/plain": [
       "'second'"
      ]
     },
     "execution_count": 209,
     "metadata": {},
     "output_type": "execute_result"
    }
   ],
   "source": [
    "m2.y"
   ]
  },
  {
   "cell_type": "code",
   "execution_count": null,
   "id": "aaa1d742-e643-4975-bc05-09dd096da97b",
   "metadata": {},
   "outputs": [],
   "source": [
    "# memory-friendly version\n",
    "\n",
    "from weakref import WeakKeyDict\n",
    "\n",
    "class MyDescriptor:\n",
    "    def __init__(self):\n",
    "        print(f'Now in MyDescriptor.__init__')\n",
    "        self.data = WeakKeyDict()   # new pair for each instance of MyClass\n",
    "\n",
    "    def __get__(self, obj, objtype):\n",
    "        print(f'Now in MyDescriptor.__get__, {obj=}, {objtype=}')\n",
    "        return self.data[obj]\n",
    "\n",
    "    def __set__(self, obj, newvalue):\n",
    "        print(f'Now in MyDescriptor.__set__, {obj=}, {newvalue=}')\n",
    "        self.data[obj] = newvalue\n",
    "\n",
    "class MyClass:\n",
    "    x = 'abcd'\n",
    "    y = MyDescriptor()\n",
    "\n",
    "m1 = MyClass()\n",
    "m1.y = 'first'\n",
    "\n",
    "m2 = MyClass()\n",
    "m2.y = 'second'"
   ]
  },
  {
   "cell_type": "code",
   "execution_count": 210,
   "id": "368ba9bd-775b-4743-a116-e6827e8eb72e",
   "metadata": {},
   "outputs": [],
   "source": [
    "class MyClass:\n",
    "    def hello(self):\n",
    "        return 'Hello!'"
   ]
  },
  {
   "cell_type": "code",
   "execution_count": 211,
   "id": "4967ab0e-0645-44e2-a300-2b584da76f47",
   "metadata": {},
   "outputs": [
    {
     "data": {
      "text/plain": [
       "function"
      ]
     },
     "execution_count": 211,
     "metadata": {},
     "output_type": "execute_result"
    }
   ],
   "source": [
    "type(MyClass.hello)"
   ]
  },
  {
   "cell_type": "code",
   "execution_count": 212,
   "id": "18eb1276-b548-4060-ae63-54b57561e2c6",
   "metadata": {},
   "outputs": [
    {
     "data": {
      "text/plain": [
       "method"
      ]
     },
     "execution_count": 212,
     "metadata": {},
     "output_type": "execute_result"
    }
   ],
   "source": [
    "m = MyClass()\n",
    "type(m.hello)"
   ]
  },
  {
   "cell_type": "code",
   "execution_count": 213,
   "id": "4f1d25c4-7eae-43c4-a461-49d856f51ae3",
   "metadata": {},
   "outputs": [
    {
     "data": {
      "text/plain": [
       "mappingproxy({'__module__': '__main__',\n",
       "              'hello': <function __main__.MyClass.hello(self)>,\n",
       "              '__dict__': <attribute '__dict__' of 'MyClass' objects>,\n",
       "              '__weakref__': <attribute '__weakref__' of 'MyClass' objects>,\n",
       "              '__doc__': None})"
      ]
     },
     "execution_count": 213,
     "metadata": {},
     "output_type": "execute_result"
    }
   ],
   "source": [
    "MyClass.__dict__"
   ]
  },
  {
   "cell_type": "markdown",
   "id": "f3f8d0a0-08a2-4ef3-8925-d4bb1939ebfa",
   "metadata": {},
   "source": [
    "# \n",
    "\n",
    "1. `__slots__`\n",
    "2. Iterators\n",
    "3. Generators"
   ]
  },
  {
   "cell_type": "code",
   "execution_count": 214,
   "id": "b37f3d69-f3e6-438e-bcb2-2396f58f783b",
   "metadata": {},
   "outputs": [
    {
     "data": {
      "text/plain": [
       "{'x': 10, 'y': 20}"
      ]
     },
     "execution_count": 214,
     "metadata": {},
     "output_type": "execute_result"
    }
   ],
   "source": [
    "class MyClass:\n",
    "    def __init__(self, x, y):\n",
    "        self.x = x\n",
    "        self.y = y\n",
    "\n",
    "m = MyClass(10, 20)\n",
    "vars(m)"
   ]
  },
  {
   "cell_type": "code",
   "execution_count": 215,
   "id": "6883927a-6667-4d0b-ad21-c2bfd84c9481",
   "metadata": {},
   "outputs": [
    {
     "data": {
      "text/plain": [
       "{'x': 100, 'y': 20}"
      ]
     },
     "execution_count": 215,
     "metadata": {},
     "output_type": "execute_result"
    }
   ],
   "source": [
    "m.x = 100\n",
    "vars(m)"
   ]
  },
  {
   "cell_type": "code",
   "execution_count": 216,
   "id": "977fe9fb-caff-471c-8510-a58c1faf56f4",
   "metadata": {},
   "outputs": [
    {
     "data": {
      "text/plain": [
       "{'x': 100, 'y': 20, 'b': 200}"
      ]
     },
     "execution_count": 216,
     "metadata": {},
     "output_type": "execute_result"
    }
   ],
   "source": [
    "m.b = 200\n",
    "vars(m)"
   ]
  },
  {
   "cell_type": "code",
   "execution_count": 218,
   "id": "4ee2d2fa-5f5f-493b-8967-663036a97bd8",
   "metadata": {},
   "outputs": [
    {
     "ename": "TypeError",
     "evalue": "vars() argument must have __dict__ attribute",
     "output_type": "error",
     "traceback": [
      "\u001b[0;31m---------------------------------------------------------------------------\u001b[0m",
      "\u001b[0;31mTypeError\u001b[0m                                 Traceback (most recent call last)",
      "Cell \u001b[0;32mIn[218], line 9\u001b[0m\n\u001b[1;32m      6\u001b[0m         \u001b[38;5;28mself\u001b[39m\u001b[38;5;241m.\u001b[39my \u001b[38;5;241m=\u001b[39m y\n\u001b[1;32m      8\u001b[0m m \u001b[38;5;241m=\u001b[39m MyClass(\u001b[38;5;241m10\u001b[39m, \u001b[38;5;241m20\u001b[39m)\n\u001b[0;32m----> 9\u001b[0m \u001b[38;5;28;43mvars\u001b[39;49m\u001b[43m(\u001b[49m\u001b[43mm\u001b[49m\u001b[43m)\u001b[49m\n",
      "\u001b[0;31mTypeError\u001b[0m: vars() argument must have __dict__ attribute"
     ]
    }
   ],
   "source": [
    "class MyClass:\n",
    "    __slots__ = ['x', 'y']\n",
    "\n",
    "    def __init__(self, x, y):\n",
    "        self.x = x\n",
    "        self.y = y\n",
    "\n",
    "m = MyClass(10, 20)\n",
    "vars(m)"
   ]
  },
  {
   "cell_type": "code",
   "execution_count": 219,
   "id": "3fc0e5fa-0be7-4a8f-8b6b-6fa4e29b7043",
   "metadata": {},
   "outputs": [
    {
     "data": {
      "text/plain": [
       "10"
      ]
     },
     "execution_count": 219,
     "metadata": {},
     "output_type": "execute_result"
    }
   ],
   "source": [
    "m.x"
   ]
  },
  {
   "cell_type": "code",
   "execution_count": 220,
   "id": "defc1c1c-f19a-4011-83e5-201994d4544d",
   "metadata": {},
   "outputs": [],
   "source": [
    "m.x = 200"
   ]
  },
  {
   "cell_type": "code",
   "execution_count": 221,
   "id": "609d1dcc-7251-4e47-990f-305dab2ea837",
   "metadata": {},
   "outputs": [
    {
     "data": {
      "text/plain": [
       "200"
      ]
     },
     "execution_count": 221,
     "metadata": {},
     "output_type": "execute_result"
    }
   ],
   "source": [
    "m.x"
   ]
  },
  {
   "cell_type": "code",
   "execution_count": 222,
   "id": "7a6fb4e9-1511-4e44-9985-1abcb5df073f",
   "metadata": {},
   "outputs": [
    {
     "ename": "AttributeError",
     "evalue": "'MyClass' object has no attribute 'b'",
     "output_type": "error",
     "traceback": [
      "\u001b[0;31m---------------------------------------------------------------------------\u001b[0m",
      "\u001b[0;31mAttributeError\u001b[0m                            Traceback (most recent call last)",
      "Cell \u001b[0;32mIn[222], line 1\u001b[0m\n\u001b[0;32m----> 1\u001b[0m \u001b[43mm\u001b[49m\u001b[38;5;241;43m.\u001b[39;49m\u001b[43mb\u001b[49m \u001b[38;5;241m=\u001b[39m \u001b[38;5;241m300\u001b[39m\n",
      "\u001b[0;31mAttributeError\u001b[0m: 'MyClass' object has no attribute 'b'"
     ]
    }
   ],
   "source": [
    "m.b = 300"
   ]
  },
  {
   "cell_type": "code",
   "execution_count": 224,
   "id": "456f97e5-0c74-44fc-b8d6-9e20f2b4ca1d",
   "metadata": {},
   "outputs": [
    {
     "name": "stdout",
     "output_type": "stream",
     "text": [
      "15 ns ± 1.37 ns per loop (mean ± std. dev. of 7 runs, 100,000,000 loops each)\n"
     ]
    }
   ],
   "source": [
    "%timeit m.x"
   ]
  },
  {
   "cell_type": "code",
   "execution_count": 225,
   "id": "2592c50d-78de-46c2-a39b-4af002d2086f",
   "metadata": {},
   "outputs": [],
   "source": [
    "class MyClass:\n",
    "    def __init__(self, x, y):\n",
    "        self.x = x\n",
    "        self.y = y\n",
    "\n",
    "m = MyClass(10, 20)"
   ]
  },
  {
   "cell_type": "code",
   "execution_count": 226,
   "id": "d6b23634-614c-4ca1-9640-9b3078ae265b",
   "metadata": {},
   "outputs": [
    {
     "name": "stdout",
     "output_type": "stream",
     "text": [
      "14.4 ns ± 0.599 ns per loop (mean ± std. dev. of 7 runs, 100,000,000 loops each)\n"
     ]
    }
   ],
   "source": [
    "%timeit m.x"
   ]
  },
  {
   "cell_type": "markdown",
   "id": "ea74c519-be00-4aef-81d5-735282c9c1e1",
   "metadata": {},
   "source": [
    "# Iterations and the iterator protocol"
   ]
  },
  {
   "cell_type": "code",
   "execution_count": 227,
   "id": "de562857-4079-4425-8937-2c02e8164d05",
   "metadata": {},
   "outputs": [
    {
     "name": "stdout",
     "output_type": "stream",
     "text": [
      "a\n",
      "b\n",
      "c\n",
      "d\n"
     ]
    }
   ],
   "source": [
    "s = 'abcd'\n",
    "\n",
    "for one_character in s:\n",
    "    print(one_character)"
   ]
  },
  {
   "cell_type": "markdown",
   "id": "ad9a3224-279b-4ae2-bd81-c541dbd22697",
   "metadata": {},
   "source": [
    "What's going on here?\n",
    "\n",
    "1. The `for` loop asks `s` (or the object at the end of the line): Are you iterable? -- `iter` returns the iterator, if there is one.\n",
    "    - If not, then the loop exits with a `TypeError`\n",
    "2. The `for` loop asks the iterator for its next value -- `next`\n",
    "    - If there are no more values, then the loop exits -- `StopIteration`\n",
    "3. If there are more values, then the next is assigned to our variable `one_character`\n",
    "4. The loop body executes\n",
    "5. Goto line 2"
   ]
  },
  {
   "cell_type": "code",
   "execution_count": 229,
   "id": "e54a0786-13f0-41fb-8da5-05e3fe819920",
   "metadata": {},
   "outputs": [
    {
     "data": {
      "text/plain": [
       "<str_ascii_iterator at 0x1140b4220>"
      ]
     },
     "execution_count": 229,
     "metadata": {},
     "output_type": "execute_result"
    }
   ],
   "source": [
    "s = 'abcd'    # iterable\n",
    "iter(s)       # returns s's iterator"
   ]
  },
  {
   "cell_type": "code",
   "execution_count": 230,
   "id": "43351f3d-9e32-4234-859c-1e51be09c832",
   "metadata": {},
   "outputs": [
    {
     "data": {
      "text/plain": [
       "<str_ascii_iterator at 0x1140b42b0>"
      ]
     },
     "execution_count": 230,
     "metadata": {},
     "output_type": "execute_result"
    }
   ],
   "source": [
    "iter(s)"
   ]
  },
  {
   "cell_type": "code",
   "execution_count": 231,
   "id": "32665cd8-7c31-42cf-be88-aad4d6c141a9",
   "metadata": {},
   "outputs": [
    {
     "data": {
      "text/plain": [
       "<str_ascii_iterator at 0x1140b4610>"
      ]
     },
     "execution_count": 231,
     "metadata": {},
     "output_type": "execute_result"
    }
   ],
   "source": [
    "iter(s)"
   ]
  },
  {
   "cell_type": "code",
   "execution_count": 232,
   "id": "6c4c5418-7b73-4f53-b62c-da14459df9ed",
   "metadata": {},
   "outputs": [],
   "source": [
    "i = iter(s)"
   ]
  },
  {
   "cell_type": "code",
   "execution_count": 233,
   "id": "1c04753c-97f8-4454-b7cd-5858a0590b45",
   "metadata": {},
   "outputs": [
    {
     "data": {
      "text/plain": [
       "'a'"
      ]
     },
     "execution_count": 233,
     "metadata": {},
     "output_type": "execute_result"
    }
   ],
   "source": [
    "next(i)"
   ]
  },
  {
   "cell_type": "code",
   "execution_count": 234,
   "id": "c8e02f64-ba63-4fd6-9b0b-5ed2adda60e3",
   "metadata": {},
   "outputs": [
    {
     "data": {
      "text/plain": [
       "'b'"
      ]
     },
     "execution_count": 234,
     "metadata": {},
     "output_type": "execute_result"
    }
   ],
   "source": [
    "next(i)"
   ]
  },
  {
   "cell_type": "code",
   "execution_count": 236,
   "id": "eb0b09f6-5644-43ed-986b-e7ce972fdb30",
   "metadata": {},
   "outputs": [
    {
     "data": {
      "text/plain": [
       "'c'"
      ]
     },
     "execution_count": 236,
     "metadata": {},
     "output_type": "execute_result"
    }
   ],
   "source": [
    "next(i)"
   ]
  },
  {
   "cell_type": "code",
   "execution_count": 237,
   "id": "e9a50a48-e49d-478f-99ec-6b9d2eabfec8",
   "metadata": {},
   "outputs": [
    {
     "data": {
      "text/plain": [
       "'d'"
      ]
     },
     "execution_count": 237,
     "metadata": {},
     "output_type": "execute_result"
    }
   ],
   "source": [
    "next(i)"
   ]
  },
  {
   "cell_type": "code",
   "execution_count": 238,
   "id": "9a98571f-9cd1-45f5-9ab9-062d30ab2503",
   "metadata": {},
   "outputs": [
    {
     "ename": "StopIteration",
     "evalue": "",
     "output_type": "error",
     "traceback": [
      "\u001b[0;31m---------------------------------------------------------------------------\u001b[0m",
      "\u001b[0;31mStopIteration\u001b[0m                             Traceback (most recent call last)",
      "Cell \u001b[0;32mIn[238], line 1\u001b[0m\n\u001b[0;32m----> 1\u001b[0m \u001b[38;5;28;43mnext\u001b[39;49m\u001b[43m(\u001b[49m\u001b[43mi\u001b[49m\u001b[43m)\u001b[49m\n",
      "\u001b[0;31mStopIteration\u001b[0m: "
     ]
    }
   ],
   "source": [
    "next(i)"
   ]
  },
  {
   "cell_type": "code",
   "execution_count": 239,
   "id": "26747305-1595-4597-9aba-eac0841efeb2",
   "metadata": {},
   "outputs": [
    {
     "ename": "TypeError",
     "evalue": "'MyClass' object is not iterable",
     "output_type": "error",
     "traceback": [
      "\u001b[0;31m---------------------------------------------------------------------------\u001b[0m",
      "\u001b[0;31mTypeError\u001b[0m                                 Traceback (most recent call last)",
      "Cell \u001b[0;32mIn[239], line 6\u001b[0m\n\u001b[1;32m      2\u001b[0m     \u001b[38;5;28;01mpass\u001b[39;00m\n\u001b[1;32m      4\u001b[0m m \u001b[38;5;241m=\u001b[39m MyClass()\n\u001b[0;32m----> 6\u001b[0m \u001b[38;5;28;43;01mfor\u001b[39;49;00m\u001b[43m \u001b[49m\u001b[43mone_item\u001b[49m\u001b[43m \u001b[49m\u001b[38;5;129;43;01min\u001b[39;49;00m\u001b[43m \u001b[49m\u001b[43mm\u001b[49m\u001b[43m:\u001b[49m\n\u001b[1;32m      7\u001b[0m \u001b[43m    \u001b[49m\u001b[38;5;28;43mprint\u001b[39;49m\u001b[43m(\u001b[49m\u001b[43mone_item\u001b[49m\u001b[43m)\u001b[49m\n",
      "\u001b[0;31mTypeError\u001b[0m: 'MyClass' object is not iterable"
     ]
    }
   ],
   "source": [
    "class MyClass:\n",
    "    pass\n",
    "\n",
    "m = MyClass()\n",
    "\n",
    "for one_item in m:\n",
    "    print(one_item)"
   ]
  },
  {
   "cell_type": "code",
   "execution_count": 241,
   "id": "8c2b56bf-3c11-41b2-ba0b-327fec881da2",
   "metadata": {},
   "outputs": [
    {
     "name": "stdout",
     "output_type": "stream",
     "text": [
      "In MyClass.__init__\n",
      "In MyClass.__iter__\n",
      "In MyClass.__next__\n",
      "a\n",
      "In MyClass.__next__\n",
      "b\n",
      "In MyClass.__next__\n",
      "c\n",
      "In MyClass.__next__\n",
      "d\n",
      "In MyClass.__next__\n",
      "e\n",
      "In MyClass.__next__\n"
     ]
    }
   ],
   "source": [
    "# We have to write:\n",
    "# __iter__ -- called once per loop, and returns an iterator\n",
    "# __next__ -- called once per *iteration*, and returns a value *or* raises StopIteration\n",
    "\n",
    "class MyClass:\n",
    "    def __init__(self, data):\n",
    "        print(f'In MyClass.__init__')\n",
    "        self.data = data\n",
    "        self.index = 0\n",
    "\n",
    "    def __iter__(self):\n",
    "        print(f'In MyClass.__iter__')\n",
    "        return self\n",
    "\n",
    "    def __next__(self):\n",
    "        print(f'In MyClass.__next__')\n",
    "        if self.index >= len(self.data):\n",
    "            raise StopIteration\n",
    "\n",
    "        value = self.data[self.index]\n",
    "        self.index += 1\n",
    "        return value\n",
    "            \n",
    "\n",
    "m = MyClass('abcde')\n",
    "\n",
    "for one_item in m:\n",
    "    print(one_item)"
   ]
  },
  {
   "cell_type": "code",
   "execution_count": 242,
   "id": "acdd32a9-39d7-4b95-acb8-ab3b06d5cfc9",
   "metadata": {},
   "outputs": [
    {
     "name": "stdout",
     "output_type": "stream",
     "text": [
      "In MyClass.__iter__\n"
     ]
    },
    {
     "data": {
      "text/plain": [
       "<__main__.MyClass at 0x113c122d0>"
      ]
     },
     "execution_count": 242,
     "metadata": {},
     "output_type": "execute_result"
    }
   ],
   "source": [
    "iter(m)"
   ]
  },
  {
   "cell_type": "code",
   "execution_count": 243,
   "id": "847824fa-d477-4e24-a9dd-ca8a2db72094",
   "metadata": {},
   "outputs": [
    {
     "name": "stdout",
     "output_type": "stream",
     "text": [
      "In MyClass.__iter__\n"
     ]
    },
    {
     "data": {
      "text/plain": [
       "<__main__.MyClass at 0x113c122d0>"
      ]
     },
     "execution_count": 243,
     "metadata": {},
     "output_type": "execute_result"
    }
   ],
   "source": [
    "iter(m)"
   ]
  },
  {
   "cell_type": "code",
   "execution_count": 244,
   "id": "384203c7-9ec3-48c7-9c66-d1a4ea569faf",
   "metadata": {},
   "outputs": [
    {
     "name": "stdout",
     "output_type": "stream",
     "text": [
      "In MyClass.__iter__\n"
     ]
    },
    {
     "data": {
      "text/plain": [
       "<__main__.MyClass at 0x113c122d0>"
      ]
     },
     "execution_count": 244,
     "metadata": {},
     "output_type": "execute_result"
    }
   ],
   "source": [
    "iter(m)"
   ]
  },
  {
   "cell_type": "code",
   "execution_count": 246,
   "id": "830f486a-c9de-4559-9695-f50ccd05d297",
   "metadata": {},
   "outputs": [
    {
     "data": {
      "text/plain": [
       "'0x113c122d0'"
      ]
     },
     "execution_count": 246,
     "metadata": {},
     "output_type": "execute_result"
    }
   ],
   "source": [
    "hex(id(m))"
   ]
  },
  {
   "cell_type": "markdown",
   "id": "1e7f0c21-d408-4e27-93a3-6c6bf566d710",
   "metadata": {},
   "source": [
    "# Exercise: Circle\n",
    "\n",
    "1. Define a class, `Circle`, that takes two arguments:\n",
    "    - A sequence (string, list, tuple)\n",
    "    - An integer (the number of iterations we want)\n",
    "2. If the number is larger than the number of elements, then we start from the beginning\n",
    "\n",
    "Example:\n",
    "\n",
    "```python\n",
    "c = Circle('abcd', 7)\n",
    "\n",
    "for one_item in c:\n",
    "    print(one_item)   # a b c d a b c \n",
    "```"
   ]
  },
  {
   "cell_type": "code",
   "execution_count": 249,
   "id": "d31a98bd-324e-4b02-8463-8b4867b51da8",
   "metadata": {},
   "outputs": [
    {
     "name": "stdout",
     "output_type": "stream",
     "text": [
      "a\n",
      "b\n",
      "c\n",
      "d\n",
      "a\n",
      "b\n",
      "c\n"
     ]
    }
   ],
   "source": [
    "class Circle:\n",
    "    def __init__(self, data, maxtimes):\n",
    "        self.data = data\n",
    "        self.maxtimes = maxtimes\n",
    "        self.index = 0\n",
    "\n",
    "    def __iter__(self):\n",
    "        return self\n",
    "\n",
    "    def __next__(self):\n",
    "        if self.index >= self.maxtimes:\n",
    "            raise StopIteration\n",
    "\n",
    "        value = self.data[self.index % len(self.data)]\n",
    "        self.index += 1\n",
    "        return value\n",
    "\n",
    "c = Circle('abcd', 7)\n",
    "\n",
    "for one_item in c:\n",
    "    print(one_item)   # a b c d a b c \n"
   ]
  },
  {
   "cell_type": "code",
   "execution_count": 250,
   "id": "5ab178ce-5b6b-4ac3-bb6e-5d2894db75e2",
   "metadata": {},
   "outputs": [],
   "source": [
    "for one_item in c:\n",
    "    print(one_item)"
   ]
  },
  {
   "cell_type": "code",
   "execution_count": 251,
   "id": "1252b99e-3f41-4280-9f87-8bb2512c4d32",
   "metadata": {},
   "outputs": [
    {
     "ename": "StopIteration",
     "evalue": "",
     "output_type": "error",
     "traceback": [
      "\u001b[0;31m---------------------------------------------------------------------------\u001b[0m",
      "\u001b[0;31mStopIteration\u001b[0m                             Traceback (most recent call last)",
      "Cell \u001b[0;32mIn[251], line 1\u001b[0m\n\u001b[0;32m----> 1\u001b[0m \u001b[38;5;28;43mnext\u001b[39;49m\u001b[43m(\u001b[49m\u001b[43mc\u001b[49m\u001b[43m)\u001b[49m\n",
      "Cell \u001b[0;32mIn[249], line 12\u001b[0m, in \u001b[0;36mCircle.__next__\u001b[0;34m(self)\u001b[0m\n\u001b[1;32m     10\u001b[0m \u001b[38;5;28;01mdef\u001b[39;00m \u001b[38;5;21m__next__\u001b[39m(\u001b[38;5;28mself\u001b[39m):\n\u001b[1;32m     11\u001b[0m     \u001b[38;5;28;01mif\u001b[39;00m \u001b[38;5;28mself\u001b[39m\u001b[38;5;241m.\u001b[39mindex \u001b[38;5;241m>\u001b[39m\u001b[38;5;241m=\u001b[39m \u001b[38;5;28mself\u001b[39m\u001b[38;5;241m.\u001b[39mmaxtimes:\n\u001b[0;32m---> 12\u001b[0m         \u001b[38;5;28;01mraise\u001b[39;00m \u001b[38;5;167;01mStopIteration\u001b[39;00m\n\u001b[1;32m     14\u001b[0m     value \u001b[38;5;241m=\u001b[39m \u001b[38;5;28mself\u001b[39m\u001b[38;5;241m.\u001b[39mdata[\u001b[38;5;28mself\u001b[39m\u001b[38;5;241m.\u001b[39mindex \u001b[38;5;241m%\u001b[39m \u001b[38;5;28mlen\u001b[39m(\u001b[38;5;28mself\u001b[39m\u001b[38;5;241m.\u001b[39mdata)]\n\u001b[1;32m     15\u001b[0m     \u001b[38;5;28mself\u001b[39m\u001b[38;5;241m.\u001b[39mindex \u001b[38;5;241m+\u001b[39m\u001b[38;5;241m=\u001b[39m \u001b[38;5;241m1\u001b[39m\n",
      "\u001b[0;31mStopIteration\u001b[0m: "
     ]
    }
   ],
   "source": [
    "next(c)"
   ]
  },
  {
   "cell_type": "code",
   "execution_count": null,
   "id": "729a6de9-54d9-4c12-b9b4-e845cbe8fe24",
   "metadata": {},
   "outputs": [],
   "source": [
    "class Circle:\n",
    "    def __init__(self, data, maxtimes):\n",
    "        self.data = data\n",
    "        self.maxtimes = maxtimes\n",
    "        self.index = 0\n",
    "\n",
    "    def __iter__(self):\n",
    "        return self\n",
    "\n",
    "    def __next__(self):\n",
    "        if self.index >= self.maxtimes:\n",
    "            raise StopIteration\n",
    "\n",
    "        value = self.data[self.index % len(self.data)]\n",
    "        self.index += 1\n",
    "        return value\n",
    "\n",
    "c = Circle('abcd', 7)\n",
    "\n",
    "for one_item in c:\n",
    "    print(one_item)   # a b c d a b c \n"
   ]
  },
  {
   "cell_type": "code",
   "execution_count": 252,
   "id": "814f8186-bf98-4573-844d-c0c099efef0c",
   "metadata": {},
   "outputs": [],
   "source": [
    "s = 'abcd'\n",
    "i1 = iter(s)\n",
    "i2 = iter(s)"
   ]
  },
  {
   "cell_type": "code",
   "execution_count": 253,
   "id": "3455e13c-dfec-4794-8fe1-4a528048f6c2",
   "metadata": {},
   "outputs": [
    {
     "data": {
      "text/plain": [
       "'a'"
      ]
     },
     "execution_count": 253,
     "metadata": {},
     "output_type": "execute_result"
    }
   ],
   "source": [
    "next(i1)"
   ]
  },
  {
   "cell_type": "code",
   "execution_count": 254,
   "id": "3c6f52f4-d563-4a45-86b3-ee1fbfc9309b",
   "metadata": {},
   "outputs": [
    {
     "data": {
      "text/plain": [
       "'a'"
      ]
     },
     "execution_count": 254,
     "metadata": {},
     "output_type": "execute_result"
    }
   ],
   "source": [
    "next(i2)"
   ]
  },
  {
   "cell_type": "code",
   "execution_count": 256,
   "id": "cb560c20-68d6-4374-9068-1b63e427f1b9",
   "metadata": {},
   "outputs": [
    {
     "data": {
      "text/plain": [
       "'b'"
      ]
     },
     "execution_count": 256,
     "metadata": {},
     "output_type": "execute_result"
    }
   ],
   "source": [
    "next(i1)"
   ]
  },
  {
   "cell_type": "code",
   "execution_count": 257,
   "id": "ed7ca007-0dea-4f59-8b21-8a5746183bd5",
   "metadata": {},
   "outputs": [
    {
     "data": {
      "text/plain": [
       "'c'"
      ]
     },
     "execution_count": 257,
     "metadata": {},
     "output_type": "execute_result"
    }
   ],
   "source": [
    "next(i1)"
   ]
  },
  {
   "cell_type": "code",
   "execution_count": 258,
   "id": "a1df3241-b96c-408b-8044-53dde0b1f159",
   "metadata": {},
   "outputs": [
    {
     "data": {
      "text/plain": [
       "'b'"
      ]
     },
     "execution_count": 258,
     "metadata": {},
     "output_type": "execute_result"
    }
   ],
   "source": [
    "next(i2)"
   ]
  },
  {
   "cell_type": "code",
   "execution_count": 259,
   "id": "2704f292-cb3f-4d2f-8e34-b219893ef835",
   "metadata": {},
   "outputs": [
    {
     "data": {
      "text/plain": [
       "str_ascii_iterator"
      ]
     },
     "execution_count": 259,
     "metadata": {},
     "output_type": "execute_result"
    }
   ],
   "source": [
    "type(i1)"
   ]
  },
  {
   "cell_type": "code",
   "execution_count": null,
   "id": "6e082761-45ca-44b1-96df-29412fab3547",
   "metadata": {},
   "outputs": [],
   "source": []
  },
  {
   "cell_type": "code",
   "execution_count": 260,
   "id": "3f8f639e-b09a-4d1c-a7d1-4be1da9c8ac5",
   "metadata": {},
   "outputs": [
    {
     "name": "stdout",
     "output_type": "stream",
     "text": [
      "a\n",
      "b\n",
      "c\n",
      "d\n",
      "a\n",
      "b\n",
      "c\n"
     ]
    }
   ],
   "source": [
    "class CircleIterator:\n",
    "    def __init__(self, data, maxtimes):\n",
    "        self.data = data\n",
    "        self.maxtimes = maxtimes\n",
    "        self.index = 0\n",
    "\n",
    "    def __next__(self):\n",
    "        if self.index >= self.maxtimes:\n",
    "            raise StopIteration\n",
    "\n",
    "        value = self.data[self.index % len(self.data)]\n",
    "        self.index += 1\n",
    "        return value\n",
    "\n",
    "class Circle:\n",
    "    def __init__(self, data, maxtimes):\n",
    "        self.data = data\n",
    "        self.maxtimes = maxtimes\n",
    "\n",
    "    def __iter__(self):\n",
    "        return CircleIterator(self.data, self.maxtimes)\n",
    "\n",
    "c = Circle('abcd', 7)\n",
    "\n",
    "for one_item in c:\n",
    "    print(one_item)   # a b c d a b c \n"
   ]
  },
  {
   "cell_type": "code",
   "execution_count": 261,
   "id": "f16fd65b-1c91-4783-a5ab-40589a1a4d02",
   "metadata": {},
   "outputs": [
    {
     "name": "stdout",
     "output_type": "stream",
     "text": [
      "a\n",
      "b\n",
      "c\n",
      "d\n",
      "a\n",
      "b\n",
      "c\n"
     ]
    }
   ],
   "source": [
    "for one_item in c:\n",
    "    print(one_item)   # a b c d a b c \n"
   ]
  },
  {
   "cell_type": "code",
   "execution_count": 262,
   "id": "a9d4b5d1-376b-418a-8e30-4c1c739c04af",
   "metadata": {},
   "outputs": [
    {
     "data": {
      "text/plain": [
       "<__main__.CircleIterator at 0x1139d0620>"
      ]
     },
     "execution_count": 262,
     "metadata": {},
     "output_type": "execute_result"
    }
   ],
   "source": [
    "iter(c)"
   ]
  },
  {
   "cell_type": "code",
   "execution_count": 263,
   "id": "e295dd1a-ba7a-4a30-8edb-15a0c47ee164",
   "metadata": {},
   "outputs": [
    {
     "data": {
      "text/plain": [
       "<__main__.CircleIterator at 0x1139d31a0>"
      ]
     },
     "execution_count": 263,
     "metadata": {},
     "output_type": "execute_result"
    }
   ],
   "source": [
    "iter(c)"
   ]
  },
  {
   "cell_type": "code",
   "execution_count": 264,
   "id": "51f90b8f-8259-4956-80d1-e026010e6644",
   "metadata": {},
   "outputs": [
    {
     "data": {
      "text/plain": [
       "<__main__.CircleIterator at 0x1139d19d0>"
      ]
     },
     "execution_count": 264,
     "metadata": {},
     "output_type": "execute_result"
    }
   ],
   "source": [
    "iter(c)"
   ]
  },
  {
   "cell_type": "markdown",
   "id": "d956f503-448e-4bd5-bcba-908af844d13d",
   "metadata": {},
   "source": [
    "# Exercise: Only vowels\n",
    "\n",
    "1. Define a class, `OnlyVowels`, that takes the name of a (text) file.\n",
    "2. If we iterate over an instance of `OnlyVowels`, we'll get, one at a time, the vowels from the file.\n",
    "3. Use two classes to implement this."
   ]
  },
  {
   "cell_type": "code",
   "execution_count": 271,
   "id": "02ebbe07-bad3-4dcd-b48a-cbd976ffa732",
   "metadata": {},
   "outputs": [],
   "source": [
    "class OnlyVowels:\n",
    "    def __init__(self, filename):\n",
    "        self.file = open(filename, 'r')\n",
    "\n",
    "    def __iter__(self):\n",
    "        return self\n",
    "\n",
    "    def __next__(self):\n",
    "        while True:\n",
    "            next_char = self.file.read(1)\n",
    "\n",
    "            if not next_char:\n",
    "                raise StopIteration\n",
    "\n",
    "            if next_char.lower() in 'aeiou':\n",
    "                return next_char\n",
    "o = OnlyVowels('/etc/passwd')"
   ]
  },
  {
   "cell_type": "code",
   "execution_count": 272,
   "id": "1abe99c1-4a7b-41a1-8526-6b1e3f2677c2",
   "metadata": {},
   "outputs": [
    {
     "name": "stdout",
     "output_type": "stream",
     "text": [
      "U e a a a e o e a i i e i o u e i e o e e e i u i i i e u e o e A o e i e i i o a i o i o i e O e i e o e e e o e i e o a a e o a i i o a i o a i o a o u O e i e o o o U i i e e U e a e u i a e o o e A i i a o a o o i a e o e e i e a o o u i a e u u U i o U i o o o o a o o u u u i u u i o a a e a a e a e o a e u i a e e o e o e i e a e o u i a e i a a i a I a A i a a e u i a e i i e i e a o o u u i a e o i o i a i e e a o o o i u i a e e i e o i u a i o e i e a e u i a e e e i i a e E o e e i e a e u i a e a o e a A o e e i e a a o e u i a e a A a u a e u i a e a e e e A e E e a e o a e u i a e e o e o e i e a e o a e o u i a e e o e e o e o u e a i o a e u i a e a o e a e a e u i a e e o e e o e a e u i a e a A e e o e e o a e u i a e o i e e e e i a e e e u i a e e A e E e U e a e u i a e e e a e u i a e e e a e u i a e e e a e u i a e i i e e e a a i o a e u i a e u i i e e a i e e a e u i a e u u A i i a o a i a u i a e a i a a i a i e e a e u i a e a e e A i a i o e e a e u i a e a a a A a e o a i u a i u i a e a a i A a i a e o a i u a i u i a e a e a e e e a e u i a e a o e A i a i o O e a e u i a e i o e e i o e e a e u i a e o i o i a e u i a e o e o e a e o a e u i a e e u i a e e u i A e a e u i a e u i a e a e a a e a a e u i a e e a e e e a e e a e a e e u i a e u a e a i U a e a i a e u i a e i a e I a e a e u i a e a e e A e e a e u i a e a e o a e u i a e u o U o U e a e u i a e o a e u a e o a e U a e e i e a o a e u a e u i a e o e a u i o o e A u i o a e o a e u i a e e e a e e e a e a e u i a e o a i o o a i o a e o a o a i o u i a e u e a u a i o a e u E a u a i o A e a e u i a e i e o e A u o i e o e a e o a e u i a e a o a e i e A e a e u i a e o o o o a e u i a e u u i o e O e i e e e a o o u i a e o e o o e o A i i a o a e u i a e a u i o A u i o a e u i a e o e o e e e a e u i a e e e o i e a i i e a e u i a e a i a i e e o A i e i e a e u i a e a i a e e e o a e a o e i e a e u i a e e i e e i e a a e e e e a e u i a e e a u e e e A u e e a e u i a e e i o e I O a e u i a e a a a e o a e u i a e o e u o e o A u e i a i o a e u i a e e a i i e o a i i a e o a e u i a e a e i e E e e A e i e a e o a e u i a e O e i e o e e o i e a i i e a e u i a e a i O e i e o e e o A i e i e a e u i a e a e O e i e o e e o a e a o e i e a e u i a e e e o O e i e o e e o a e u i a e a o o u O e i e o e e o A o o u a e u i a e a e a e A e a e e i e a e u i a e o e e i a i o o e e i a I O a e o a e u i a e a u e i e a u e i e a e u i a e i o e i e I o e i e a e u i a e i o e i o e a e u i a e u e i o U e i o a e o a u e i o u i a e i a o i i a o i a e o a e u i a e a i A i e i e a a i u i a e a e e o A A o u a e u i a e a e o o e a e o o e a e o a e u i a e e u u e e u U e a e u i a o e a O e a e o u e a e o a o e a u i a e e e o a O e e o u e e i e a e u i a e o o a e u i a e o i e a e o i e A e U e a a u i a e i e i e i e i e a e o a i e i e u i a e a a e e o a a e e o a a a e e o u i a e a i e a e a i e a e a e u i a e A o u a e u i a e a e a a e a A o u a a e a u i a e i I e i e U e a i u i a e i o a a i a o e e i a I O A i a U e a i o a a i a u i a e a a i A a i a e o a a a i u i a e a e o a u i a e i e i e a e o a i e u i a e e a o i i a a i a e o a e a u i a e e o e o e e i o e o e o E e i o a e o e o e e i o u i a e i e i i e i a e u i a e i i a e i o i I a e I O a e o a i i a e i o u i a e o o a e o a i a o i u i a e a i a A I a a e o a a i a u i a e i a o o i a i o I a o o i a i o a e o a i a o o i a i o u i a e e o e o a e o a e u i a e e o e a a e e a e o a u i a e a e o u a e A e o U a e a e o a a e o u a e u i a e o e e a o e e a a e o a o e e a u i a e o e o e e i e a o e u i a e e e a e o a e u i a e u u a e u i a e a i e a e a i e a e a a i e a e u i a e a i a e o a i a e o a a i a e o u i a e o i i a i o o o i i a i o o a e u i a e a i i e A e i u a a o I i e a e u i a e i o e i o e a i o e u i a e a o u a e a o u A e e i e a e u i a e o i e e a e e o i e e a e e a e u i a e a u i o A u i o a e i a E e i e e a e o a a u i o u i a e e i u e i u a e u i a e e u a e i e A e e u a E i e a e u a e i e u i a e o a O A a e o a e u i a e "
     ]
    }
   ],
   "source": [
    "for one_item in o:\n",
    "    print(one_item, end=' ')"
   ]
  },
  {
   "cell_type": "code",
   "execution_count": null,
   "id": "6d44cf26-f80b-4134-b5c3-4e8209b2a704",
   "metadata": {},
   "outputs": [],
   "source": []
  },
  {
   "cell_type": "code",
   "execution_count": null,
   "id": "049f1964-7065-4a69-bcf9-e4ac8d6265a5",
   "metadata": {},
   "outputs": [],
   "source": []
  },
  {
   "cell_type": "code",
   "execution_count": 265,
   "id": "bc10ece1-cdbb-4124-bdea-c15f94e53a7c",
   "metadata": {},
   "outputs": [],
   "source": [
    "f = open('/etc/passwd')"
   ]
  },
  {
   "cell_type": "code",
   "execution_count": 266,
   "id": "f842006c-489c-4773-94bc-afd3b4e0b944",
   "metadata": {},
   "outputs": [
    {
     "data": {
      "text/plain": [
       "'#'"
      ]
     },
     "execution_count": 266,
     "metadata": {},
     "output_type": "execute_result"
    }
   ],
   "source": [
    "f.read(1)"
   ]
  },
  {
   "cell_type": "code",
   "execution_count": 267,
   "id": "96a22d43-14a8-4902-9c38-3b5db31594b6",
   "metadata": {},
   "outputs": [
    {
     "data": {
      "text/plain": [
       "'#'"
      ]
     },
     "execution_count": 267,
     "metadata": {},
     "output_type": "execute_result"
    }
   ],
   "source": [
    "f.read(1)"
   ]
  },
  {
   "cell_type": "code",
   "execution_count": 268,
   "id": "a1aa3e7b-381b-4bff-b9b8-40f5bafa2f4a",
   "metadata": {},
   "outputs": [
    {
     "data": {
      "text/plain": [
       "'\\n'"
      ]
     },
     "execution_count": 268,
     "metadata": {},
     "output_type": "execute_result"
    }
   ],
   "source": [
    "f.read(1)"
   ]
  },
  {
   "cell_type": "code",
   "execution_count": 269,
   "id": "23c55c6f-4961-4860-be75-cfeb8b0fc9e0",
   "metadata": {},
   "outputs": [],
   "source": [
    "s = f.read()"
   ]
  },
  {
   "cell_type": "code",
   "execution_count": 270,
   "id": "7441e023-0d7d-4fb3-afe9-f85289cc90c5",
   "metadata": {},
   "outputs": [
    {
     "data": {
      "text/plain": [
       "''"
      ]
     },
     "execution_count": 270,
     "metadata": {},
     "output_type": "execute_result"
    }
   ],
   "source": [
    "f.read(1)"
   ]
  },
  {
   "cell_type": "code",
   "execution_count": 285,
   "id": "61140acf-38ee-4f5e-aa36-ce5e867abd47",
   "metadata": {},
   "outputs": [
    {
     "name": "stdout",
     "output_type": "stream",
     "text": [
      "U e a a a e o e a i i e i o u e i e o e e e i u i i i e u e o e A o e i e i i o a i o i o i e O e i e o e e e o e i e o a a e o a i i o a i o a i o a o u O e i e o o o U i i e e U e a e u i a e o o e A i i a o a o o i a e o e e i e a o o u i a e u u U i o U i o o o o a o o u u u i u u i o a a e a a e a e o a e u i a e e o e o e i e a e o u i a e i a a i a I a A i a a e u i a e i i e i e a o o u u i a e o i o i a i e e a o o o i u i a e e i e o i u a i o e i e a e u i a e e e i i a e E o e e i e a e u i a e a o e a A o e e i e a a o e u i a e a A a u a e u i a e a e e e A e E e a e o a e u i a e e o e o e i e a e o a e o u i a e e o e e o e o u e a i o a e u i a e a o e a e a e u i a e e o e e o e a e u i a e a A e e o e e o a e u i a e o i e e e e i a e e e u i a e e A e E e U e a e u i a e e e a e u i a e e e a e u i a e e e a e u i a e i i e e e a a i o a e u i a e u i i e e a i e e a e u i a e u u A i i a o a i a u i a e a i a a i a i e e a e u i a e a e e A i a i o e e a e u i a e a a a A a e o a i u a i u i a e a a i A a i a e o a i u a i u i a e a e a e e e a e u i a e a o e A i a i o O e a e u i a e i o e e i o e e a e u i a e o i o i a e u i a e o e o e a e o a e u i a e e u i a e e u i A e a e u i a e u i a e a e a a e a a e u i a e e a e e e a e e a e a e e u i a e u a e a i U a e a i a e u i a e i a e I a e a e u i a e a e e A e e a e u i a e a e o a e u i a e u o U o U e a e u i a e o a e u a e o a e U a e e i e a o a e u a e u i a e o e a u i o o e A u i o a e o a e u i a e e e a e e e a e a e u i a e o a i o o a i o a e o a o a i o u i a e u e a u a i o a e u E a u a i o A e a e u i a e i e o e A u o i e o e a e o a e u i a e a o a e i e A e a e u i a e o o o o a e u i a e u u i o e O e i e e e a o o u i a e o e o o e o A i i a o a e u i a e a u i o A u i o a e u i a e o e o e e e a e u i a e e e o i e a i i e a e u i a e a i a i e e o A i e i e a e u i a e a i a e e e o a e a o e i e a e u i a e e i e e i e a a e e e e a e u i a e e a u e e e A u e e a e u i a e e i o e I O a e u i a e a a a e o a e u i a e o e u o e o A u e i a i o a e u i a e e a i i e o a i i a e o a e u i a e a e i e E e e A e i e a e o a e u i a e O e i e o e e o i e a i i e a e u i a e a i O e i e o e e o A i e i e a e u i a e a e O e i e o e e o a e a o e i e a e u i a e e e o O e i e o e e o a e u i a e a o o u O e i e o e e o A o o u a e u i a e a e a e A e a e e i e a e u i a e o e e i a i o o e e i a I O a e o a e u i a e a u e i e a u e i e a e u i a e i o e i e I o e i e a e u i a e i o e i o e a e u i a e u e i o U e i o a e o a u e i o u i a e i a o i i a o i a e o a e u i a e a i A i e i e a a i u i a e a e e o A A o u a e u i a e a e o o e a e o o e a e o a e u i a e e u u e e u U e a e u i a o e a O e a e o u e a e o a o e a u i a e e e o a O e e o u e e i e a e u i a e o o a e u i a e o i e a e o i e A e U e a a u i a e i e i e i e i e a e o a i e i e u i a e a a e e o a a e e o a a a e e o u i a e a i e a e a i e a e a e u i a e A o u a e u i a e a e a a e a A o u a a e a u i a e i I e i e U e a i u i a e i o a a i a o e e i a I O A i a U e a i o a a i a u i a e a a i A a i a e o a a a i u i a e a e o a u i a e i e i e a e o a i e u i a e e a o i i a a i a e o a e a u i a e e o e o e e i o e o e o E e i o a e o e o e e i o u i a e i e i i e i a e u i a e i i a e i o i I a e I O a e o a i i a e i o u i a e o o a e o a i a o i u i a e a i a A I a a e o a a i a u i a e i a o o i a i o I a o o i a i o a e o a i a o o i a i o u i a e e o e o a e o a e u i a e e o e a a e e a e o a u i a e a e o u a e A e o U a e a e o a a e o u a e u i a e o e e a o e e a a e o a o e e a u i a e o e o e e i e a o e u i a e e e a e o a e u i a e u u a e u i a e a i e a e a i e a e a a i e a e u i a e a i a e o a i a e o a a i a e o u i a e o i i a i o o o i i a i o o a e u i a e a i i e A e i u a a o I i e a e u i a e i o e i o e a i o e u i a e a o u a e a o u A e e i e a e u i a e o i e e a e e o i e e a e e a e u i a e a u i o A u i o a e i a E e i e e a e o a a u i o u i a e e i u e i u a e u i a e e u a e i e A e e u a E i e a e u a e i e u i a e o a O A a e o a e u i a e "
     ]
    }
   ],
   "source": [
    "class OnlyVowelsIterator:\n",
    "    def __init__(self, file):\n",
    "        self.file = file\n",
    "\n",
    "    def __next__(self):\n",
    "        while True:\n",
    "            next_char = self.file.read(1)\n",
    "\n",
    "            if not next_char:\n",
    "                self.file.seek(0)      # move the file's pointer to the beginning\n",
    "                raise StopIteration    # end of this loop\n",
    "\n",
    "            if next_char.lower() in 'aeiou':\n",
    "                return next_char\n",
    "\n",
    "class OnlyVowels:\n",
    "    def __init__(self, filename):\n",
    "        self.file = open(filename, 'r')\n",
    "\n",
    "    def __iter__(self):\n",
    "        return OnlyVowelsIterator(self.file)\n",
    "\n",
    "o = OnlyVowels('/etc/passwd')\n",
    "\n",
    "for one_item in o:\n",
    "    print(one_item, end=' ')"
   ]
  },
  {
   "cell_type": "code",
   "execution_count": 286,
   "id": "ea7433ae-f0d5-446a-8dfd-50cbaef89899",
   "metadata": {},
   "outputs": [],
   "source": [
    "vowels = list(o)"
   ]
  },
  {
   "cell_type": "code",
   "execution_count": 287,
   "id": "01b35c1d-40a5-4376-bc15-849fd31286b3",
   "metadata": {},
   "outputs": [
    {
     "data": {
      "text/plain": [
       "['U',\n",
       " 'e',\n",
       " 'a',\n",
       " 'a',\n",
       " 'a',\n",
       " 'e',\n",
       " 'o',\n",
       " 'e',\n",
       " 'a',\n",
       " 'i',\n",
       " 'i',\n",
       " 'e',\n",
       " 'i',\n",
       " 'o',\n",
       " 'u',\n",
       " 'e',\n",
       " 'i',\n",
       " 'e',\n",
       " 'o',\n",
       " 'e',\n",
       " 'e',\n",
       " 'e',\n",
       " 'i',\n",
       " 'u',\n",
       " 'i',\n",
       " 'i',\n",
       " 'i',\n",
       " 'e',\n",
       " 'u',\n",
       " 'e']"
      ]
     },
     "execution_count": 287,
     "metadata": {},
     "output_type": "execute_result"
    }
   ],
   "source": [
    "vowels[:30]"
   ]
  },
  {
   "cell_type": "code",
   "execution_count": 279,
   "id": "a66c753c-c698-4970-99d0-6e4b4fddcc83",
   "metadata": {},
   "outputs": [],
   "source": [
    "f = open('/etc/passwd')"
   ]
  },
  {
   "cell_type": "code",
   "execution_count": 280,
   "id": "fd297c13-5c98-4631-a303-e0ec455ed8a9",
   "metadata": {},
   "outputs": [
    {
     "data": {
      "text/plain": [
       "<_io.TextIOWrapper name='/etc/passwd' mode='r' encoding='UTF-8'>"
      ]
     },
     "execution_count": 280,
     "metadata": {},
     "output_type": "execute_result"
    }
   ],
   "source": [
    "iter(f)"
   ]
  },
  {
   "cell_type": "code",
   "execution_count": 281,
   "id": "0f0e079f-8ae7-4224-ba31-b8cf07e3d073",
   "metadata": {},
   "outputs": [
    {
     "data": {
      "text/plain": [
       "True"
      ]
     },
     "execution_count": 281,
     "metadata": {},
     "output_type": "execute_result"
    }
   ],
   "source": [
    "iter(f) is f"
   ]
  },
  {
   "cell_type": "code",
   "execution_count": 288,
   "id": "6ec42cb7-7fd5-4f4f-a167-0b628de76800",
   "metadata": {},
   "outputs": [],
   "source": [
    "d = {'a':10, 'b':20, 'c':30}"
   ]
  },
  {
   "cell_type": "code",
   "execution_count": 291,
   "id": "27e75f9c-0878-4717-b52e-70d707ad01a8",
   "metadata": {},
   "outputs": [
    {
     "data": {
      "text/plain": [
       "<dict_itemiterator at 0x113a73a10>"
      ]
     },
     "execution_count": 291,
     "metadata": {},
     "output_type": "execute_result"
    }
   ],
   "source": [
    "i = d.items()\n",
    "\n",
    "iter(i) "
   ]
  },
  {
   "cell_type": "code",
   "execution_count": 292,
   "id": "6306bb71-a282-4d22-b161-3845a4bbeebc",
   "metadata": {},
   "outputs": [],
   "source": [
    "def myfunc():\n",
    "    return 1\n",
    "    return 2\n",
    "    return 3"
   ]
  },
  {
   "cell_type": "code",
   "execution_count": 293,
   "id": "3e71fc2a-6433-4d2f-b008-172aacd572bc",
   "metadata": {},
   "outputs": [
    {
     "data": {
      "text/plain": [
       "1"
      ]
     },
     "execution_count": 293,
     "metadata": {},
     "output_type": "execute_result"
    }
   ],
   "source": [
    "myfunc()"
   ]
  },
  {
   "cell_type": "code",
   "execution_count": 294,
   "id": "8fd81872-9ed7-4c37-9802-1dd4d1784531",
   "metadata": {},
   "outputs": [
    {
     "name": "stdout",
     "output_type": "stream",
     "text": [
      "  1           0 RESUME                   0\n",
      "\n",
      "  2           2 RETURN_CONST             1 (1)\n"
     ]
    }
   ],
   "source": [
    "import dis\n",
    "\n",
    "dis.dis(myfunc)"
   ]
  },
  {
   "cell_type": "code",
   "execution_count": 295,
   "id": "690558fd-18fa-4afd-a720-84173466594f",
   "metadata": {},
   "outputs": [
    {
     "data": {
      "text/plain": [
       "(None, 1)"
      ]
     },
     "execution_count": 295,
     "metadata": {},
     "output_type": "execute_result"
    }
   ],
   "source": [
    "myfunc.__code__.co_consts"
   ]
  },
  {
   "cell_type": "code",
   "execution_count": 296,
   "id": "3b0afa1d-44cc-406b-85e4-4953e7382086",
   "metadata": {},
   "outputs": [],
   "source": [
    "def myfunc():    # generator function\n",
    "    yield 1\n",
    "    yield 2\n",
    "    yield 3"
   ]
  },
  {
   "cell_type": "code",
   "execution_count": 298,
   "id": "8e3174f4-1c9c-460d-ad4f-dfa9dfa8b66a",
   "metadata": {},
   "outputs": [],
   "source": [
    "g = myfunc()"
   ]
  },
  {
   "cell_type": "code",
   "execution_count": 302,
   "id": "0f5f8fe7-616b-40c3-8bf9-7829851ab908",
   "metadata": {},
   "outputs": [
    {
     "ename": "StopIteration",
     "evalue": "",
     "output_type": "error",
     "traceback": [
      "\u001b[0;31m---------------------------------------------------------------------------\u001b[0m",
      "\u001b[0;31mStopIteration\u001b[0m                             Traceback (most recent call last)",
      "Cell \u001b[0;32mIn[302], line 1\u001b[0m\n\u001b[0;32m----> 1\u001b[0m \u001b[38;5;28;43mnext\u001b[39;49m\u001b[43m(\u001b[49m\u001b[43mg\u001b[49m\u001b[43m)\u001b[49m     \u001b[38;5;66;03m# run up to and including the next yield\u001b[39;00m\n",
      "\u001b[0;31mStopIteration\u001b[0m: "
     ]
    }
   ],
   "source": [
    "next(g)     # run up to and including the next yield"
   ]
  },
  {
   "cell_type": "code",
   "execution_count": 303,
   "id": "d29e8320-86b5-48ea-a201-aaf7837c3307",
   "metadata": {},
   "outputs": [],
   "source": [
    "g = myfunc()"
   ]
  },
  {
   "cell_type": "code",
   "execution_count": 304,
   "id": "f118bde8-5c9a-43c9-8ce2-5ff061510f34",
   "metadata": {},
   "outputs": [
    {
     "data": {
      "text/plain": [
       "<method-wrapper '__next__' of generator object at 0x113c280f0>"
      ]
     },
     "execution_count": 304,
     "metadata": {},
     "output_type": "execute_result"
    }
   ],
   "source": [
    "g.__next__"
   ]
  },
  {
   "cell_type": "code",
   "execution_count": 305,
   "id": "a8acbf88-8aa2-4331-bca3-ac2cc7039e8e",
   "metadata": {},
   "outputs": [
    {
     "name": "stdout",
     "output_type": "stream",
     "text": [
      "  1           0 RETURN_GENERATOR\n",
      "              2 POP_TOP\n",
      "              4 RESUME                   0\n",
      "\n",
      "  2           6 LOAD_CONST               1 (1)\n",
      "              8 YIELD_VALUE              1\n",
      "             10 RESUME                   1\n",
      "             12 POP_TOP\n",
      "\n",
      "  3          14 LOAD_CONST               2 (2)\n",
      "             16 YIELD_VALUE              1\n",
      "             18 RESUME                   1\n",
      "             20 POP_TOP\n",
      "\n",
      "  4          22 LOAD_CONST               3 (3)\n",
      "             24 YIELD_VALUE              1\n",
      "             26 RESUME                   1\n",
      "             28 POP_TOP\n",
      "             30 RETURN_CONST             0 (None)\n",
      "        >>   32 CALL_INTRINSIC_1         3 (INTRINSIC_STOPITERATION_ERROR)\n",
      "             34 RERAISE                  1\n",
      "ExceptionTable:\n",
      "  4 to 30 -> 32 [0] lasti\n"
     ]
    }
   ],
   "source": [
    "dis.dis(myfunc)"
   ]
  },
  {
   "cell_type": "code",
   "execution_count": 306,
   "id": "9fdc768d-2815-406a-bcf3-6a5f51acd44e",
   "metadata": {},
   "outputs": [
    {
     "name": "stdout",
     "output_type": "stream",
     "text": [
      "  1           0 RETURN_GENERATOR\n",
      "              2 POP_TOP\n",
      "              4 RESUME                   0\n",
      "\n",
      "  2           6 LOAD_CONST               1 (1)\n",
      "              8 YIELD_VALUE              1\n",
      "             10 RESUME                   1\n",
      "             12 POP_TOP\n",
      "\n",
      "  3          14 LOAD_CONST               2 (2)\n",
      "             16 YIELD_VALUE              1\n",
      "             18 RESUME                   1\n",
      "             20 POP_TOP\n",
      "\n",
      "  4          22 LOAD_CONST               3 (3)\n",
      "             24 YIELD_VALUE              1\n",
      "             26 RESUME                   1\n",
      "             28 POP_TOP\n",
      "             30 RETURN_CONST             0 (None)\n",
      "        >>   32 CALL_INTRINSIC_1         3 (INTRINSIC_STOPITERATION_ERROR)\n",
      "             34 RERAISE                  1\n",
      "ExceptionTable:\n",
      "  4 to 30 -> 32 [0] lasti\n"
     ]
    }
   ],
   "source": [
    "dis.dis(g)"
   ]
  },
  {
   "cell_type": "code",
   "execution_count": 318,
   "id": "4a92f28f-11a9-4f8a-a739-0f04d314e6e0",
   "metadata": {},
   "outputs": [],
   "source": [
    "def fib():\n",
    "    first = 0\n",
    "    second = 1\n",
    "    while True:\n",
    "        yield first\n",
    "        first, second = second, first+second\n"
   ]
  },
  {
   "cell_type": "code",
   "execution_count": 309,
   "id": "1cdfb8f1-faf7-41c9-8d16-82652a14ff32",
   "metadata": {},
   "outputs": [
    {
     "name": "stdout",
     "output_type": "stream",
     "text": [
      "0\n",
      "1\n",
      "1\n",
      "2\n",
      "3\n",
      "5\n",
      "8\n",
      "13\n",
      "21\n",
      "34\n",
      "55\n",
      "89\n",
      "144\n",
      "233\n",
      "377\n",
      "610\n",
      "987\n",
      "1,597\n",
      "2,584\n",
      "4,181\n",
      "6,765\n",
      "10,946\n",
      "17,711\n",
      "28,657\n",
      "46,368\n",
      "75,025\n",
      "121,393\n",
      "196,418\n",
      "317,811\n",
      "514,229\n",
      "832,040\n",
      "1,346,269\n",
      "2,178,309\n",
      "3,524,578\n",
      "5,702,887\n",
      "9,227,465\n",
      "14,930,352\n",
      "24,157,817\n",
      "39,088,169\n",
      "63,245,986\n"
     ]
    }
   ],
   "source": [
    "for one_item in fib():\n",
    "    if one_item > 100_000_000:\n",
    "        break\n",
    "    print(f'{one_item:,}')"
   ]
  },
  {
   "cell_type": "code",
   "execution_count": 310,
   "id": "1188834c-92ae-496e-9a6d-957d052702fa",
   "metadata": {},
   "outputs": [],
   "source": [
    "g = fib()"
   ]
  },
  {
   "cell_type": "code",
   "execution_count": 311,
   "id": "51c23ffa-4c95-44d7-9f01-fa9c25044490",
   "metadata": {},
   "outputs": [
    {
     "data": {
      "text/plain": [
       "['__class__',\n",
       " '__del__',\n",
       " '__delattr__',\n",
       " '__dir__',\n",
       " '__doc__',\n",
       " '__eq__',\n",
       " '__format__',\n",
       " '__ge__',\n",
       " '__getattribute__',\n",
       " '__getstate__',\n",
       " '__gt__',\n",
       " '__hash__',\n",
       " '__init__',\n",
       " '__init_subclass__',\n",
       " '__iter__',\n",
       " '__le__',\n",
       " '__lt__',\n",
       " '__name__',\n",
       " '__ne__',\n",
       " '__new__',\n",
       " '__next__',\n",
       " '__qualname__',\n",
       " '__reduce__',\n",
       " '__reduce_ex__',\n",
       " '__repr__',\n",
       " '__setattr__',\n",
       " '__sizeof__',\n",
       " '__str__',\n",
       " '__subclasshook__',\n",
       " 'close',\n",
       " 'gi_code',\n",
       " 'gi_frame',\n",
       " 'gi_running',\n",
       " 'gi_suspended',\n",
       " 'gi_yieldfrom',\n",
       " 'send',\n",
       " 'throw']"
      ]
     },
     "execution_count": 311,
     "metadata": {},
     "output_type": "execute_result"
    }
   ],
   "source": [
    "dir(g)"
   ]
  },
  {
   "cell_type": "code",
   "execution_count": 313,
   "id": "27b7c4cf-05bb-40bb-91c7-dc0608e66071",
   "metadata": {},
   "outputs": [
    {
     "data": {
      "text/plain": [
       "['__class__',\n",
       " '__delattr__',\n",
       " '__dir__',\n",
       " '__doc__',\n",
       " '__eq__',\n",
       " '__format__',\n",
       " '__ge__',\n",
       " '__getattribute__',\n",
       " '__getstate__',\n",
       " '__gt__',\n",
       " '__hash__',\n",
       " '__init__',\n",
       " '__init_subclass__',\n",
       " '__le__',\n",
       " '__lt__',\n",
       " '__ne__',\n",
       " '__new__',\n",
       " '__reduce__',\n",
       " '__reduce_ex__',\n",
       " '__repr__',\n",
       " '__setattr__',\n",
       " '__sizeof__',\n",
       " '__str__',\n",
       " '__subclasshook__',\n",
       " 'clear',\n",
       " 'f_back',\n",
       " 'f_builtins',\n",
       " 'f_code',\n",
       " 'f_globals',\n",
       " 'f_lasti',\n",
       " 'f_lineno',\n",
       " 'f_locals',\n",
       " 'f_trace',\n",
       " 'f_trace_lines',\n",
       " 'f_trace_opcodes']"
      ]
     },
     "execution_count": 313,
     "metadata": {},
     "output_type": "execute_result"
    }
   ],
   "source": [
    "dir(g.gi_frame)"
   ]
  },
  {
   "cell_type": "code",
   "execution_count": 314,
   "id": "6e066cbc-a0f4-4974-a261-b8c94d846a35",
   "metadata": {},
   "outputs": [
    {
     "data": {
      "text/plain": [
       "1"
      ]
     },
     "execution_count": 314,
     "metadata": {},
     "output_type": "execute_result"
    }
   ],
   "source": [
    "g.gi_frame.f_lineno"
   ]
  },
  {
   "cell_type": "code",
   "execution_count": 315,
   "id": "457ceea7-fc21-477d-b291-907272cb6a1b",
   "metadata": {},
   "outputs": [
    {
     "data": {
      "text/plain": [
       "0"
      ]
     },
     "execution_count": 315,
     "metadata": {},
     "output_type": "execute_result"
    }
   ],
   "source": [
    "next(g)"
   ]
  },
  {
   "cell_type": "code",
   "execution_count": 316,
   "id": "92e3fef8-2a66-4497-bb7b-3c37f4c93c8a",
   "metadata": {},
   "outputs": [
    {
     "data": {
      "text/plain": [
       "5"
      ]
     },
     "execution_count": 316,
     "metadata": {},
     "output_type": "execute_result"
    }
   ],
   "source": [
    "g.gi_frame.f_lineno"
   ]
  },
  {
   "cell_type": "code",
   "execution_count": 317,
   "id": "29deffef-45d4-48ca-a524-5df7e17c6dfd",
   "metadata": {},
   "outputs": [
    {
     "data": {
      "text/plain": [
       "{'first': 0, 'second': 1}"
      ]
     },
     "execution_count": 317,
     "metadata": {},
     "output_type": "execute_result"
    }
   ],
   "source": [
    "g.gi_frame.f_locals"
   ]
  },
  {
   "cell_type": "code",
   "execution_count": 319,
   "id": "0e739b0f-ca11-4bab-9ec9-2f9d3ef8479a",
   "metadata": {},
   "outputs": [],
   "source": [
    "# only_vowels as a generator function\n",
    "\n",
    "def only_vowels(filename):\n",
    "    with open(filename) as f:\n",
    "        # __enter__\n",
    "        for one_line in f:\n",
    "            for one_character in one_line:\n",
    "                if one_character.lower() in 'aeiou':\n",
    "                    yield one_character               \n",
    "        # __exit__"
   ]
  },
  {
   "cell_type": "code",
   "execution_count": 320,
   "id": "99736edf-153e-4898-b3a9-3eed0b39f1af",
   "metadata": {},
   "outputs": [
    {
     "name": "stdout",
     "output_type": "stream",
     "text": [
      "U e a a a e o e a i i e i o u e i e o e e e i u i i i e u e o e A o e i e i i o a i o i o i e O e i e o e e e o e i e o a a e o a i i o a i o a i o a o u O e i e o o o U i i e e U e a e u i a e o o e A i i a o a o o i a e o e e i e a o o u i a e u u U i o U i o o o o a o o u u u i u u i o a a e a a e a e o a e u i a e e o e o e i e a e o u i a e i a a i a I a A i a a e u i a e i i e i e a o o u u i a e o i o i a i e e a o o o i u i a e e i e o i u a i o e i e a e u i a e e e i i a e E o e e i e a e u i a e a o e a A o e e i e a a o e u i a e a A a u a e u i a e a e e e A e E e a e o a e u i a e e o e o e i e a e o a e o u i a e e o e e o e o u e a i o a e u i a e a o e a e a e u i a e e o e e o e a e u i a e a A e e o e e o a e u i a e o i e e e e i a e e e u i a e e A e E e U e a e u i a e e e a e u i a e e e a e u i a e e e a e u i a e i i e e e a a i o a e u i a e u i i e e a i e e a e u i a e u u A i i a o a i a u i a e a i a a i a i e e a e u i a e a e e A i a i o e e a e u i a e a a a A a e o a i u a i u i a e a a i A a i a e o a i u a i u i a e a e a e e e a e u i a e a o e A i a i o O e a e u i a e i o e e i o e e a e u i a e o i o i a e u i a e o e o e a e o a e u i a e e u i a e e u i A e a e u i a e u i a e a e a a e a a e u i a e e a e e e a e e a e a e e u i a e u a e a i U a e a i a e u i a e i a e I a e a e u i a e a e e A e e a e u i a e a e o a e u i a e u o U o U e a e u i a e o a e u a e o a e U a e e i e a o a e u a e u i a e o e a u i o o e A u i o a e o a e u i a e e e a e e e a e a e u i a e o a i o o a i o a e o a o a i o u i a e u e a u a i o a e u E a u a i o A e a e u i a e i e o e A u o i e o e a e o a e u i a e a o a e i e A e a e u i a e o o o o a e u i a e u u i o e O e i e e e a o o u i a e o e o o e o A i i a o a e u i a e a u i o A u i o a e u i a e o e o e e e a e u i a e e e o i e a i i e a e u i a e a i a i e e o A i e i e a e u i a e a i a e e e o a e a o e i e a e u i a e e i e e i e a a e e e e a e u i a e e a u e e e A u e e a e u i a e e i o e I O a e u i a e a a a e o a e u i a e o e u o e o A u e i a i o a e u i a e e a i i e o a i i a e o a e u i a e a e i e E e e A e i e a e o a e u i a e O e i e o e e o i e a i i e a e u i a e a i O e i e o e e o A i e i e a e u i a e a e O e i e o e e o a e a o e i e a e u i a e e e o O e i e o e e o a e u i a e a o o u O e i e o e e o A o o u a e u i a e a e a e A e a e e i e a e u i a e o e e i a i o o e e i a I O a e o a e u i a e a u e i e a u e i e a e u i a e i o e i e I o e i e a e u i a e i o e i o e a e u i a e u e i o U e i o a e o a u e i o u i a e i a o i i a o i a e o a e u i a e a i A i e i e a a i u i a e a e e o A A o u a e u i a e a e o o e a e o o e a e o a e u i a e e u u e e u U e a e u i a o e a O e a e o u e a e o a o e a u i a e e e o a O e e o u e e i e a e u i a e o o a e u i a e o i e a e o i e A e U e a a u i a e i e i e i e i e a e o a i e i e u i a e a a e e o a a e e o a a a e e o u i a e a i e a e a i e a e a e u i a e A o u a e u i a e a e a a e a A o u a a e a u i a e i I e i e U e a i u i a e i o a a i a o e e i a I O A i a U e a i o a a i a u i a e a a i A a i a e o a a a i u i a e a e o a u i a e i e i e a e o a i e u i a e e a o i i a a i a e o a e a u i a e e o e o e e i o e o e o E e i o a e o e o e e i o u i a e i e i i e i a e u i a e i i a e i o i I a e I O a e o a i i a e i o u i a e o o a e o a i a o i u i a e a i a A I a a e o a a i a u i a e i a o o i a i o I a o o i a i o a e o a i a o o i a i o u i a e e o e o a e o a e u i a e e o e a a e e a e o a u i a e a e o u a e A e o U a e a e o a a e o u a e u i a e o e e a o e e a a e o a o e e a u i a e o e o e e i e a o e u i a e e e a e o a e u i a e u u a e u i a e a i e a e a i e a e a a i e a e u i a e a i a e o a i a e o a a i a e o u i a e o i i a i o o o i i a i o o a e u i a e a i i e A e i u a a o I i e a e u i a e i o e i o e a i o e u i a e a o u a e a o u A e e i e a e u i a e o i e e a e e o i e e a e e a e u i a e a u i o A u i o a e i a E e i e e a e o a a u i o u i a e e i u e i u a e u i a e e u a e i e A e e u a E i e a e u a e i e u i a e o a O A a e o a e u i a e "
     ]
    }
   ],
   "source": [
    "for one_item in only_vowels('/etc/passwd'):\n",
    "    print(one_item, end=' ')"
   ]
  },
  {
   "cell_type": "markdown",
   "id": "dbdeca0f-4b2a-4c86-b979-59a61854d67b",
   "metadata": {},
   "source": [
    "# Exercise: `read_n`\n",
    "\n",
    "1. Normally, when we iterate over a file, we get each line (as a string), one at a time.\n",
    "2. Write a generator function, `read_n`, that takes two arguments: A filename and `n`, the number of lines to read for each iteration.\n",
    "3. Each iteration should return one string, containing `n` lines.\n",
    "4. The final iteration can contain fewer than `n` lines."
   ]
  },
  {
   "cell_type": "code",
   "execution_count": 325,
   "id": "afde3802-eefd-4ddc-9835-27a5b42d7159",
   "metadata": {},
   "outputs": [],
   "source": [
    "def read_n(filename, n):\n",
    "    with open(filename) as f:\n",
    "        while True:\n",
    "            output = []\n",
    "            for counter in range(n):\n",
    "                output.append(f.readline())\n",
    "            s = ''.join(output)\n",
    "\n",
    "            if not s:\n",
    "               break\n",
    "\n",
    "            yield s"
   ]
  },
  {
   "cell_type": "code",
   "execution_count": 326,
   "id": "02341371-fde0-4959-b159-513b5a39aaf8",
   "metadata": {},
   "outputs": [
    {
     "name": "stdout",
     "output_type": "stream",
     "text": [
      "##\n",
      "# User Database\n",
      "# \n",
      "# Note that this file is consulted directly only when the system is running\n",
      "# in single-user mode.  At other times this information is provided by\n",
      "\n",
      "# Open Directory.\n",
      "#\n",
      "# See the opendirectoryd(8) man page for additional information about\n",
      "# Open Directory.\n",
      "##\n",
      "\n",
      "nobody:*:-2:-2:Unprivileged User:/var/empty:/usr/bin/false\n",
      "root:*:0:0:System Administrator:/var/root:/bin/sh\n",
      "daemon:*:1:1:System Services:/var/root:/usr/bin/false\n",
      "_uucp:*:4:4:Unix to Unix Copy Protocol:/var/spool/uucp:/usr/sbin/uucico\n",
      "_taskgated:*:13:13:Task Gate Daemon:/var/empty:/usr/bin/false\n",
      "\n",
      "_networkd:*:24:24:Network Services:/var/networkd:/usr/bin/false\n",
      "_installassistant:*:25:25:Install Assistant:/var/empty:/usr/bin/false\n",
      "_lp:*:26:26:Printing Services:/var/spool/cups:/usr/bin/false\n",
      "_postfix:*:27:27:Postfix Mail Server:/var/spool/postfix:/usr/bin/false\n",
      "_scsd:*:31:31:Service Configuration Service:/var/empty:/usr/bin/false\n",
      "\n",
      "_ces:*:32:32:Certificate Enrollment Service:/var/empty:/usr/bin/false\n",
      "_appstore:*:33:33:Mac App Store Service:/var/db/appstore:/usr/bin/false\n",
      "_mcxalr:*:54:54:MCX AppLaunch:/var/empty:/usr/bin/false\n",
      "_appleevents:*:55:55:AppleEvents Daemon:/var/empty:/usr/bin/false\n",
      "_geod:*:56:56:Geo Services Daemon:/var/db/geod:/usr/bin/false\n",
      "\n",
      "_devdocs:*:59:59:Developer Documentation:/var/empty:/usr/bin/false\n",
      "_sandbox:*:60:60:Seatbelt:/var/empty:/usr/bin/false\n",
      "_mdnsresponder:*:65:65:mDNSResponder:/var/empty:/usr/bin/false\n",
      "_ard:*:67:67:Apple Remote Desktop:/var/empty:/usr/bin/false\n",
      "_www:*:70:70:World Wide Web Server:/Library/WebServer:/usr/bin/false\n",
      "\n",
      "_eppc:*:71:71:Apple Events User:/var/empty:/usr/bin/false\n",
      "_cvs:*:72:72:CVS Server:/var/empty:/usr/bin/false\n",
      "_svn:*:73:73:SVN Server:/var/empty:/usr/bin/false\n",
      "_mysql:*:74:74:MySQL Server:/var/empty:/usr/bin/false\n",
      "_sshd:*:75:75:sshd Privilege separation:/var/empty:/usr/bin/false\n",
      "\n",
      "_qtss:*:76:76:QuickTime Streaming Server:/var/empty:/usr/bin/false\n",
      "_cyrus:*:77:6:Cyrus Administrator:/var/imap:/usr/bin/false\n",
      "_mailman:*:78:78:Mailman List Server:/var/empty:/usr/bin/false\n",
      "_appserver:*:79:79:Application Server:/var/empty:/usr/bin/false\n",
      "_clamav:*:82:82:ClamAV Daemon:/var/virusmails:/usr/bin/false\n",
      "\n",
      "_amavisd:*:83:83:AMaViS Daemon:/var/virusmails:/usr/bin/false\n",
      "_jabber:*:84:84:Jabber XMPP Server:/var/empty:/usr/bin/false\n",
      "_appowner:*:87:87:Application Owner:/var/empty:/usr/bin/false\n",
      "_windowserver:*:88:88:WindowServer:/var/empty:/usr/bin/false\n",
      "_spotlight:*:89:89:Spotlight:/var/empty:/usr/bin/false\n",
      "\n",
      "_tokend:*:91:91:Token Daemon:/var/empty:/usr/bin/false\n",
      "_securityagent:*:92:92:SecurityAgent:/var/db/securityagent:/usr/bin/false\n",
      "_calendar:*:93:93:Calendar:/var/empty:/usr/bin/false\n",
      "_teamsserver:*:94:94:TeamsServer:/var/teamsserver:/usr/bin/false\n",
      "_update_sharing:*:95:-2:Update Sharing:/var/empty:/usr/bin/false\n",
      "\n",
      "_installer:*:96:-2:Installer:/var/empty:/usr/bin/false\n",
      "_atsserver:*:97:97:ATS Server:/var/empty:/usr/bin/false\n",
      "_ftp:*:98:-2:FTP Daemon:/var/empty:/usr/bin/false\n",
      "_unknown:*:99:99:Unknown User:/var/empty:/usr/bin/false\n",
      "_softwareupdate:*:200:200:Software Update Service:/var/db/softwareupdate:/usr/bin/false\n",
      "\n",
      "_coreaudiod:*:202:202:Core Audio Daemon:/var/empty:/usr/bin/false\n",
      "_screensaver:*:203:203:Screensaver:/var/empty:/usr/bin/false\n",
      "_locationd:*:205:205:Location Daemon:/var/db/locationd:/usr/bin/false\n",
      "_trustevaluationagent:*:208:208:Trust Evaluation Agent:/var/empty:/usr/bin/false\n",
      "_timezone:*:210:210:AutoTimeZoneDaemon:/var/empty:/usr/bin/false\n",
      "\n",
      "_lda:*:211:211:Local Delivery Agent:/var/empty:/usr/bin/false\n",
      "_cvmsroot:*:212:212:CVMS Root:/var/empty:/usr/bin/false\n",
      "_usbmuxd:*:213:213:iPhone OS Device Helper:/var/db/lockdown:/usr/bin/false\n",
      "_dovecot:*:214:6:Dovecot Administrator:/var/empty:/usr/bin/false\n",
      "_dpaudio:*:215:215:DP Audio:/var/empty:/usr/bin/false\n",
      "\n",
      "_postgres:*:216:216:PostgreSQL Server:/var/empty:/usr/bin/false\n",
      "_krbtgt:*:217:-2:Kerberos Ticket Granting Ticket:/var/empty:/usr/bin/false\n",
      "_kadmin_admin:*:218:-2:Kerberos Admin Service:/var/empty:/usr/bin/false\n",
      "_kadmin_changepw:*:219:-2:Kerberos Change Password Service:/var/empty:/usr/bin/false\n",
      "_devicemgr:*:220:220:Device Management Server:/var/empty:/usr/bin/false\n",
      "\n",
      "_webauthserver:*:221:221:Web Auth Server:/var/empty:/usr/bin/false\n",
      "_netbios:*:222:222:NetBIOS:/var/empty:/usr/bin/false\n",
      "_warmd:*:224:224:Warm Daemon:/var/empty:/usr/bin/false\n",
      "_dovenull:*:227:227:Dovecot Authentication:/var/empty:/usr/bin/false\n",
      "_netstatistics:*:228:228:Network Statistics Daemon:/var/empty:/usr/bin/false\n",
      "\n",
      "_avbdeviced:*:229:-2:Ethernet AVB Device Daemon:/var/empty:/usr/bin/false\n",
      "_krb_krbtgt:*:230:-2:Open Directory Kerberos Ticket Granting Ticket:/var/empty:/usr/bin/false\n",
      "_krb_kadmin:*:231:-2:Open Directory Kerberos Admin Service:/var/empty:/usr/bin/false\n",
      "_krb_changepw:*:232:-2:Open Directory Kerberos Change Password Service:/var/empty:/usr/bin/false\n",
      "_krb_kerberos:*:233:-2:Open Directory Kerberos:/var/empty:/usr/bin/false\n",
      "\n",
      "_krb_anonymous:*:234:-2:Open Directory Kerberos Anonymous:/var/empty:/usr/bin/false\n",
      "_assetcache:*:235:235:Asset Cache Service:/var/empty:/usr/bin/false\n",
      "_coremediaiod:*:236:236:Core Media IO Daemon:/var/empty:/usr/bin/false\n",
      "_launchservicesd:*:239:239:_launchservicesd:/var/empty:/usr/bin/false\n",
      "_iconservices:*:240:240:IconServices:/var/empty:/usr/bin/false\n",
      "\n",
      "_distnote:*:241:241:DistNote:/var/empty:/usr/bin/false\n",
      "_nsurlsessiond:*:242:242:NSURLSession Daemon:/var/db/nsurlsessiond:/usr/bin/false\n",
      "_displaypolicyd:*:244:244:Display Policy Daemon:/var/empty:/usr/bin/false\n",
      "_astris:*:245:245:Astris Services:/var/db/astris:/usr/bin/false\n",
      "_krbfast:*:246:-2:Kerberos FAST Account:/var/empty:/usr/bin/false\n",
      "\n",
      "_gamecontrollerd:*:247:247:Game Controller Daemon:/var/empty:/usr/bin/false\n",
      "_mbsetupuser:*:248:248:Setup User:/var/setup:/bin/bash\n",
      "_ondemand:*:249:249:On Demand Resource Daemon:/var/db/ondemand:/usr/bin/false\n",
      "_xserverdocs:*:251:251:macOS Server Documents Service:/var/empty:/usr/bin/false\n",
      "_wwwproxy:*:252:252:WWW Proxy:/var/empty:/usr/bin/false\n",
      "\n",
      "_mobileasset:*:253:253:MobileAsset User:/var/ma:/usr/bin/false\n",
      "_findmydevice:*:254:254:Find My Device Daemon:/var/db/findmydevice:/usr/bin/false\n",
      "_datadetectors:*:257:257:DataDetectors:/var/db/datadetectors:/usr/bin/false\n",
      "_captiveagent:*:258:258:captiveagent:/var/empty:/usr/bin/false\n",
      "_ctkd:*:259:259:ctkd Account:/var/empty:/usr/bin/false\n",
      "\n",
      "_applepay:*:260:260:applepay Account:/var/db/applepay:/usr/bin/false\n",
      "_hidd:*:261:261:HID Service User:/var/db/hidd:/usr/bin/false\n",
      "_cmiodalassistants:*:262:262:CoreMedia IO Assistants User:/var/db/cmiodalassistants:/usr/bin/false\n",
      "_analyticsd:*:263:263:Analytics Daemon:/var/db/analyticsd:/usr/bin/false\n",
      "_fpsd:*:265:265:FPS Daemon:/var/db/fpsd:/usr/bin/false\n",
      "\n",
      "_timed:*:266:266:Time Sync Daemon:/var/db/timed:/usr/bin/false\n",
      "_nearbyd:*:268:268:Proximity and Ranging Daemon:/var/db/nearbyd:/usr/bin/false\n",
      "_reportmemoryexception:*:269:269:ReportMemoryException:/var/db/reportmemoryexception:/usr/bin/false\n",
      "_driverkit:*:270:270:DriverKit:/var/empty:/usr/bin/false\n",
      "_diskimagesiod:*:271:271:DiskImages IO Daemon:/var/db/diskimagesiod:/usr/bin/false\n",
      "\n",
      "_logd:*:272:272:Log Daemon:/var/db/diagnostics:/usr/bin/false\n",
      "_appinstalld:*:273:273:App Install Daemon:/var/db/appinstalld:/usr/bin/false\n",
      "_installcoordinationd:*:274:274:Install Coordination Daemon:/var/db/installcoordinationd:/usr/bin/false\n",
      "_demod:*:275:275:Demo Daemon:/var/empty:/usr/bin/false\n",
      "_rmd:*:277:277:Remote Management Daemon:/var/db/rmd:/usr/bin/false\n",
      "\n",
      "_accessoryupdater:*:278:278:Accessory Update Daemon:/var/db/accessoryupdater:/usr/bin/false\n",
      "_knowledgegraphd:*:279:279:Knowledge Graph Daemon:/var/db/knowledgegraphd:/usr/bin/false\n",
      "_coreml:*:280:280:CoreML Services:/var/db/coreml:/usr/bin/false\n",
      "_sntpd:*:281:281:SNTP Server Daemon:/var/empty:/usr/bin/false\n",
      "_trustd:*:282:282:trustd:/var/empty:/usr/bin/false\n",
      "\n",
      "_mmaintenanced:*:283:283:mmaintenanced:/var/db/mmaintenanced:/usr/bin/false\n",
      "_darwindaemon:*:284:284:Darwin Daemon:/var/db/darwindaemon:/usr/bin/false\n",
      "_notification_proxy:*:285:285:Notification Proxy:/var/empty:/usr/bin/false\n",
      "_avphidbridge:*:288:288:Apple Virtual Platform HID Bridge:/var/empty:/usr/bin/false\n",
      "_biome:*:289:289:Biome:/var/db/biome:/usr/bin/false\n",
      "\n",
      "_backgroundassets:*:291:291:Background Assets Service:/var/empty:/usr/bin/false\n",
      "_mobilegestalthelper:*:293:293:MobileGestaltHelper:/var/empty:/usr/bin/false\n",
      "_audiomxd:*:294:294:Audio and MediaExperience Daemon:/var/db/audiomxd:/usr/bin/false\n",
      "_terminusd:*:295:295:Terminus:/var/empty:/usr/bin/false\n",
      "_neuralengine:*:296:296:AppleNeuralEngine:/var/db/neuralengine:/usr/bin/false\n",
      "\n",
      "_oahd:*:441:441:OAH Daemon:/var/empty:/usr/bin/false\n",
      "\n"
     ]
    }
   ],
   "source": [
    "for one_chunk in read_n('/etc/passwd', 5):\n",
    "    print(one_chunk)"
   ]
  },
  {
   "cell_type": "code",
   "execution_count": 327,
   "id": "8da050ac-ed20-4fa3-885a-68d7502461c8",
   "metadata": {},
   "outputs": [],
   "source": [
    "def read_n(filename, n):\n",
    "    with open(filename) as f:\n",
    "        while True:\n",
    "            output = ''.join([f.readline()\n",
    "                             for counter in range(n)])\n",
    "\n",
    "            if not output:\n",
    "               break\n",
    "\n",
    "            yield output"
   ]
  },
  {
   "cell_type": "code",
   "execution_count": 329,
   "id": "19adc666-939c-4e5d-9514-5effdb0f8881",
   "metadata": {},
   "outputs": [
    {
     "name": "stdout",
     "output_type": "stream",
     "text": [
      "##\n",
      "# User Database\n",
      "# \n",
      "# Note that this file is consulted directly only when the system is running\n",
      "# in single-user mode.  At other times this information is provided by\n",
      "# Open Directory.\n",
      "#\n",
      "\n",
      "# See the opendirectoryd(8) man page for additional information about\n",
      "# Open Directory.\n",
      "##\n",
      "nobody:*:-2:-2:Unprivileged User:/var/empty:/usr/bin/false\n",
      "root:*:0:0:System Administrator:/var/root:/bin/sh\n",
      "daemon:*:1:1:System Services:/var/root:/usr/bin/false\n",
      "_uucp:*:4:4:Unix to Unix Copy Protocol:/var/spool/uucp:/usr/sbin/uucico\n",
      "\n",
      "_taskgated:*:13:13:Task Gate Daemon:/var/empty:/usr/bin/false\n",
      "_networkd:*:24:24:Network Services:/var/networkd:/usr/bin/false\n",
      "_installassistant:*:25:25:Install Assistant:/var/empty:/usr/bin/false\n",
      "_lp:*:26:26:Printing Services:/var/spool/cups:/usr/bin/false\n",
      "_postfix:*:27:27:Postfix Mail Server:/var/spool/postfix:/usr/bin/false\n",
      "_scsd:*:31:31:Service Configuration Service:/var/empty:/usr/bin/false\n",
      "_ces:*:32:32:Certificate Enrollment Service:/var/empty:/usr/bin/false\n",
      "\n",
      "_appstore:*:33:33:Mac App Store Service:/var/db/appstore:/usr/bin/false\n",
      "_mcxalr:*:54:54:MCX AppLaunch:/var/empty:/usr/bin/false\n",
      "_appleevents:*:55:55:AppleEvents Daemon:/var/empty:/usr/bin/false\n",
      "_geod:*:56:56:Geo Services Daemon:/var/db/geod:/usr/bin/false\n",
      "_devdocs:*:59:59:Developer Documentation:/var/empty:/usr/bin/false\n",
      "_sandbox:*:60:60:Seatbelt:/var/empty:/usr/bin/false\n",
      "_mdnsresponder:*:65:65:mDNSResponder:/var/empty:/usr/bin/false\n",
      "\n",
      "_ard:*:67:67:Apple Remote Desktop:/var/empty:/usr/bin/false\n",
      "_www:*:70:70:World Wide Web Server:/Library/WebServer:/usr/bin/false\n",
      "_eppc:*:71:71:Apple Events User:/var/empty:/usr/bin/false\n",
      "_cvs:*:72:72:CVS Server:/var/empty:/usr/bin/false\n",
      "_svn:*:73:73:SVN Server:/var/empty:/usr/bin/false\n",
      "_mysql:*:74:74:MySQL Server:/var/empty:/usr/bin/false\n",
      "_sshd:*:75:75:sshd Privilege separation:/var/empty:/usr/bin/false\n",
      "\n",
      "_qtss:*:76:76:QuickTime Streaming Server:/var/empty:/usr/bin/false\n",
      "_cyrus:*:77:6:Cyrus Administrator:/var/imap:/usr/bin/false\n",
      "_mailman:*:78:78:Mailman List Server:/var/empty:/usr/bin/false\n",
      "_appserver:*:79:79:Application Server:/var/empty:/usr/bin/false\n",
      "_clamav:*:82:82:ClamAV Daemon:/var/virusmails:/usr/bin/false\n",
      "_amavisd:*:83:83:AMaViS Daemon:/var/virusmails:/usr/bin/false\n",
      "_jabber:*:84:84:Jabber XMPP Server:/var/empty:/usr/bin/false\n",
      "\n",
      "_appowner:*:87:87:Application Owner:/var/empty:/usr/bin/false\n",
      "_windowserver:*:88:88:WindowServer:/var/empty:/usr/bin/false\n",
      "_spotlight:*:89:89:Spotlight:/var/empty:/usr/bin/false\n",
      "_tokend:*:91:91:Token Daemon:/var/empty:/usr/bin/false\n",
      "_securityagent:*:92:92:SecurityAgent:/var/db/securityagent:/usr/bin/false\n",
      "_calendar:*:93:93:Calendar:/var/empty:/usr/bin/false\n",
      "_teamsserver:*:94:94:TeamsServer:/var/teamsserver:/usr/bin/false\n",
      "\n",
      "_update_sharing:*:95:-2:Update Sharing:/var/empty:/usr/bin/false\n",
      "_installer:*:96:-2:Installer:/var/empty:/usr/bin/false\n",
      "_atsserver:*:97:97:ATS Server:/var/empty:/usr/bin/false\n",
      "_ftp:*:98:-2:FTP Daemon:/var/empty:/usr/bin/false\n",
      "_unknown:*:99:99:Unknown User:/var/empty:/usr/bin/false\n",
      "_softwareupdate:*:200:200:Software Update Service:/var/db/softwareupdate:/usr/bin/false\n",
      "_coreaudiod:*:202:202:Core Audio Daemon:/var/empty:/usr/bin/false\n",
      "\n",
      "_screensaver:*:203:203:Screensaver:/var/empty:/usr/bin/false\n",
      "_locationd:*:205:205:Location Daemon:/var/db/locationd:/usr/bin/false\n",
      "_trustevaluationagent:*:208:208:Trust Evaluation Agent:/var/empty:/usr/bin/false\n",
      "_timezone:*:210:210:AutoTimeZoneDaemon:/var/empty:/usr/bin/false\n",
      "_lda:*:211:211:Local Delivery Agent:/var/empty:/usr/bin/false\n",
      "_cvmsroot:*:212:212:CVMS Root:/var/empty:/usr/bin/false\n",
      "_usbmuxd:*:213:213:iPhone OS Device Helper:/var/db/lockdown:/usr/bin/false\n",
      "\n",
      "_dovecot:*:214:6:Dovecot Administrator:/var/empty:/usr/bin/false\n",
      "_dpaudio:*:215:215:DP Audio:/var/empty:/usr/bin/false\n",
      "_postgres:*:216:216:PostgreSQL Server:/var/empty:/usr/bin/false\n",
      "_krbtgt:*:217:-2:Kerberos Ticket Granting Ticket:/var/empty:/usr/bin/false\n",
      "_kadmin_admin:*:218:-2:Kerberos Admin Service:/var/empty:/usr/bin/false\n",
      "_kadmin_changepw:*:219:-2:Kerberos Change Password Service:/var/empty:/usr/bin/false\n",
      "_devicemgr:*:220:220:Device Management Server:/var/empty:/usr/bin/false\n",
      "\n",
      "_webauthserver:*:221:221:Web Auth Server:/var/empty:/usr/bin/false\n",
      "_netbios:*:222:222:NetBIOS:/var/empty:/usr/bin/false\n",
      "_warmd:*:224:224:Warm Daemon:/var/empty:/usr/bin/false\n",
      "_dovenull:*:227:227:Dovecot Authentication:/var/empty:/usr/bin/false\n",
      "_netstatistics:*:228:228:Network Statistics Daemon:/var/empty:/usr/bin/false\n",
      "_avbdeviced:*:229:-2:Ethernet AVB Device Daemon:/var/empty:/usr/bin/false\n",
      "_krb_krbtgt:*:230:-2:Open Directory Kerberos Ticket Granting Ticket:/var/empty:/usr/bin/false\n",
      "\n",
      "_krb_kadmin:*:231:-2:Open Directory Kerberos Admin Service:/var/empty:/usr/bin/false\n",
      "_krb_changepw:*:232:-2:Open Directory Kerberos Change Password Service:/var/empty:/usr/bin/false\n",
      "_krb_kerberos:*:233:-2:Open Directory Kerberos:/var/empty:/usr/bin/false\n",
      "_krb_anonymous:*:234:-2:Open Directory Kerberos Anonymous:/var/empty:/usr/bin/false\n",
      "_assetcache:*:235:235:Asset Cache Service:/var/empty:/usr/bin/false\n",
      "_coremediaiod:*:236:236:Core Media IO Daemon:/var/empty:/usr/bin/false\n",
      "_launchservicesd:*:239:239:_launchservicesd:/var/empty:/usr/bin/false\n",
      "\n",
      "_iconservices:*:240:240:IconServices:/var/empty:/usr/bin/false\n",
      "_distnote:*:241:241:DistNote:/var/empty:/usr/bin/false\n",
      "_nsurlsessiond:*:242:242:NSURLSession Daemon:/var/db/nsurlsessiond:/usr/bin/false\n",
      "_displaypolicyd:*:244:244:Display Policy Daemon:/var/empty:/usr/bin/false\n",
      "_astris:*:245:245:Astris Services:/var/db/astris:/usr/bin/false\n",
      "_krbfast:*:246:-2:Kerberos FAST Account:/var/empty:/usr/bin/false\n",
      "_gamecontrollerd:*:247:247:Game Controller Daemon:/var/empty:/usr/bin/false\n",
      "\n",
      "_mbsetupuser:*:248:248:Setup User:/var/setup:/bin/bash\n",
      "_ondemand:*:249:249:On Demand Resource Daemon:/var/db/ondemand:/usr/bin/false\n",
      "_xserverdocs:*:251:251:macOS Server Documents Service:/var/empty:/usr/bin/false\n",
      "_wwwproxy:*:252:252:WWW Proxy:/var/empty:/usr/bin/false\n",
      "_mobileasset:*:253:253:MobileAsset User:/var/ma:/usr/bin/false\n",
      "_findmydevice:*:254:254:Find My Device Daemon:/var/db/findmydevice:/usr/bin/false\n",
      "_datadetectors:*:257:257:DataDetectors:/var/db/datadetectors:/usr/bin/false\n",
      "\n",
      "_captiveagent:*:258:258:captiveagent:/var/empty:/usr/bin/false\n",
      "_ctkd:*:259:259:ctkd Account:/var/empty:/usr/bin/false\n",
      "_applepay:*:260:260:applepay Account:/var/db/applepay:/usr/bin/false\n",
      "_hidd:*:261:261:HID Service User:/var/db/hidd:/usr/bin/false\n",
      "_cmiodalassistants:*:262:262:CoreMedia IO Assistants User:/var/db/cmiodalassistants:/usr/bin/false\n",
      "_analyticsd:*:263:263:Analytics Daemon:/var/db/analyticsd:/usr/bin/false\n",
      "_fpsd:*:265:265:FPS Daemon:/var/db/fpsd:/usr/bin/false\n",
      "\n",
      "_timed:*:266:266:Time Sync Daemon:/var/db/timed:/usr/bin/false\n",
      "_nearbyd:*:268:268:Proximity and Ranging Daemon:/var/db/nearbyd:/usr/bin/false\n",
      "_reportmemoryexception:*:269:269:ReportMemoryException:/var/db/reportmemoryexception:/usr/bin/false\n",
      "_driverkit:*:270:270:DriverKit:/var/empty:/usr/bin/false\n",
      "_diskimagesiod:*:271:271:DiskImages IO Daemon:/var/db/diskimagesiod:/usr/bin/false\n",
      "_logd:*:272:272:Log Daemon:/var/db/diagnostics:/usr/bin/false\n",
      "_appinstalld:*:273:273:App Install Daemon:/var/db/appinstalld:/usr/bin/false\n",
      "\n",
      "_installcoordinationd:*:274:274:Install Coordination Daemon:/var/db/installcoordinationd:/usr/bin/false\n",
      "_demod:*:275:275:Demo Daemon:/var/empty:/usr/bin/false\n",
      "_rmd:*:277:277:Remote Management Daemon:/var/db/rmd:/usr/bin/false\n",
      "_accessoryupdater:*:278:278:Accessory Update Daemon:/var/db/accessoryupdater:/usr/bin/false\n",
      "_knowledgegraphd:*:279:279:Knowledge Graph Daemon:/var/db/knowledgegraphd:/usr/bin/false\n",
      "_coreml:*:280:280:CoreML Services:/var/db/coreml:/usr/bin/false\n",
      "_sntpd:*:281:281:SNTP Server Daemon:/var/empty:/usr/bin/false\n",
      "\n",
      "_trustd:*:282:282:trustd:/var/empty:/usr/bin/false\n",
      "_mmaintenanced:*:283:283:mmaintenanced:/var/db/mmaintenanced:/usr/bin/false\n",
      "_darwindaemon:*:284:284:Darwin Daemon:/var/db/darwindaemon:/usr/bin/false\n",
      "_notification_proxy:*:285:285:Notification Proxy:/var/empty:/usr/bin/false\n",
      "_avphidbridge:*:288:288:Apple Virtual Platform HID Bridge:/var/empty:/usr/bin/false\n",
      "_biome:*:289:289:Biome:/var/db/biome:/usr/bin/false\n",
      "_backgroundassets:*:291:291:Background Assets Service:/var/empty:/usr/bin/false\n",
      "\n",
      "_mobilegestalthelper:*:293:293:MobileGestaltHelper:/var/empty:/usr/bin/false\n",
      "_audiomxd:*:294:294:Audio and MediaExperience Daemon:/var/db/audiomxd:/usr/bin/false\n",
      "_terminusd:*:295:295:Terminus:/var/empty:/usr/bin/false\n",
      "_neuralengine:*:296:296:AppleNeuralEngine:/var/db/neuralengine:/usr/bin/false\n",
      "_oahd:*:441:441:OAH Daemon:/var/empty:/usr/bin/false\n",
      "\n"
     ]
    }
   ],
   "source": [
    "for one_chunk in read_n('/etc/passwd', 7):\n",
    "    print(one_chunk)"
   ]
  },
  {
   "cell_type": "code",
   "execution_count": 330,
   "id": "5cf8c668-cf60-4415-a64a-40c2eeb5c308",
   "metadata": {},
   "outputs": [],
   "source": [
    "class OnlyVowels:\n",
    "    def __init__(self, filename):\n",
    "        self.file = open(filename)\n",
    "\n",
    "    def __iter__(self):    # generator method\n",
    "        for one_line in self.file:\n",
    "            for one_character in one_line:\n",
    "                if one_character.lower() in 'aeiou':\n",
    "                    yield one_character    "
   ]
  },
  {
   "cell_type": "code",
   "execution_count": 331,
   "id": "02ebc73d-fbdd-4288-a8b5-455a0bd6111d",
   "metadata": {},
   "outputs": [],
   "source": [
    "o = OnlyVowels('/etc/passwd')"
   ]
  },
  {
   "cell_type": "code",
   "execution_count": 332,
   "id": "c139169f-07c5-454a-9a9c-6a3f1a554a8c",
   "metadata": {},
   "outputs": [
    {
     "name": "stdout",
     "output_type": "stream",
     "text": [
      "U e a a a e o e a i i e i o u e i e o e e e i u i i i e u e o e A o e i e i i o a i o i o i e O e i e o e e e o e i e o a a e o a i i o a i o a i o a o u O e i e o o o U i i e e U e a e u i a e o o e A i i a o a o o i a e o e e i e a o o u i a e u u U i o U i o o o o a o o u u u i u u i o a a e a a e a e o a e u i a e e o e o e i e a e o u i a e i a a i a I a A i a a e u i a e i i e i e a o o u u i a e o i o i a i e e a o o o i u i a e e i e o i u a i o e i e a e u i a e e e i i a e E o e e i e a e u i a e a o e a A o e e i e a a o e u i a e a A a u a e u i a e a e e e A e E e a e o a e u i a e e o e o e i e a e o a e o u i a e e o e e o e o u e a i o a e u i a e a o e a e a e u i a e e o e e o e a e u i a e a A e e o e e o a e u i a e o i e e e e i a e e e u i a e e A e E e U e a e u i a e e e a e u i a e e e a e u i a e e e a e u i a e i i e e e a a i o a e u i a e u i i e e a i e e a e u i a e u u A i i a o a i a u i a e a i a a i a i e e a e u i a e a e e A i a i o e e a e u i a e a a a A a e o a i u a i u i a e a a i A a i a e o a i u a i u i a e a e a e e e a e u i a e a o e A i a i o O e a e u i a e i o e e i o e e a e u i a e o i o i a e u i a e o e o e a e o a e u i a e e u i a e e u i A e a e u i a e u i a e a e a a e a a e u i a e e a e e e a e e a e a e e u i a e u a e a i U a e a i a e u i a e i a e I a e a e u i a e a e e A e e a e u i a e a e o a e u i a e u o U o U e a e u i a e o a e u a e o a e U a e e i e a o a e u a e u i a e o e a u i o o e A u i o a e o a e u i a e e e a e e e a e a e u i a e o a i o o a i o a e o a o a i o u i a e u e a u a i o a e u E a u a i o A e a e u i a e i e o e A u o i e o e a e o a e u i a e a o a e i e A e a e u i a e o o o o a e u i a e u u i o e O e i e e e a o o u i a e o e o o e o A i i a o a e u i a e a u i o A u i o a e u i a e o e o e e e a e u i a e e e o i e a i i e a e u i a e a i a i e e o A i e i e a e u i a e a i a e e e o a e a o e i e a e u i a e e i e e i e a a e e e e a e u i a e e a u e e e A u e e a e u i a e e i o e I O a e u i a e a a a e o a e u i a e o e u o e o A u e i a i o a e u i a e e a i i e o a i i a e o a e u i a e a e i e E e e A e i e a e o a e u i a e O e i e o e e o i e a i i e a e u i a e a i O e i e o e e o A i e i e a e u i a e a e O e i e o e e o a e a o e i e a e u i a e e e o O e i e o e e o a e u i a e a o o u O e i e o e e o A o o u a e u i a e a e a e A e a e e i e a e u i a e o e e i a i o o e e i a I O a e o a e u i a e a u e i e a u e i e a e u i a e i o e i e I o e i e a e u i a e i o e i o e a e u i a e u e i o U e i o a e o a u e i o u i a e i a o i i a o i a e o a e u i a e a i A i e i e a a i u i a e a e e o A A o u a e u i a e a e o o e a e o o e a e o a e u i a e e u u e e u U e a e u i a o e a O e a e o u e a e o a o e a u i a e e e o a O e e o u e e i e a e u i a e o o a e u i a e o i e a e o i e A e U e a a u i a e i e i e i e i e a e o a i e i e u i a e a a e e o a a e e o a a a e e o u i a e a i e a e a i e a e a e u i a e A o u a e u i a e a e a a e a A o u a a e a u i a e i I e i e U e a i u i a e i o a a i a o e e i a I O A i a U e a i o a a i a u i a e a a i A a i a e o a a a i u i a e a e o a u i a e i e i e a e o a i e u i a e e a o i i a a i a e o a e a u i a e e o e o e e i o e o e o E e i o a e o e o e e i o u i a e i e i i e i a e u i a e i i a e i o i I a e I O a e o a i i a e i o u i a e o o a e o a i a o i u i a e a i a A I a a e o a a i a u i a e i a o o i a i o I a o o i a i o a e o a i a o o i a i o u i a e e o e o a e o a e u i a e e o e a a e e a e o a u i a e a e o u a e A e o U a e a e o a a e o u a e u i a e o e e a o e e a a e o a o e e a u i a e o e o e e i e a o e u i a e e e a e o a e u i a e u u a e u i a e a i e a e a i e a e a a i e a e u i a e a i a e o a i a e o a a i a e o u i a e o i i a i o o o i i a i o o a e u i a e a i i e A e i u a a o I i e a e u i a e i o e i o e a i o e u i a e a o u a e a o u A e e i e a e u i a e o i e e a e e o i e e a e e a e u i a e a u i o A u i o a e i a E e i e e a e o a a u i o u i a e e i u e i u a e u i a e e u a e i e A e e u a E i e a e u a e i e u i a e o a O A a e o a e u i a e "
     ]
    }
   ],
   "source": [
    "for one_item in o:\n",
    "    print(one_item, end=' ')"
   ]
  },
  {
   "cell_type": "markdown",
   "id": "761bff01-c067-44e8-937a-67b771832cad",
   "metadata": {},
   "source": [
    "# Comprehensions\n",
    "\n"
   ]
  },
  {
   "cell_type": "code",
   "execution_count": 334,
   "id": "4437fd7f-3e10-43d5-9bb0-17834c97d3d0",
   "metadata": {},
   "outputs": [
    {
     "data": {
      "text/plain": [
       "[25, 16, 9, 4, 1, 0, 1, 4, 9, 16]"
      ]
     },
     "execution_count": 334,
     "metadata": {},
     "output_type": "execute_result"
    }
   ],
   "source": [
    "# list comprehension\n",
    "[one_number ** 2\n",
    " for one_number in range(-5, 5)]"
   ]
  },
  {
   "cell_type": "code",
   "execution_count": 340,
   "id": "1345d363-5570-4aaa-ab99-6b263afeeed8",
   "metadata": {},
   "outputs": [
    {
     "data": {
      "text/plain": [
       "{0, 1, 4, 9, 16, 25}"
      ]
     },
     "execution_count": 340,
     "metadata": {},
     "output_type": "execute_result"
    }
   ],
   "source": [
    "# set comprehension\n",
    "{one_number ** 2\n",
    " for one_number in range(-5, 5)}"
   ]
  },
  {
   "cell_type": "code",
   "execution_count": 341,
   "id": "4aedf856-8ece-4a38-9e39-20dc0e0dfd22",
   "metadata": {},
   "outputs": [
    {
     "data": {
      "text/plain": [
       "{-5: 25, -4: 16, -3: 9, -2: 4, -1: 1, 0: 0, 1: 1, 2: 4, 3: 9, 4: 16}"
      ]
     },
     "execution_count": 341,
     "metadata": {},
     "output_type": "execute_result"
    }
   ],
   "source": [
    "# dict comprehension\n",
    "\n",
    "{one_number : one_number ** 2\n",
    " for one_number in range(-5, 5)}"
   ]
  },
  {
   "cell_type": "code",
   "execution_count": 342,
   "id": "16556bba-ae63-4c65-b38e-d9bc0111717c",
   "metadata": {},
   "outputs": [],
   "source": [
    "x = set()"
   ]
  },
  {
   "cell_type": "code",
   "execution_count": 343,
   "id": "a5e4bc2d-a624-4107-bdd7-3e1d6d9f93bd",
   "metadata": {},
   "outputs": [
    {
     "data": {
      "text/plain": [
       "set"
      ]
     },
     "execution_count": 343,
     "metadata": {},
     "output_type": "execute_result"
    }
   ],
   "source": [
    "type(x)"
   ]
  },
  {
   "cell_type": "code",
   "execution_count": 352,
   "id": "86c11651-8d4b-466b-9dee-a75e38b8e3ed",
   "metadata": {},
   "outputs": [],
   "source": [
    "# generator comprehension // generator expression\n",
    "g = (one_number**2\n",
    " for one_number in range(-5, 5))"
   ]
  },
  {
   "cell_type": "code",
   "execution_count": 347,
   "id": "d31564a9-52b6-4052-aff6-5a95c0b45689",
   "metadata": {},
   "outputs": [
    {
     "data": {
      "text/plain": [
       "generator"
      ]
     },
     "execution_count": 347,
     "metadata": {},
     "output_type": "execute_result"
    }
   ],
   "source": [
    "type(g)"
   ]
  },
  {
   "cell_type": "code",
   "execution_count": 348,
   "id": "c9a81e33-fc37-4f2c-aa4d-8513c21bdbfc",
   "metadata": {},
   "outputs": [
    {
     "data": {
      "text/plain": [
       "25"
      ]
     },
     "execution_count": 348,
     "metadata": {},
     "output_type": "execute_result"
    }
   ],
   "source": [
    "next(g)"
   ]
  },
  {
   "cell_type": "code",
   "execution_count": 349,
   "id": "8f48ecdb-9e5e-4ae7-aab0-faa8e2ebfab5",
   "metadata": {},
   "outputs": [
    {
     "data": {
      "text/plain": [
       "16"
      ]
     },
     "execution_count": 349,
     "metadata": {},
     "output_type": "execute_result"
    }
   ],
   "source": [
    "next(g)"
   ]
  },
  {
   "cell_type": "code",
   "execution_count": 350,
   "id": "8f8dd0ce-fb88-410e-8fec-c38c45cef2ac",
   "metadata": {},
   "outputs": [
    {
     "data": {
      "text/plain": [
       "9"
      ]
     },
     "execution_count": 350,
     "metadata": {},
     "output_type": "execute_result"
    }
   ],
   "source": [
    "next(g)"
   ]
  },
  {
   "cell_type": "code",
   "execution_count": null,
   "id": "b8ea74a0-2b68-418b-8f8b-6eafe3aa3e74",
   "metadata": {},
   "outputs": [],
   "source": [
    "def read_n(filename, n):\n",
    "    with open(filename) as f:\n",
    "        while True:\n",
    "            output = ''.join([f.readline()\n",
    "                             for counter in range(n)])\n",
    "\n",
    "            if not output:\n",
    "               break\n",
    "\n",
    "            yield output"
   ]
  },
  {
   "cell_type": "code",
   "execution_count": 353,
   "id": "bb84802d-242b-4a00-b1f4-0b5a752e18a4",
   "metadata": {},
   "outputs": [
    {
     "data": {
      "text/plain": [
       "[25, 16, 9, 4, 1, 0, 1, 4, 9, 16]"
      ]
     },
     "execution_count": 353,
     "metadata": {},
     "output_type": "execute_result"
    }
   ],
   "source": [
    "def squares(n):\n",
    "    for one_item in range(-n, n):\n",
    "        yield one_item ** 2\n",
    "\n",
    "list(squares(5))"
   ]
  },
  {
   "cell_type": "code",
   "execution_count": 355,
   "id": "2e256216-8735-47b4-8d05-e2507da02e58",
   "metadata": {},
   "outputs": [
    {
     "data": {
      "text/plain": [
       "[25, 16, 9, 4, 1, 0, 1, 4, 9, 16]"
      ]
     },
     "execution_count": 355,
     "metadata": {},
     "output_type": "execute_result"
    }
   ],
   "source": [
    "def squares(n):\n",
    "    return (one_item ** 2\n",
    "            for one_item in range(-n, n))\n",
    "\n",
    "list(squares(5))"
   ]
  },
  {
   "cell_type": "code",
   "execution_count": 365,
   "id": "557bf282-cc33-475d-a177-d393c9f64c18",
   "metadata": {},
   "outputs": [
    {
     "data": {
      "text/plain": [
       "[25, 16, 9, 4, 1, 0, 1, 4, 9, 16]"
      ]
     },
     "execution_count": 365,
     "metadata": {},
     "output_type": "execute_result"
    }
   ],
   "source": [
    "[*squares(5)]"
   ]
  },
  {
   "cell_type": "code",
   "execution_count": 356,
   "id": "66ea1829-b981-455b-b8ea-332c1701e87b",
   "metadata": {},
   "outputs": [
    {
     "ename": "TypeError",
     "evalue": "sequence item 0: expected str instance, int found",
     "output_type": "error",
     "traceback": [
      "\u001b[0;31m---------------------------------------------------------------------------\u001b[0m",
      "\u001b[0;31mTypeError\u001b[0m                                 Traceback (most recent call last)",
      "Cell \u001b[0;32mIn[356], line 3\u001b[0m\n\u001b[1;32m      1\u001b[0m mylist \u001b[38;5;241m=\u001b[39m [\u001b[38;5;241m10\u001b[39m, \u001b[38;5;241m20\u001b[39m, \u001b[38;5;241m30\u001b[39m]\n\u001b[0;32m----> 3\u001b[0m \u001b[38;5;124;43m'\u001b[39;49m\u001b[38;5;124;43m*\u001b[39;49m\u001b[38;5;124;43m'\u001b[39;49m\u001b[38;5;241;43m.\u001b[39;49m\u001b[43mjoin\u001b[49m\u001b[43m(\u001b[49m\u001b[43mmylist\u001b[49m\u001b[43m)\u001b[49m\n",
      "\u001b[0;31mTypeError\u001b[0m: sequence item 0: expected str instance, int found"
     ]
    }
   ],
   "source": [
    "mylist = [10, 20, 30]\n",
    "\n",
    "'*'.join(mylist)"
   ]
  },
  {
   "cell_type": "code",
   "execution_count": 357,
   "id": "7d0a728c-d6c9-4e0d-ae07-a9468e3077d1",
   "metadata": {},
   "outputs": [
    {
     "data": {
      "text/plain": [
       "'10*20*30'"
      ]
     },
     "execution_count": 357,
     "metadata": {},
     "output_type": "execute_result"
    }
   ],
   "source": [
    "'*'.join([str(one_item)\n",
    "         for one_item in mylist])"
   ]
  },
  {
   "cell_type": "code",
   "execution_count": 359,
   "id": "a2e95be8-14f4-43ab-8d87-13c4ee3b8004",
   "metadata": {},
   "outputs": [
    {
     "data": {
      "text/plain": [
       "'10*20*30'"
      ]
     },
     "execution_count": 359,
     "metadata": {},
     "output_type": "execute_result"
    }
   ],
   "source": [
    "# generator expression instead!\n",
    "'*'.join((str(one_item)\n",
    "         for one_item in mylist))"
   ]
  },
  {
   "cell_type": "code",
   "execution_count": 362,
   "id": "f058b7d4-3d41-4ce2-8831-0c65061b441c",
   "metadata": {},
   "outputs": [
    {
     "data": {
      "text/plain": [
       "<generator object <genexpr> at 0x113d4ab50>"
      ]
     },
     "execution_count": 362,
     "metadata": {},
     "output_type": "execute_result"
    }
   ],
   "source": [
    "(str(one_item)\n",
    "     for one_item in mylist)"
   ]
  },
  {
   "cell_type": "markdown",
   "id": "9ef92115-d65c-4f7f-8550-55350ba02520",
   "metadata": {},
   "source": [
    "- Itertools docs: https://docs.python.org/3/library/itertools.html\n",
    "- More-itertools: https://pypi.org/project/more-itertools/"
   ]
  },
  {
   "cell_type": "code",
   "execution_count": null,
   "id": "e679fcef-4fca-40fa-aa8e-0e8866cd996a",
   "metadata": {},
   "outputs": [],
   "source": []
  }
 ],
 "metadata": {
  "kernelspec": {
   "display_name": "Python 3 (ipykernel)",
   "language": "python",
   "name": "python3"
  },
  "language_info": {
   "codemirror_mode": {
    "name": "ipython",
    "version": 3
   },
   "file_extension": ".py",
   "mimetype": "text/x-python",
   "name": "python",
   "nbconvert_exporter": "python",
   "pygments_lexer": "ipython3",
   "version": "3.12.2"
  },
  "widgets": {
   "application/vnd.jupyter.widget-state+json": {
    "state": {},
    "version_major": 2,
    "version_minor": 0
   }
  }
 },
 "nbformat": 4,
 "nbformat_minor": 5
}
