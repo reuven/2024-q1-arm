{
 "cells": [
  {
   "cell_type": "markdown",
   "id": "1bfcb0ed-673f-4066-9954-d430e84e8b40",
   "metadata": {},
   "source": [
    "# Agenda\n",
    "\n",
    "- Recap + exercise with magic methods\n",
    "- Memory, `__del__`\n",
    "- Object system \n",
    "- Properties and descriptors\n",
    "- Iterators\n",
    "- Generator functions\n",
    "- Generator expressions\n",
    "- `itertools`"
   ]
  },
  {
   "cell_type": "code",
   "execution_count": 1,
   "id": "35a1bd81-6170-4bcd-9b45-a65ada996545",
   "metadata": {},
   "outputs": [
    {
     "data": {
      "text/plain": [
       "4"
      ]
     },
     "execution_count": 1,
     "metadata": {},
     "output_type": "execute_result"
    }
   ],
   "source": [
    "s = 'abcd'\n",
    "\n",
    "len(s)"
   ]
  },
  {
   "cell_type": "code",
   "execution_count": 3,
   "id": "5241b725-be2b-4583-b5b4-8a5df4888fa4",
   "metadata": {},
   "outputs": [
    {
     "data": {
      "text/plain": [
       "4"
      ]
     },
     "execution_count": 3,
     "metadata": {},
     "output_type": "execute_result"
    }
   ],
   "source": [
    "# len actually runs __len__ on the object\n",
    "\n",
    "s.__len__()  # we can run this, but we shouldn't!"
   ]
  },
  {
   "cell_type": "code",
   "execution_count": 4,
   "id": "0e67336f-e090-4fa6-8fc1-2d36478a1e94",
   "metadata": {},
   "outputs": [
    {
     "ename": "TypeError",
     "evalue": "object of type 'MyClass' has no len()",
     "output_type": "error",
     "traceback": [
      "\u001b[0;31m---------------------------------------------------------------------------\u001b[0m",
      "\u001b[0;31mTypeError\u001b[0m                                 Traceback (most recent call last)",
      "Cell \u001b[0;32mIn[4], line 6\u001b[0m\n\u001b[1;32m      3\u001b[0m         \u001b[38;5;28mself\u001b[39m\u001b[38;5;241m.\u001b[39mx \u001b[38;5;241m=\u001b[39m x\n\u001b[1;32m      5\u001b[0m m \u001b[38;5;241m=\u001b[39m MyClass(\u001b[38;5;124m'\u001b[39m\u001b[38;5;124mabcd\u001b[39m\u001b[38;5;124m'\u001b[39m)\n\u001b[0;32m----> 6\u001b[0m \u001b[38;5;28;43mlen\u001b[39;49m\u001b[43m(\u001b[49m\u001b[43mm\u001b[49m\u001b[43m)\u001b[49m \n",
      "\u001b[0;31mTypeError\u001b[0m: object of type 'MyClass' has no len()"
     ]
    }
   ],
   "source": [
    "class MyClass:\n",
    "    def __init__(self, x):\n",
    "        self.x = x\n",
    "\n",
    "m = MyClass('abcd')\n",
    "len(m) "
   ]
  },
  {
   "cell_type": "code",
   "execution_count": 5,
   "id": "b3ddec30-f3b7-4dd2-92fe-97413037ee55",
   "metadata": {},
   "outputs": [
    {
     "name": "stdout",
     "output_type": "stream",
     "text": [
      "Now in __len__ of MyClass, with self.x='abcd'\n"
     ]
    },
    {
     "data": {
      "text/plain": [
       "4"
      ]
     },
     "execution_count": 5,
     "metadata": {},
     "output_type": "execute_result"
    }
   ],
   "source": [
    "class MyClass:\n",
    "    def __init__(self, x):\n",
    "        self.x = x\n",
    "    def __len__(self):\n",
    "        print(f'Now in __len__ of MyClass, with {self.x=}')\n",
    "        return len(self.x)\n",
    "\n",
    "m = MyClass('abcd')\n",
    "len(m) "
   ]
  },
  {
   "cell_type": "code",
   "execution_count": 6,
   "id": "b24ae180-dfd4-477e-b415-877a4d6b1b4b",
   "metadata": {},
   "outputs": [
    {
     "name": "stdout",
     "output_type": "stream",
     "text": [
      "<__main__.MyClass object at 0x1122fe720>\n"
     ]
    }
   ],
   "source": [
    "# __str__ \n",
    "\n",
    "print(m)"
   ]
  },
  {
   "cell_type": "code",
   "execution_count": 7,
   "id": "21d48aa9-ad12-49eb-9fe2-32fdd21b0c94",
   "metadata": {},
   "outputs": [],
   "source": [
    "# print(str(m) --> print(m.__str__()) "
   ]
  },
  {
   "cell_type": "code",
   "execution_count": 8,
   "id": "df323ab0-f8bb-4357-b007-00ad05ebd72a",
   "metadata": {},
   "outputs": [
    {
     "data": {
      "text/plain": [
       "'<__main__.MyClass object at 0x1122fe720>'"
      ]
     },
     "execution_count": 8,
     "metadata": {},
     "output_type": "execute_result"
    }
   ],
   "source": [
    "object.__str__(m)"
   ]
  },
  {
   "cell_type": "code",
   "execution_count": 13,
   "id": "218bef70-8eec-49ce-ad0f-dee2edf081a0",
   "metadata": {},
   "outputs": [
    {
     "name": "stdout",
     "output_type": "stream",
     "text": [
      "Now in __len__ of MyClass, with self.x='abcd'\n"
     ]
    },
    {
     "data": {
      "text/plain": [
       "4"
      ]
     },
     "execution_count": 13,
     "metadata": {},
     "output_type": "execute_result"
    }
   ],
   "source": [
    "class MyClass:\n",
    "    def __init__(self, x):\n",
    "        self.x = x\n",
    "    def __len__(self):\n",
    "        print(f'Now in __len__ of MyClass, with {self.x=}')\n",
    "        return len(self.x)\n",
    "    def __str__(self):\n",
    "        print(f'Now in __str__ of MyClass, with {self.x=}')\n",
    "        return str(self.x)\n",
    "    def __repr__(self):\n",
    "        print(f'Now in __repr__ of MyClass, with {self.x=}')\n",
    "        return str(self.x)\n",
    "\n",
    "\n",
    "m = MyClass('abcd')\n",
    "len(m) "
   ]
  },
  {
   "cell_type": "code",
   "execution_count": 14,
   "id": "7beeb2e8-4cbe-4c94-985d-f78921c2d241",
   "metadata": {},
   "outputs": [
    {
     "name": "stdout",
     "output_type": "stream",
     "text": [
      "Now in __str__ of MyClass, with self.x='abcd'\n",
      "abcd\n"
     ]
    }
   ],
   "source": [
    "print(m)"
   ]
  },
  {
   "cell_type": "code",
   "execution_count": 15,
   "id": "7b8f8893-10c1-4cfc-93fa-ab7a0d15eaa3",
   "metadata": {},
   "outputs": [
    {
     "name": "stdout",
     "output_type": "stream",
     "text": [
      "Now in __str__ of MyClass, with self.x='abcd'\n"
     ]
    },
    {
     "data": {
      "text/plain": [
       "'abcd'"
      ]
     },
     "execution_count": 15,
     "metadata": {},
     "output_type": "execute_result"
    }
   ],
   "source": [
    "str(m)"
   ]
  },
  {
   "cell_type": "code",
   "execution_count": 16,
   "id": "59815a36-e627-4c64-9091-80c402dda626",
   "metadata": {},
   "outputs": [
    {
     "name": "stdout",
     "output_type": "stream",
     "text": [
      "Now in __repr__ of MyClass, with self.x='abcd'\n"
     ]
    },
    {
     "data": {
      "text/plain": [
       "abcd"
      ]
     },
     "execution_count": 16,
     "metadata": {},
     "output_type": "execute_result"
    }
   ],
   "source": [
    "m"
   ]
  },
  {
   "cell_type": "code",
   "execution_count": 17,
   "id": "2d7ef376-9f53-49a9-9fc4-289c96caf42f",
   "metadata": {},
   "outputs": [
    {
     "name": "stdout",
     "output_type": "stream",
     "text": [
      "Now in __repr__ of MyClass, with self.x='abcd'\n",
      "[abcd]\n"
     ]
    }
   ],
   "source": [
    "mylist = [m]\n",
    "print(mylist)"
   ]
  },
  {
   "cell_type": "code",
   "execution_count": 18,
   "id": "881fdd47-2cd7-4758-a0c2-b73f0d054db1",
   "metadata": {},
   "outputs": [
    {
     "name": "stdout",
     "output_type": "stream",
     "text": [
      "Now in __str__ of MyClass, with self.x='abcd'\n",
      "my m is abcd\n"
     ]
    }
   ],
   "source": [
    "print(f'my m is {m}')"
   ]
  },
  {
   "cell_type": "code",
   "execution_count": 19,
   "id": "bb962874-8dcd-4528-b05d-f84a21f0828d",
   "metadata": {},
   "outputs": [
    {
     "name": "stdout",
     "output_type": "stream",
     "text": [
      "Now in __len__ of MyClass, with self.x='abcd'\n"
     ]
    },
    {
     "data": {
      "text/plain": [
       "4"
      ]
     },
     "execution_count": 19,
     "metadata": {},
     "output_type": "execute_result"
    }
   ],
   "source": [
    "class MyClass:\n",
    "    def __init__(self, x):\n",
    "        self.x = x\n",
    "    def __len__(self):\n",
    "        print(f'Now in __len__ of MyClass, with {self.x=}')\n",
    "        return len(self.x)\n",
    "    # def __str__(self):\n",
    "    #     print(f'Now in __str__ of MyClass, with {self.x=}')\n",
    "    #     return str(self.x)\n",
    "    def __repr__(self):\n",
    "        print(f'Now in __repr__ of MyClass, with {self.x=}')\n",
    "        return str(self.x)\n",
    "\n",
    "m = MyClass('abcd')\n",
    "len(m) "
   ]
  },
  {
   "cell_type": "code",
   "execution_count": 20,
   "id": "9f2ea4fd-5712-46a5-8040-19aae6afdc2b",
   "metadata": {},
   "outputs": [
    {
     "name": "stdout",
     "output_type": "stream",
     "text": [
      "Now in __repr__ of MyClass, with self.x='abcd'\n",
      "abcd\n"
     ]
    }
   ],
   "source": [
    "print(m)"
   ]
  },
  {
   "cell_type": "code",
   "execution_count": 21,
   "id": "41c615e7-96ec-4dbe-9f0b-e8b073b1724f",
   "metadata": {},
   "outputs": [
    {
     "name": "stdout",
     "output_type": "stream",
     "text": [
      "Now in __repr__ of MyClass, with self.x='abcd'\n"
     ]
    },
    {
     "data": {
      "text/plain": [
       "abcd"
      ]
     },
     "execution_count": 21,
     "metadata": {},
     "output_type": "execute_result"
    }
   ],
   "source": [
    "m"
   ]
  },
  {
   "cell_type": "code",
   "execution_count": 22,
   "id": "e95346d7-5b98-4d1d-8b23-dec791fb691f",
   "metadata": {},
   "outputs": [
    {
     "name": "stdout",
     "output_type": "stream",
     "text": [
      "Now in __repr__ of MyClass, with self.x='abcd'\n"
     ]
    },
    {
     "data": {
      "text/plain": [
       "'abcd'"
      ]
     },
     "execution_count": 22,
     "metadata": {},
     "output_type": "execute_result"
    }
   ],
   "source": [
    "str(m)"
   ]
  },
  {
   "cell_type": "code",
   "execution_count": 23,
   "id": "7c81f202-f840-4ed3-bac1-2e6649585706",
   "metadata": {},
   "outputs": [],
   "source": [
    "m.__repr__ = lambda: 'I am the repr!'"
   ]
  },
  {
   "cell_type": "code",
   "execution_count": 24,
   "id": "ac869e8c-b2ac-44de-9bea-e7bc726655d8",
   "metadata": {},
   "outputs": [
    {
     "name": "stdout",
     "output_type": "stream",
     "text": [
      "Now in __repr__ of MyClass, with self.x='abcd'\n"
     ]
    },
    {
     "data": {
      "text/plain": [
       "'abcd'"
      ]
     },
     "execution_count": 24,
     "metadata": {},
     "output_type": "execute_result"
    }
   ],
   "source": [
    "str(m)"
   ]
  },
  {
   "cell_type": "code",
   "execution_count": 25,
   "id": "337d328b-e43f-4972-b4ad-06f19a88601c",
   "metadata": {},
   "outputs": [
    {
     "name": "stdout",
     "output_type": "stream",
     "text": [
      "Now in __repr__ of MyClass, with self.x='abcd'\n",
      "abcd\n"
     ]
    }
   ],
   "source": [
    "print(m)"
   ]
  },
  {
   "cell_type": "code",
   "execution_count": 26,
   "id": "f323924a-ff76-46bb-90a0-362b98c540b6",
   "metadata": {},
   "outputs": [
    {
     "name": "stdout",
     "output_type": "stream",
     "text": [
      "Now in __repr__ of MyClass, with self.x='abcd'\n"
     ]
    },
    {
     "data": {
      "text/plain": [
       "abcd"
      ]
     },
     "execution_count": 26,
     "metadata": {},
     "output_type": "execute_result"
    }
   ],
   "source": [
    "m"
   ]
  },
  {
   "cell_type": "code",
   "execution_count": 27,
   "id": "15a8f0e9-bd3c-4933-a740-37d60e75ac50",
   "metadata": {},
   "outputs": [
    {
     "data": {
      "text/plain": [
       "'I am the repr!'"
      ]
     },
     "execution_count": 27,
     "metadata": {},
     "output_type": "execute_result"
    }
   ],
   "source": [
    "m.__repr__()"
   ]
  },
  {
   "cell_type": "code",
   "execution_count": 28,
   "id": "af17d356-0f35-458a-b444-2cf7a8c2c60d",
   "metadata": {},
   "outputs": [
    {
     "name": "stdout",
     "output_type": "stream",
     "text": [
      "Now in __len__ of MyClass, with self.x='abcd'\n"
     ]
    },
    {
     "data": {
      "text/plain": [
       "4"
      ]
     },
     "execution_count": 28,
     "metadata": {},
     "output_type": "execute_result"
    }
   ],
   "source": [
    "class MyClass:\n",
    "    def __init__(self, x):\n",
    "        self.x = x\n",
    "    def __len__(self):\n",
    "        print(f'Now in __len__ of MyClass, with {self.x=}')\n",
    "        return len(self.x)\n",
    "    # def __str__(self):\n",
    "    #     print(f'Now in __str__ of MyClass, with {self.x=}')\n",
    "    #     return str(self.x)\n",
    "    def __repr__(self):\n",
    "        print(f'Now in __repr__ of MyClass, with {self.x=}')\n",
    "        return str(self.x)\n",
    "    def hello(self):\n",
    "        return f'Hello, {vars(self)=}'\n",
    "\n",
    "m = MyClass('abcd')\n",
    "len(m) "
   ]
  },
  {
   "cell_type": "code",
   "execution_count": 30,
   "id": "1e970f73-28a1-4768-a84b-8f9f2cdf228b",
   "metadata": {},
   "outputs": [
    {
     "data": {
      "text/plain": [
       "\"Hello, vars(self)={'x': 'abcd'}\""
      ]
     },
     "execution_count": 30,
     "metadata": {},
     "output_type": "execute_result"
    }
   ],
   "source": [
    "m.hello() # m has hello? no.  MyClass has hello? yes"
   ]
  },
  {
   "cell_type": "code",
   "execution_count": 31,
   "id": "39b05e7b-0a87-45b7-a39f-238d5a358fc7",
   "metadata": {},
   "outputs": [],
   "source": [
    "# can we directly assign a function object to an instance? Yes, but don't do it!\n",
    "m.hello = lambda: 'Actually, goodbye!'"
   ]
  },
  {
   "cell_type": "code",
   "execution_count": 32,
   "id": "b3cedcb8-140d-4cd9-877f-29e0f9ced13a",
   "metadata": {},
   "outputs": [
    {
     "data": {
      "text/plain": [
       "'Actually, goodbye!'"
      ]
     },
     "execution_count": 32,
     "metadata": {},
     "output_type": "execute_result"
    }
   ],
   "source": [
    "\n",
    "m.hello()"
   ]
  },
  {
   "cell_type": "code",
   "execution_count": 33,
   "id": "155efc2e-6aec-4596-8078-4bfbc2e66b7a",
   "metadata": {},
   "outputs": [
    {
     "name": "stdout",
     "output_type": "stream",
     "text": [
      "Now in __len__ of MyClass, with self.x='abcd'\n"
     ]
    },
    {
     "data": {
      "text/plain": [
       "4"
      ]
     },
     "execution_count": 33,
     "metadata": {},
     "output_type": "execute_result"
    }
   ],
   "source": [
    "class MyClass:\n",
    "    def __init__(self, x):\n",
    "        self.x = x\n",
    "    def __len__(self):\n",
    "        print(f'Now in __len__ of MyClass, with {self.x=}')\n",
    "        return len(self.x)\n",
    "    # def __str__(self):\n",
    "    #     print(f'Now in __str__ of MyClass, with {self.x=}')\n",
    "    #     return str(self.x)\n",
    "    def __repr__(self):\n",
    "        print(f'Now in __repr__ of MyClass, with {self.x=}')\n",
    "        return str(self.x)\n",
    "    def hello(self):\n",
    "        return f'Hello, {vars(self)=}'\n",
    "\n",
    "m = MyClass('abcd')\n",
    "len(m) "
   ]
  },
  {
   "cell_type": "code",
   "execution_count": 34,
   "id": "77a6e989-2bc6-47ad-8ef7-665f44d5d3c7",
   "metadata": {},
   "outputs": [
    {
     "ename": "TypeError",
     "evalue": "int() argument must be a string, a bytes-like object or a real number, not 'MyClass'",
     "output_type": "error",
     "traceback": [
      "\u001b[0;31m---------------------------------------------------------------------------\u001b[0m",
      "\u001b[0;31mTypeError\u001b[0m                                 Traceback (most recent call last)",
      "Cell \u001b[0;32mIn[34], line 2\u001b[0m\n\u001b[1;32m      1\u001b[0m \u001b[38;5;66;03m# can I turn m into an instance?\u001b[39;00m\n\u001b[0;32m----> 2\u001b[0m \u001b[38;5;28;43mint\u001b[39;49m\u001b[43m(\u001b[49m\u001b[43mm\u001b[49m\u001b[43m)\u001b[49m\n",
      "\u001b[0;31mTypeError\u001b[0m: int() argument must be a string, a bytes-like object or a real number, not 'MyClass'"
     ]
    }
   ],
   "source": [
    "# can I turn m into an instance?\n",
    "int(m)"
   ]
  },
  {
   "cell_type": "code",
   "execution_count": 37,
   "id": "9bebd774-21cc-48e6-a02f-a25473b3093e",
   "metadata": {},
   "outputs": [
    {
     "name": "stdout",
     "output_type": "stream",
     "text": [
      "Now in __len__ of MyClass, with self.x='abcd'\n"
     ]
    },
    {
     "data": {
      "text/plain": [
       "4"
      ]
     },
     "execution_count": 37,
     "metadata": {},
     "output_type": "execute_result"
    }
   ],
   "source": [
    "class MyClass:\n",
    "    def __init__(self, x):\n",
    "        self.x = x\n",
    "    def __len__(self):\n",
    "        print(f'Now in __len__ of MyClass, with {self.x=}')\n",
    "        return len(self.x)\n",
    "    # def __str__(self):\n",
    "    #     print(f'Now in __str__ of MyClass, with {self.x=}')\n",
    "    #     return str(self.x)\n",
    "    def __repr__(self):\n",
    "        print(f'Now in __repr__ of MyClass, with {self.x=}')\n",
    "        return str(self.x)\n",
    "    def hello(self):\n",
    "        return f'Hello, {vars(self)=}'\n",
    "    def __int__(self):\n",
    "        try:\n",
    "            return int(self.x)\n",
    "        except ValueError:\n",
    "            return 0\n",
    "\n",
    "m = MyClass('abcd')\n",
    "len(m) "
   ]
  },
  {
   "cell_type": "code",
   "execution_count": 38,
   "id": "dabb45c7-6cb6-4d64-b2bf-fd0655c7adfb",
   "metadata": {},
   "outputs": [
    {
     "data": {
      "text/plain": [
       "0"
      ]
     },
     "execution_count": 38,
     "metadata": {},
     "output_type": "execute_result"
    }
   ],
   "source": [
    "int(m)"
   ]
  },
  {
   "cell_type": "code",
   "execution_count": 39,
   "id": "1cbe30e6-2f4b-4d6c-800f-0661ed2642f7",
   "metadata": {},
   "outputs": [
    {
     "data": {
      "text/plain": [
       "1234"
      ]
     },
     "execution_count": 39,
     "metadata": {},
     "output_type": "execute_result"
    }
   ],
   "source": [
    "m = MyClass('1234')\n",
    "int(m)"
   ]
  },
  {
   "cell_type": "code",
   "execution_count": 40,
   "id": "760b0061-5d74-4410-93d9-a12e38a5905a",
   "metadata": {},
   "outputs": [
    {
     "name": "stdout",
     "output_type": "stream",
     "text": [
      "Yes, it is 100\n"
     ]
    }
   ],
   "source": [
    "x = 100\n",
    "\n",
    "if x == 100:\n",
    "    print('Yes, it is 100')\n",
    "else:\n",
    "    print('No, it is not 100')"
   ]
  },
  {
   "cell_type": "code",
   "execution_count": 41,
   "id": "591f07c4-e23b-4fab-9b14-cd9231f91fb1",
   "metadata": {},
   "outputs": [
    {
     "name": "stdout",
     "output_type": "stream",
     "text": [
      "Yes, it is True-ish\n"
     ]
    }
   ],
   "source": [
    "x = 100\n",
    "\n",
    "if x:\n",
    "    print('Yes, it is True-ish')\n",
    "else:\n",
    "    print('No, it is False-ish')"
   ]
  },
  {
   "cell_type": "code",
   "execution_count": 42,
   "id": "38ce3fcb-c6ee-4e3b-bd1f-060c8ef20f9e",
   "metadata": {},
   "outputs": [
    {
     "data": {
      "text/plain": [
       "True"
      ]
     },
     "execution_count": 42,
     "metadata": {},
     "output_type": "execute_result"
    }
   ],
   "source": [
    "x.__bool__()"
   ]
  },
  {
   "cell_type": "code",
   "execution_count": 45,
   "id": "4b845074-8abe-4449-9239-007877cb3b39",
   "metadata": {},
   "outputs": [],
   "source": [
    "class MyClass:\n",
    "    def __init__(self, x):\n",
    "        self.x = x\n",
    "    def __len__(self):\n",
    "        print(f'Now in __len__ of MyClass, with {self.x=}')\n",
    "        return len(self.x)\n",
    "    # def __str__(self):\n",
    "    #     print(f'Now in __str__ of MyClass, with {self.x=}')\n",
    "    #     return str(self.x)\n",
    "    def __repr__(self):\n",
    "        print(f'Now in __repr__ of MyClass, with {self.x=}')\n",
    "        return str(self.x)\n",
    "    def hello(self):\n",
    "        return f'Hello, {vars(self)=}'\n",
    "    def __int__(self):\n",
    "        try:\n",
    "            return int(self.x)\n",
    "        except ValueError:\n",
    "            return 0\n",
    "    def __bool__(self):\n",
    "        return len(str(self.x)) % 2 == 1\n"
   ]
  },
  {
   "cell_type": "code",
   "execution_count": 46,
   "id": "59d7963c-dc1a-4af5-938d-64ff1c8ad8ba",
   "metadata": {},
   "outputs": [
    {
     "data": {
      "text/plain": [
       "True"
      ]
     },
     "execution_count": 46,
     "metadata": {},
     "output_type": "execute_result"
    }
   ],
   "source": [
    "m = MyClass('abcde')\n",
    "bool(m)"
   ]
  },
  {
   "cell_type": "code",
   "execution_count": 47,
   "id": "eec18334-3c88-4ff2-812f-474ebeaee37f",
   "metadata": {},
   "outputs": [
    {
     "data": {
      "text/plain": [
       "False"
      ]
     },
     "execution_count": 47,
     "metadata": {},
     "output_type": "execute_result"
    }
   ],
   "source": [
    "m = MyClass('abcd')\n",
    "bool(m)"
   ]
  },
  {
   "cell_type": "code",
   "execution_count": 48,
   "id": "b9266a59-0eb7-4464-a58d-d15cc83c12c6",
   "metadata": {},
   "outputs": [
    {
     "name": "stdout",
     "output_type": "stream",
     "text": [
      "Falseish\n"
     ]
    }
   ],
   "source": [
    "if m:\n",
    "    print('Truish!')\n",
    "else:\n",
    "    print('Falseish')"
   ]
  },
  {
   "cell_type": "code",
   "execution_count": 49,
   "id": "f07a3318-8cde-42ec-a2a9-9ed4f2049501",
   "metadata": {},
   "outputs": [],
   "source": [
    "# __eq__ \n",
    "\n",
    "# if I run  x == y, this is translated to x.__eq__(y)\n",
    "# which is translated into MyClass.__eq__(x, y)"
   ]
  },
  {
   "cell_type": "code",
   "execution_count": 54,
   "id": "0321d8d6-8d25-4500-9a27-f1c88543f288",
   "metadata": {},
   "outputs": [
    {
     "name": "stdout",
     "output_type": "stream",
     "text": [
      "m = abcd\n"
     ]
    }
   ],
   "source": [
    "class MyClass:\n",
    "    def __init__(self, x):\n",
    "        self.x = x\n",
    "    def __len__(self):\n",
    "        print(f'Now in __len__ of MyClass, with {self.x=}')\n",
    "        return len(self.x)\n",
    "    # def __str__(self):\n",
    "    #     print(f'Now in __str__ of MyClass, with {self.x=}')\n",
    "    #     return str(self.x)\n",
    "    def __repr__(self):\n",
    "        print(f'Now in __repr__ of MyClass, with {self.x=}')\n",
    "        return str(self.x)\n",
    "    def hello(self):\n",
    "        return f'Hello, {vars(self)=}'\n",
    "    def __int__(self):\n",
    "        try:\n",
    "            return int(self.x)\n",
    "        except ValueError:\n",
    "            return 0\n",
    "    def __format__(self, format_code):\n",
    "        if format_code == 'reverse':\n",
    "            return self.x[::-1]    # reverse a string\n",
    "        else:\n",
    "            return self.x\n",
    "\n",
    "m = MyClass('abcd')\n",
    "\n",
    "print(f'm = {m}')"
   ]
  },
  {
   "cell_type": "code",
   "execution_count": 57,
   "id": "6e1c4224-4cff-4d98-ae86-9844d1345b31",
   "metadata": {},
   "outputs": [
    {
     "name": "stdout",
     "output_type": "stream",
     "text": [
      "m = dcba\n"
     ]
    }
   ],
   "source": [
    "print(f'm = {m:reverse}')"
   ]
  },
  {
   "cell_type": "code",
   "execution_count": 58,
   "id": "4c62393c-eeb4-46d7-8dc9-47a60adc9179",
   "metadata": {},
   "outputs": [
    {
     "name": "stdout",
     "output_type": "stream",
     "text": [
      "m = abcd\n"
     ]
    }
   ],
   "source": [
    "print(f'm = {m}')"
   ]
  },
  {
   "cell_type": "code",
   "execution_count": 61,
   "id": "1e1310cb-e980-442b-b676-17aa2844bed1",
   "metadata": {},
   "outputs": [
    {
     "name": "stdout",
     "output_type": "stream",
     "text": [
      "123456789\n"
     ]
    }
   ],
   "source": [
    "x = 123456789\n",
    "print(f'{x}')"
   ]
  },
  {
   "cell_type": "code",
   "execution_count": 62,
   "id": "47fa6d72-3463-4577-877a-35fc095cf69f",
   "metadata": {},
   "outputs": [
    {
     "name": "stdout",
     "output_type": "stream",
     "text": [
      "123,456,789\n"
     ]
    }
   ],
   "source": [
    "print(f'{x:,}')"
   ]
  },
  {
   "cell_type": "code",
   "execution_count": 65,
   "id": "0109d3a5-9e10-411a-a4e8-cf966f2e14ad",
   "metadata": {},
   "outputs": [
    {
     "name": "stdout",
     "output_type": "stream",
     "text": [
      "123,456,789:\n"
     ]
    }
   ],
   "source": [
    "print(f'{x:,}:')"
   ]
  },
  {
   "cell_type": "code",
   "execution_count": 69,
   "id": "0b80d3ef-ccf8-425d-acb5-ffd5c737f1d0",
   "metadata": {},
   "outputs": [
    {
     "name": "stdout",
     "output_type": "stream",
     "text": [
      "123456789.12\n"
     ]
    }
   ],
   "source": [
    "x = 123456789.12345\n",
    "\n",
    "print(f'{x:0.2f}')"
   ]
  },
  {
   "cell_type": "markdown",
   "id": "2c20d827-2794-44a9-b835-5bb623a2388e",
   "metadata": {},
   "source": [
    "# f-string info\n",
    "\n",
    "https://fstring.help/"
   ]
  },
  {
   "cell_type": "markdown",
   "id": "4aa3205b-53c6-47dc-90a7-867aa4a6b925",
   "metadata": {},
   "source": [
    "# Exercise: Person with magic methods\n",
    "\n",
    "1. Define `Person` as a class with `first` and `last` attributes.\n",
    "2. If we print/`str` an instance, we should get a string with the first and last names, separated by a space.\n",
    "3. If we run `len` on an instance, we should get the total number of characters in first and last names.\n",
    "4. If we run `==` on two instances, it'll compare both `first` and `last`\n",
    "5. If we run `<` or `>`, then it should compare `last` and then `first`.\n",
    "6. Create a list of `Person` objects, and sort them by last name, and then first name.\n",
    "7. If we put a `Person` in an f-string, we'll get the regular first + last string. But if we use the format string `asia` after `:`, then we'll get last name and then first name."
   ]
  },
  {
   "cell_type": "code",
   "execution_count": 76,
   "id": "93630af9-d277-4d7f-9fcf-17c226bb7ec8",
   "metadata": {},
   "outputs": [],
   "source": [
    "class Person:\n",
    "    def __init__(self, first, last):\n",
    "        self.first = first\n",
    "        self.last = last\n",
    "    def __repr__(self):\n",
    "        return f'{self.first} {self.last}'\n",
    "    def __len__(self):\n",
    "        return len(self.first + self.last)\n",
    "\n",
    "p1 = Person('Reuven', 'Lerner')\n",
    "p2 = Person('John', 'Smith')\n",
    "p3 = Person('Also', 'Smith')\n",
    "\n",
    "people = [p1, p2, p3]"
   ]
  },
  {
   "cell_type": "code",
   "execution_count": 77,
   "id": "48b398b9-e995-402a-a271-1fb443927ce7",
   "metadata": {},
   "outputs": [
    {
     "name": "stdout",
     "output_type": "stream",
     "text": [
      "Reuven Lerner\n"
     ]
    }
   ],
   "source": [
    "print(p1)"
   ]
  },
  {
   "cell_type": "code",
   "execution_count": 78,
   "id": "c545b77b-ac78-4232-bb13-78f0ccb3d57b",
   "metadata": {},
   "outputs": [
    {
     "data": {
      "text/plain": [
       "[Reuven Lerner, John Smith, Also Smith]"
      ]
     },
     "execution_count": 78,
     "metadata": {},
     "output_type": "execute_result"
    }
   ],
   "source": [
    "people"
   ]
  },
  {
   "cell_type": "code",
   "execution_count": 79,
   "id": "200005d1-82a6-4ad1-96c1-cd3bdfa7d9f2",
   "metadata": {},
   "outputs": [
    {
     "data": {
      "text/plain": [
       "12"
      ]
     },
     "execution_count": 79,
     "metadata": {},
     "output_type": "execute_result"
    }
   ],
   "source": [
    "len(p1)"
   ]
  },
  {
   "cell_type": "code",
   "execution_count": 80,
   "id": "6c4ba0e0-7592-48bc-b6df-d72ccb49c039",
   "metadata": {},
   "outputs": [
    {
     "data": {
      "text/plain": [
       "False"
      ]
     },
     "execution_count": 80,
     "metadata": {},
     "output_type": "execute_result"
    }
   ],
   "source": [
    "p1 == p2"
   ]
  },
  {
   "cell_type": "code",
   "execution_count": 81,
   "id": "67afbfe7-be9d-4bbb-82cb-fd1905e11d9f",
   "metadata": {},
   "outputs": [
    {
     "data": {
      "text/plain": [
       "True"
      ]
     },
     "execution_count": 81,
     "metadata": {},
     "output_type": "execute_result"
    }
   ],
   "source": [
    "p1 == p1"
   ]
  },
  {
   "cell_type": "code",
   "execution_count": 82,
   "id": "76105642-98e0-4155-b9ea-ce9c043a5b4d",
   "metadata": {},
   "outputs": [
    {
     "data": {
      "text/plain": [
       "False"
      ]
     },
     "execution_count": 82,
     "metadata": {},
     "output_type": "execute_result"
    }
   ],
   "source": [
    "p4 = Person('Reuven', 'Lerner')\n",
    "\n",
    "p1 == p4"
   ]
  },
  {
   "cell_type": "code",
   "execution_count": 98,
   "id": "82d25584-72f9-4b55-b847-f5aaf6b4fc13",
   "metadata": {},
   "outputs": [],
   "source": [
    "class Person:\n",
    "    def __init__(self, first, last):\n",
    "        self.first = first\n",
    "        self.last = last\n",
    "    def __repr__(self):\n",
    "        return f'{self.first} {self.last}'\n",
    "    def __len__(self):\n",
    "        return len(self.first + self.last)\n",
    "    def __eq__(self, other):\n",
    "\n",
    "        # if hasattr(other, 'first') and hasattr(other, 'last'):\n",
    "        #     return vars(self) == vars(other)\n",
    "        # return False\n",
    "    \n",
    "        # if you're worried about vars, we can do this:\n",
    "        attributes_to_check = ['first', 'last', 'thingee']\n",
    "        self_attrs = {one_attribute : getattr(self, one_attribute) if hasattr(self, one_attribute) else None\n",
    "                      for one_attribute in attributes_to_check}\n",
    "        other_attrs = {one_attribute : getattr(other, one_attribute) if hasattr(other, one_attribute) else None\n",
    "                      for one_attribute in attributes_to_check}\n",
    "\n",
    "        print(self_attrs)\n",
    "        print(other_attrs)\n",
    "\n",
    "        return self_attrs == other_attrs\n",
    "        \n",
    "\n",
    "\n",
    "p1 = Person('Reuven', 'Lerner')\n",
    "p2 = Person('John', 'Smith')\n",
    "p3 = Person('Also', 'Smith')\n",
    "\n",
    "people = [p1, p2, p3]"
   ]
  },
  {
   "cell_type": "code",
   "execution_count": 99,
   "id": "db53fa9a-828b-4a24-8cf6-c55634caa8ac",
   "metadata": {},
   "outputs": [
    {
     "name": "stdout",
     "output_type": "stream",
     "text": [
      "{'first': 'Reuven', 'last': 'Lerner', 'thingee': None}\n",
      "{'first': 'Reuven', 'last': 'Lerner', 'thingee': None}\n"
     ]
    },
    {
     "data": {
      "text/plain": [
       "True"
      ]
     },
     "execution_count": 99,
     "metadata": {},
     "output_type": "execute_result"
    }
   ],
   "source": [
    "p4 = Person('Reuven', 'Lerner')\n",
    "\n",
    "p1 == p4"
   ]
  },
  {
   "cell_type": "code",
   "execution_count": 100,
   "id": "99c0d53b-f93f-4b1f-8061-25cc97dc6dc1",
   "metadata": {},
   "outputs": [
    {
     "name": "stdout",
     "output_type": "stream",
     "text": [
      "{'first': 'Reuven', 'last': 'Lerner', 'thingee': None}\n",
      "{'first': None, 'last': None, 'thingee': None}\n"
     ]
    },
    {
     "data": {
      "text/plain": [
       "False"
      ]
     },
     "execution_count": 100,
     "metadata": {},
     "output_type": "execute_result"
    }
   ],
   "source": [
    "p1 == 5"
   ]
  },
  {
   "cell_type": "markdown",
   "id": "423703f6-a62d-4df7-8a7e-147d9e4219f5",
   "metadata": {},
   "source": [
    "5. If we run `<` or `>`, then it should compare `last` and then `first`.\n",
    "6. Create a list of `Person` objects, and sort them by last name, and then first name.\n",
    "7. If we put a `Person` in an f-string, we'll get the regular first + last string. But if we use the format string `asia` after `:`, then we'll get last name and then first name."
   ]
  },
  {
   "cell_type": "code",
   "execution_count": 103,
   "id": "f833b133-a6bb-40a9-94f4-4dfbf3d83b77",
   "metadata": {},
   "outputs": [],
   "source": [
    "from functools import total_ordering\n",
    "\n",
    "@total_ordering\n",
    "class Person:\n",
    "    def __init__(self, first, last):\n",
    "        self.first = first\n",
    "        self.last = last\n",
    "    def __repr__(self):\n",
    "        return f'{self.first} {self.last}'\n",
    "    def __len__(self):\n",
    "        return len(self.first + self.last)\n",
    "    def __eq__(self, other):\n",
    "\n",
    "        # if you're worried about vars, we can do this:\n",
    "        attributes_to_check = ['first', 'last', 'thingee']\n",
    "        self_attrs = {one_attribute : getattr(self, one_attribute) if hasattr(self, one_attribute) else None\n",
    "                      for one_attribute in attributes_to_check}\n",
    "        other_attrs = {one_attribute : getattr(other, one_attribute) if hasattr(other, one_attribute) else None\n",
    "                      for one_attribute in attributes_to_check}\n",
    "\n",
    "        print(self_attrs)\n",
    "        print(other_attrs)\n",
    "\n",
    "        return self_attrs == other_attrs\n",
    "\n",
    "    def __lt__(self, other):\n",
    "        return [self.last, self.first] < [other.last, other.first]\n",
    "     \n",
    "p1 = Person('Reuven', 'Lerner')\n",
    "p2 = Person('John', 'Smith')\n",
    "p3 = Person('Also', 'Smith')\n",
    "\n",
    "people = [p1, p2, p3]"
   ]
  },
  {
   "cell_type": "code",
   "execution_count": 104,
   "id": "f6a2d713-1be8-41e6-bf4f-b11d655c0d91",
   "metadata": {},
   "outputs": [
    {
     "data": {
      "text/plain": [
       "[Reuven Lerner, Also Smith, John Smith]"
      ]
     },
     "execution_count": 104,
     "metadata": {},
     "output_type": "execute_result"
    }
   ],
   "source": [
    "sorted(people)"
   ]
  },
  {
   "cell_type": "code",
   "execution_count": 105,
   "id": "c5a4b08a-f034-4ea1-992d-2471842de81d",
   "metadata": {},
   "outputs": [
    {
     "data": {
      "text/plain": [
       "True"
      ]
     },
     "execution_count": 105,
     "metadata": {},
     "output_type": "execute_result"
    }
   ],
   "source": [
    "p2 >= p1"
   ]
  },
  {
   "cell_type": "code",
   "execution_count": 107,
   "id": "a6a88c10-92c3-41f3-9a3f-45656798fde8",
   "metadata": {},
   "outputs": [
    {
     "name": "stdout",
     "output_type": "stream",
     "text": [
      "Reuven Lerner\n",
      "Lerner Reuven\n"
     ]
    }
   ],
   "source": [
    "from functools import total_ordering\n",
    "\n",
    "@total_ordering\n",
    "class Person:\n",
    "    def __init__(self, first, last):\n",
    "        self.first = first\n",
    "        self.last = last\n",
    "    def __repr__(self):\n",
    "        return f'{self.first} {self.last}'\n",
    "    def __len__(self):\n",
    "        return len(self.first + self.last)\n",
    "    def __eq__(self, other):\n",
    "\n",
    "        # if you're worried about vars, we can do this:\n",
    "        attributes_to_check = ['first', 'last', 'thingee']\n",
    "        self_attrs = {one_attribute : getattr(self, one_attribute) if hasattr(self, one_attribute) else None\n",
    "                      for one_attribute in attributes_to_check}\n",
    "        other_attrs = {one_attribute : getattr(other, one_attribute) if hasattr(other, one_attribute) else None\n",
    "                      for one_attribute in attributes_to_check}\n",
    "\n",
    "        print(self_attrs)\n",
    "        print(other_attrs)\n",
    "\n",
    "        return self_attrs == other_attrs\n",
    "\n",
    "    def __lt__(self, other):\n",
    "        return [self.last, self.first] < [other.last, other.first]\n",
    "\n",
    "    def __format__(self, format_code):\n",
    "        if format_code == 'asia':\n",
    "            return f'{self.last} {self.first}'\n",
    "        return str(self)\n",
    "     \n",
    "p1 = Person('Reuven', 'Lerner')\n",
    "p2 = Person('John', 'Smith')\n",
    "p3 = Person('Also', 'Smith')\n",
    "\n",
    "print(f'{p1}')\n",
    "print(f'{p1:asia}')"
   ]
  },
  {
   "cell_type": "code",
   "execution_count": null,
   "id": "c2ed52f1-0e2c-4327-bb98-9aed21b813f5",
   "metadata": {},
   "outputs": [],
   "source": []
  }
 ],
 "metadata": {
  "kernelspec": {
   "display_name": "Python 3 (ipykernel)",
   "language": "python",
   "name": "python3"
  },
  "language_info": {
   "codemirror_mode": {
    "name": "ipython",
    "version": 3
   },
   "file_extension": ".py",
   "mimetype": "text/x-python",
   "name": "python",
   "nbconvert_exporter": "python",
   "pygments_lexer": "ipython3",
   "version": "3.12.2"
  },
  "widgets": {
   "application/vnd.jupyter.widget-state+json": {
    "state": {},
    "version_major": 2,
    "version_minor": 0
   }
  }
 },
 "nbformat": 4,
 "nbformat_minor": 5
}
