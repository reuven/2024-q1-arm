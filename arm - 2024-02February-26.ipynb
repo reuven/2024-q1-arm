{
 "cells": [
  {
   "cell_type": "markdown",
   "metadata": {},
   "source": [
    "# Agenda\n",
    "\n",
    "1. Functions\n",
    "    - Inner functions\n",
    "    - Dispatch tables\n",
    "    - Bytecodes and compilation\n",
    "2. Mypy + annotations\n",
    "    - Type annotations / type hints\n",
    "    - Mypy \n",
    "    - Modern techniques\n",
    "3. Objects\n",
    "    - What happens when we create an object?\n",
    "    - Attributes (ICPO)\n",
    "    - Methods \n",
    "    - Magic methods\n",
    "    - Inheritance"
   ]
  },
  {
   "cell_type": "code",
   "execution_count": null,
   "metadata": {},
   "outputs": [],
   "source": []
  }
 ],
 "metadata": {
  "kernelspec": {
   "display_name": "Python 3 (ipykernel)",
   "language": "python",
   "name": "python3"
  },
  "language_info": {
   "codemirror_mode": {
    "name": "ipython",
    "version": 3
   },
   "file_extension": ".py",
   "mimetype": "text/x-python",
   "name": "python",
   "nbconvert_exporter": "python",
   "pygments_lexer": "ipython3",
   "version": "3.12.2"
  },
  "widgets": {
   "application/vnd.jupyter.widget-state+json": {
    "state": {},
    "version_major": 2,
    "version_minor": 0
   }
  }
 },
 "nbformat": 4,
 "nbformat_minor": 4
}
