{
 "cells": [
  {
   "cell_type": "markdown",
   "metadata": {},
   "source": [
    "# Agenda\n",
    "\n",
    "1. Functions\n",
    "    - Inner functions\n",
    "    - Dispatch tables\n",
    "    - Bytecodes and compilation\n",
    "2. Mypy + annotations\n",
    "    - Type annotations / type hints\n",
    "    - Mypy \n",
    "    - Modern techniques\n",
    "3. Objects\n",
    "    - What happens when we create an object?\n",
    "    - Attributes (ICPO)\n",
    "    - Methods \n",
    "    - Magic methods\n",
    "    - Inheritance"
   ]
  },
  {
   "cell_type": "markdown",
   "metadata": {},
   "source": [
    "# Inner functions\n",
    "\n",
    "1. Functions are objects (can be arguments to functions, can be return values from functions)\n",
    "2. When we use `def`, we (a) create a function object and (b) assign to a variable\n",
    "3. When we assign to a variable in a function, the variable is local"
   ]
  },
  {
   "cell_type": "code",
   "execution_count": 1,
   "metadata": {},
   "outputs": [],
   "source": [
    "def outer():\n",
    "    def inner():\n",
    "        print('I am in inner!')\n",
    "    return inner\n",
    "\n",
    "x = outer()    "
   ]
  },
  {
   "cell_type": "code",
   "execution_count": 2,
   "metadata": {},
   "outputs": [
    {
     "data": {
      "text/plain": [
       "function"
      ]
     },
     "execution_count": 2,
     "metadata": {},
     "output_type": "execute_result"
    }
   ],
   "source": [
    "type(x)"
   ]
  },
  {
   "cell_type": "code",
   "execution_count": 3,
   "metadata": {},
   "outputs": [
    {
     "data": {
      "text/plain": [
       "'inner'"
      ]
     },
     "execution_count": 3,
     "metadata": {},
     "output_type": "execute_result"
    }
   ],
   "source": [
    "x.__name__"
   ]
  },
  {
   "cell_type": "code",
   "execution_count": 4,
   "metadata": {},
   "outputs": [
    {
     "name": "stdout",
     "output_type": "stream",
     "text": [
      "I am in inner!\n"
     ]
    }
   ],
   "source": [
    "x()"
   ]
  },
  {
   "cell_type": "code",
   "execution_count": 5,
   "metadata": {},
   "outputs": [],
   "source": [
    "def hello():\n",
    "    return 'Hello!'"
   ]
  },
  {
   "cell_type": "code",
   "execution_count": 6,
   "metadata": {},
   "outputs": [
    {
     "data": {
      "text/plain": [
       "'hello'"
      ]
     },
     "execution_count": 6,
     "metadata": {},
     "output_type": "execute_result"
    }
   ],
   "source": [
    "hello.__name__"
   ]
  },
  {
   "cell_type": "code",
   "execution_count": 7,
   "metadata": {},
   "outputs": [],
   "source": [
    "y = hello"
   ]
  },
  {
   "cell_type": "code",
   "execution_count": 8,
   "metadata": {},
   "outputs": [
    {
     "data": {
      "text/plain": [
       "'hello'"
      ]
     },
     "execution_count": 8,
     "metadata": {},
     "output_type": "execute_result"
    }
   ],
   "source": [
    "y.__name__"
   ]
  },
  {
   "cell_type": "code",
   "execution_count": 9,
   "metadata": {},
   "outputs": [],
   "source": [
    "del(hello)"
   ]
  },
  {
   "cell_type": "code",
   "execution_count": 10,
   "metadata": {},
   "outputs": [
    {
     "data": {
      "text/plain": [
       "'Hello!'"
      ]
     },
     "execution_count": 10,
     "metadata": {},
     "output_type": "execute_result"
    }
   ],
   "source": [
    "y()"
   ]
  },
  {
   "cell_type": "code",
   "execution_count": 12,
   "metadata": {},
   "outputs": [],
   "source": [
    "def outer(a):\n",
    "    def inner(b):\n",
    "        print(f'I am in inner {a=}, {b=}!')\n",
    "    return inner\n",
    "\n",
    "x = outer(10)"
   ]
  },
  {
   "cell_type": "code",
   "execution_count": 13,
   "metadata": {},
   "outputs": [
    {
     "data": {
      "text/plain": [
       "function"
      ]
     },
     "execution_count": 13,
     "metadata": {},
     "output_type": "execute_result"
    }
   ],
   "source": [
    "type(x)"
   ]
  },
  {
   "cell_type": "code",
   "execution_count": 14,
   "metadata": {},
   "outputs": [
    {
     "data": {
      "text/plain": [
       "('b',)"
      ]
     },
     "execution_count": 14,
     "metadata": {},
     "output_type": "execute_result"
    }
   ],
   "source": [
    "x.__code__.co_varnames"
   ]
  },
  {
   "cell_type": "code",
   "execution_count": 15,
   "metadata": {},
   "outputs": [
    {
     "data": {
      "text/plain": [
       "1"
      ]
     },
     "execution_count": 15,
     "metadata": {},
     "output_type": "execute_result"
    }
   ],
   "source": [
    "x.__code__.co_argcount"
   ]
  },
  {
   "cell_type": "code",
   "execution_count": 16,
   "metadata": {},
   "outputs": [
    {
     "name": "stdout",
     "output_type": "stream",
     "text": [
      "I am in inner a=10, b=20!\n"
     ]
    }
   ],
   "source": [
    "x(20)"
   ]
  },
  {
   "cell_type": "code",
   "execution_count": 17,
   "metadata": {},
   "outputs": [],
   "source": [
    "y = outer(15)"
   ]
  },
  {
   "cell_type": "code",
   "execution_count": 18,
   "metadata": {},
   "outputs": [
    {
     "name": "stdout",
     "output_type": "stream",
     "text": [
      "I am in inner a=15, b=20!\n"
     ]
    }
   ],
   "source": [
    "y(20)"
   ]
  },
  {
   "cell_type": "code",
   "execution_count": 19,
   "metadata": {},
   "outputs": [],
   "source": [
    "# closure"
   ]
  },
  {
   "cell_type": "markdown",
   "metadata": {},
   "source": [
    "# Exercise: Password creator creator\n",
    "\n",
    "1. Define a function, `create_password_creator`, that takes a string argument -- the characters you want in a potential password.\n",
    "2. The function returns a new function, which takes an int argument.\n",
    "3. When we call the returned function, we get a new password of the length we said, with random characters from the string we passed.\n",
    "\n",
    "Example:\n",
    "\n",
    "    create_number_pw = create_password_creator('12345')\n",
    "    create_symbol_pw = creator_password_creator('!@#$%')\n",
    "\n",
    "    new_number_pw = create_number_pw(9)\n",
    "    new_symbol_pw = create_symbol_pw(11)\n",
    "\n",
    "You can use `random.choice`    "
   ]
  },
  {
   "cell_type": "code",
   "execution_count": 21,
   "metadata": {},
   "outputs": [
    {
     "name": "stdout",
     "output_type": "stream",
     "text": [
      "311425221\n",
      "%%#!%%@@$#@\n"
     ]
    }
   ],
   "source": [
    "import random\n",
    "\n",
    "def create_password_creator(s):\n",
    "    def create_password(n):\n",
    "        output = ''\n",
    "        for index in range(n):\n",
    "            output += random.choice(s)\n",
    "        return output\n",
    "    return create_password\n",
    "\n",
    "create_number_pw = create_password_creator('12345')\n",
    "create_symbol_pw = create_password_creator('!@#$%')\n",
    "\n",
    "new_number_pw = create_number_pw(9)\n",
    "new_symbol_pw = create_symbol_pw(11)\n",
    "\n",
    "print(new_number_pw)\n",
    "print(new_symbol_pw)"
   ]
  },
  {
   "cell_type": "code",
   "execution_count": 22,
   "metadata": {},
   "outputs": [
    {
     "data": {
      "text/plain": [
       "('s', 'create_password')"
      ]
     },
     "execution_count": 22,
     "metadata": {},
     "output_type": "execute_result"
    }
   ],
   "source": [
    "create_password_creator.__code__.co_varnames"
   ]
  },
  {
   "cell_type": "code",
   "execution_count": 23,
   "metadata": {},
   "outputs": [
    {
     "data": {
      "text/plain": [
       "'d'"
      ]
     },
     "execution_count": 23,
     "metadata": {},
     "output_type": "execute_result"
    }
   ],
   "source": [
    "s = 'abcdefghij'\n",
    "\n",
    "def get_3(x):\n",
    "    return x[3]\n",
    "\n",
    "def get_5(x):\n",
    "    return x[5]\n",
    "\n",
    "get_3(s)    "
   ]
  },
  {
   "cell_type": "code",
   "execution_count": 24,
   "metadata": {},
   "outputs": [
    {
     "data": {
      "text/plain": [
       "'f'"
      ]
     },
     "execution_count": 24,
     "metadata": {},
     "output_type": "execute_result"
    }
   ],
   "source": [
    "get_5(s)"
   ]
  },
  {
   "cell_type": "code",
   "execution_count": 25,
   "metadata": {},
   "outputs": [],
   "source": [
    "import operator"
   ]
  },
  {
   "cell_type": "code",
   "execution_count": 28,
   "metadata": {},
   "outputs": [
    {
     "data": {
      "text/plain": [
       "'d'"
      ]
     },
     "execution_count": 28,
     "metadata": {},
     "output_type": "execute_result"
    }
   ],
   "source": [
    "get_3 = operator.itemgetter(3)\n",
    "get_3(s)"
   ]
  },
  {
   "cell_type": "code",
   "execution_count": 29,
   "metadata": {},
   "outputs": [],
   "source": [
    "def my_itemgetter(index):\n",
    "    def inner(data):\n",
    "        return data[index]\n",
    "    return inner"
   ]
  },
  {
   "cell_type": "code",
   "execution_count": 30,
   "metadata": {},
   "outputs": [
    {
     "data": {
      "text/plain": [
       "'d'"
      ]
     },
     "execution_count": 30,
     "metadata": {},
     "output_type": "execute_result"
    }
   ],
   "source": [
    "get_3 = my_itemgetter(3)\n",
    "get_3(s)"
   ]
  },
  {
   "cell_type": "code",
   "execution_count": 35,
   "metadata": {},
   "outputs": [],
   "source": [
    "words = 'This isnt another bunch off words Python class teaching today'.split()"
   ]
  },
  {
   "cell_type": "code",
   "execution_count": 36,
   "metadata": {},
   "outputs": [
    {
     "data": {
      "text/plain": [
       "['Python',\n",
       " 'This',\n",
       " 'another',\n",
       " 'bunch',\n",
       " 'class',\n",
       " 'isnt',\n",
       " 'off',\n",
       " 'teaching',\n",
       " 'today',\n",
       " 'words']"
      ]
     },
     "execution_count": 36,
     "metadata": {},
     "output_type": "execute_result"
    }
   ],
   "source": [
    "sorted(words)"
   ]
  },
  {
   "cell_type": "code",
   "execution_count": 38,
   "metadata": {},
   "outputs": [
    {
     "data": {
      "text/plain": [
       "['teaching',\n",
       " 'class',\n",
       " 'today',\n",
       " 'off',\n",
       " 'This',\n",
       " 'isnt',\n",
       " 'bunch',\n",
       " 'another',\n",
       " 'words',\n",
       " 'Python']"
      ]
     },
     "execution_count": 38,
     "metadata": {},
     "output_type": "execute_result"
    }
   ],
   "source": [
    "sorted(words, key=operator.itemgetter(2,1))"
   ]
  },
  {
   "cell_type": "code",
   "execution_count": 39,
   "metadata": {},
   "outputs": [
    {
     "data": {
      "text/plain": [
       "['class',\n",
       " 'teaching',\n",
       " 'today',\n",
       " 'off',\n",
       " 'This',\n",
       " 'isnt',\n",
       " 'bunch',\n",
       " 'another',\n",
       " 'words',\n",
       " 'Python']"
      ]
     },
     "execution_count": 39,
     "metadata": {},
     "output_type": "execute_result"
    }
   ],
   "source": [
    "sorted(words, key=my_itemgetter(2))"
   ]
  },
  {
   "cell_type": "code",
   "execution_count": 40,
   "metadata": {},
   "outputs": [
    {
     "name": "stdout",
     "output_type": "stream",
     "text": [
      "115415142\n",
      "$$@!@@@$@%$\n"
     ]
    }
   ],
   "source": [
    "import random\n",
    "\n",
    "def create_password_creator(s):\n",
    "    def create_password(n):\n",
    "        output = ''\n",
    "        for index in range(n):\n",
    "            output += random.choice(s)\n",
    "        return output\n",
    "    return create_password\n",
    "\n",
    "create_number_pw = create_password_creator('12345')\n",
    "create_symbol_pw = create_password_creator('!@#$%')\n",
    "\n",
    "new_number_pw = create_number_pw(9)\n",
    "new_symbol_pw = create_symbol_pw(11)\n",
    "\n",
    "print(new_number_pw)\n",
    "print(new_symbol_pw)"
   ]
  },
  {
   "cell_type": "code",
   "execution_count": 42,
   "metadata": {},
   "outputs": [
    {
     "data": {
      "text/plain": [
       "('n', 'output', 'index')"
      ]
     },
     "execution_count": 42,
     "metadata": {},
     "output_type": "execute_result"
    }
   ],
   "source": [
    "create_number_pw.__code__.co_varnames"
   ]
  },
  {
   "cell_type": "code",
   "execution_count": 44,
   "metadata": {},
   "outputs": [
    {
     "data": {
      "text/plain": [
       "('s',)"
      ]
     },
     "execution_count": 44,
     "metadata": {},
     "output_type": "execute_result"
    }
   ],
   "source": [
    "create_number_pw.__code__.co_freevars    # from the enclosing function"
   ]
  },
  {
   "cell_type": "code",
   "execution_count": 45,
   "metadata": {},
   "outputs": [
    {
     "data": {
      "text/plain": [
       "('s',)"
      ]
     },
     "execution_count": 45,
     "metadata": {},
     "output_type": "execute_result"
    }
   ],
   "source": [
    "create_password_creator.__code__.co_cellvars    # used by the inner function"
   ]
  },
  {
   "cell_type": "code",
   "execution_count": 46,
   "metadata": {},
   "outputs": [
    {
     "data": {
      "text/plain": [
       "'1: Hello, world!'"
      ]
     },
     "execution_count": 46,
     "metadata": {},
     "output_type": "execute_result"
    }
   ],
   "source": [
    "# how many times did we run hello?\n",
    "\n",
    "counter = 0\n",
    "\n",
    "def outer():\n",
    "    def hello(name):\n",
    "        global counter\n",
    "        counter += 1\n",
    "        return f'{counter}: Hello, {name}!'\n",
    "    return hello\n",
    "\n",
    "x = outer()\n",
    "x('world')"
   ]
  },
  {
   "cell_type": "code",
   "execution_count": 47,
   "metadata": {},
   "outputs": [
    {
     "data": {
      "text/plain": [
       "'2: Hello, Reuven!'"
      ]
     },
     "execution_count": 47,
     "metadata": {},
     "output_type": "execute_result"
    }
   ],
   "source": [
    "x('Reuven')"
   ]
  },
  {
   "cell_type": "code",
   "execution_count": 51,
   "metadata": {},
   "outputs": [
    {
     "name": "stdout",
     "output_type": "stream",
     "text": [
      "1: Hello, a!\n",
      "2: Hello, b!\n",
      "3: Hello, c!\n"
     ]
    }
   ],
   "source": [
    "# how many times did we run hello?\n",
    "\n",
    "def outer():\n",
    "    counter = 0\n",
    "    def hello(name):\n",
    "        nonlocal counter\n",
    "        counter += 1\n",
    "        return f'{counter}: Hello, {name}!'\n",
    "    return hello\n",
    "\n",
    "x = outer()\n",
    "print(x('a'))\n",
    "print(x('b'))\n",
    "print(x('c'))"
   ]
  },
  {
   "cell_type": "code",
   "execution_count": 53,
   "metadata": {},
   "outputs": [],
   "source": [
    "# how many times did we run hello?\n",
    "\n",
    "def greet(greeting):\n",
    "    counter = 0\n",
    "    def inner(name):\n",
    "        nonlocal counter\n",
    "        counter += 1\n",
    "        return f'{counter}: {greeting}, {name}!'\n",
    "    return inner\n",
    "\n",
    "hello = greet('hello')\n",
    "goodbye = greet('goodbye')"
   ]
  },
  {
   "cell_type": "code",
   "execution_count": 54,
   "metadata": {},
   "outputs": [
    {
     "data": {
      "text/plain": [
       "'1: hello, world!'"
      ]
     },
     "execution_count": 54,
     "metadata": {},
     "output_type": "execute_result"
    }
   ],
   "source": [
    "hello('world')"
   ]
  },
  {
   "cell_type": "code",
   "execution_count": 55,
   "metadata": {},
   "outputs": [
    {
     "data": {
      "text/plain": [
       "'2: hello, again!'"
      ]
     },
     "execution_count": 55,
     "metadata": {},
     "output_type": "execute_result"
    }
   ],
   "source": [
    "hello('again')"
   ]
  },
  {
   "cell_type": "code",
   "execution_count": 56,
   "metadata": {},
   "outputs": [
    {
     "data": {
      "text/plain": [
       "'3: hello, again again!'"
      ]
     },
     "execution_count": 56,
     "metadata": {},
     "output_type": "execute_result"
    }
   ],
   "source": [
    "hello('again again')"
   ]
  },
  {
   "cell_type": "code",
   "execution_count": 57,
   "metadata": {},
   "outputs": [
    {
     "data": {
      "text/plain": [
       "'1: goodbye, everyone!'"
      ]
     },
     "execution_count": 57,
     "metadata": {},
     "output_type": "execute_result"
    }
   ],
   "source": [
    "goodbye('everyone')"
   ]
  },
  {
   "cell_type": "code",
   "execution_count": 58,
   "metadata": {},
   "outputs": [],
   "source": [
    "def hello(name):\n",
    "    s = f'Hello, {name}!'\n",
    "    return s"
   ]
  },
  {
   "cell_type": "code",
   "execution_count": 59,
   "metadata": {},
   "outputs": [],
   "source": [
    "import dis"
   ]
  },
  {
   "cell_type": "code",
   "execution_count": 60,
   "metadata": {},
   "outputs": [
    {
     "name": "stdout",
     "output_type": "stream",
     "text": [
      "  1           0 RESUME                   0\n",
      "\n",
      "  2           2 LOAD_CONST               1 ('Hello, ')\n",
      "              4 LOAD_FAST                0 (name)\n",
      "              6 FORMAT_VALUE             0\n",
      "              8 LOAD_CONST               2 ('!')\n",
      "             10 BUILD_STRING             3\n",
      "             12 STORE_FAST               1 (s)\n",
      "\n",
      "  3          14 LOAD_FAST                1 (s)\n",
      "             16 RETURN_VALUE\n"
     ]
    }
   ],
   "source": [
    "dis.dis(hello)"
   ]
  },
  {
   "cell_type": "code",
   "execution_count": 61,
   "metadata": {},
   "outputs": [],
   "source": [
    "def hello(name):\n",
    "    global s\n",
    "    s = f'Hello, {name}!'\n",
    "    return s"
   ]
  },
  {
   "cell_type": "code",
   "execution_count": 62,
   "metadata": {},
   "outputs": [
    {
     "name": "stdout",
     "output_type": "stream",
     "text": [
      "  1           0 RESUME                   0\n",
      "\n",
      "  3           2 LOAD_CONST               1 ('Hello, ')\n",
      "              4 LOAD_FAST                0 (name)\n",
      "              6 FORMAT_VALUE             0\n",
      "              8 LOAD_CONST               2 ('!')\n",
      "             10 BUILD_STRING             3\n",
      "             12 STORE_GLOBAL             0 (s)\n",
      "\n",
      "  4          14 LOAD_GLOBAL              0 (s)\n",
      "             24 RETURN_VALUE\n"
     ]
    }
   ],
   "source": [
    "dis.dis(hello)"
   ]
  },
  {
   "cell_type": "code",
   "execution_count": 63,
   "metadata": {},
   "outputs": [],
   "source": [
    "s = 'hello out there'\n",
    "\n",
    "def hello(name):\n",
    "    return s"
   ]
  },
  {
   "cell_type": "code",
   "execution_count": 64,
   "metadata": {},
   "outputs": [
    {
     "name": "stdout",
     "output_type": "stream",
     "text": [
      "  3           0 RESUME                   0\n",
      "\n",
      "  4           2 LOAD_GLOBAL              0 (s)\n",
      "             12 RETURN_VALUE\n"
     ]
    }
   ],
   "source": [
    "dis.dis(hello)"
   ]
  },
  {
   "cell_type": "code",
   "execution_count": 65,
   "metadata": {},
   "outputs": [],
   "source": [
    "def hello():\n",
    "    print('hello')"
   ]
  },
  {
   "cell_type": "code",
   "execution_count": 66,
   "metadata": {},
   "outputs": [
    {
     "name": "stdout",
     "output_type": "stream",
     "text": [
      "  1           0 RESUME                   0\n",
      "\n",
      "  2           2 LOAD_GLOBAL              1 (NULL + print)\n",
      "             12 LOAD_CONST               1 ('hello')\n",
      "             14 CALL                     1\n",
      "             22 POP_TOP\n",
      "             24 RETURN_CONST             0 (None)\n"
     ]
    }
   ],
   "source": [
    "dis.dis(hello)"
   ]
  },
  {
   "cell_type": "code",
   "execution_count": 67,
   "metadata": {},
   "outputs": [
    {
     "ename": "SyntaxError",
     "evalue": "name 'name' is parameter and global (3118209731.py, line 2)",
     "output_type": "error",
     "traceback": [
      "\u001b[0;36m  Cell \u001b[0;32mIn[67], line 2\u001b[0;36m\u001b[0m\n\u001b[0;31m    global name\u001b[0m\n\u001b[0m    ^\u001b[0m\n\u001b[0;31mSyntaxError\u001b[0m\u001b[0;31m:\u001b[0m name 'name' is parameter and global\n"
     ]
    }
   ],
   "source": [
    "def hello(name):\n",
    "    global name\n",
    "    return f'Hello, {name}'"
   ]
  },
  {
   "cell_type": "code",
   "execution_count": 68,
   "metadata": {},
   "outputs": [],
   "source": [
    "def outer(x):\n",
    "    def inner(y):\n",
    "        return f'In inner, {x=} and {y=}'\n",
    "    return inner"
   ]
  },
  {
   "cell_type": "code",
   "execution_count": 69,
   "metadata": {},
   "outputs": [
    {
     "name": "stdout",
     "output_type": "stream",
     "text": [
      "              0 MAKE_CELL                0 (x)\n",
      "\n",
      "  1           2 RESUME                   0\n",
      "\n",
      "  2           4 LOAD_CLOSURE             0 (x)\n",
      "              6 BUILD_TUPLE              1\n",
      "              8 LOAD_CONST               1 (<code object inner at 0x105196950, file \"/var/folders/d9/v8tsklln4477fll05wkgcpth0000gn/T/ipykernel_49084/268129923.py\", line 2>)\n",
      "             10 MAKE_FUNCTION            8 (closure)\n",
      "             12 STORE_FAST               1 (inner)\n",
      "\n",
      "  4          14 LOAD_FAST                1 (inner)\n",
      "             16 RETURN_VALUE\n",
      "\n",
      "Disassembly of <code object inner at 0x105196950, file \"/var/folders/d9/v8tsklln4477fll05wkgcpth0000gn/T/ipykernel_49084/268129923.py\", line 2>:\n",
      "              0 COPY_FREE_VARS           1\n",
      "\n",
      "  2           2 RESUME                   0\n",
      "\n",
      "  3           4 LOAD_CONST               1 ('In inner, x=')\n",
      "              6 LOAD_DEREF               1 (x)\n",
      "              8 FORMAT_VALUE             2 (repr)\n",
      "             10 LOAD_CONST               2 (' and y=')\n",
      "             12 LOAD_FAST                0 (y)\n",
      "             14 FORMAT_VALUE             2 (repr)\n",
      "             16 BUILD_STRING             4\n",
      "             18 RETURN_VALUE\n"
     ]
    }
   ],
   "source": [
    "dis.dis(outer)"
   ]
  },
  {
   "cell_type": "code",
   "execution_count": 70,
   "metadata": {},
   "outputs": [
    {
     "name": "stdout",
     "output_type": "stream",
     "text": [
      "              0 MAKE_CELL                1 (x)\n",
      "\n",
      "  1           2 RESUME                   0\n",
      "\n",
      "  2           4 LOAD_CONST               1 (100)\n",
      "              6 STORE_DEREF              1 (x)\n",
      "\n",
      "  3           8 LOAD_CLOSURE             1 (x)\n",
      "             10 BUILD_TUPLE              1\n",
      "             12 LOAD_CONST               2 (<code object inner at 0x10533adb0, file \"/var/folders/d9/v8tsklln4477fll05wkgcpth0000gn/T/ipykernel_49084/2014286018.py\", line 3>)\n",
      "             14 MAKE_FUNCTION            8 (closure)\n",
      "             16 STORE_FAST               0 (inner)\n",
      "\n",
      "  6          18 LOAD_FAST                0 (inner)\n",
      "             20 RETURN_VALUE\n",
      "\n",
      "Disassembly of <code object inner at 0x10533adb0, file \"/var/folders/d9/v8tsklln4477fll05wkgcpth0000gn/T/ipykernel_49084/2014286018.py\", line 3>:\n",
      "              0 COPY_FREE_VARS           1\n",
      "\n",
      "  3           2 RESUME                   0\n",
      "\n",
      "  5           4 LOAD_CONST               1 (200)\n",
      "              6 STORE_DEREF              0 (x)\n",
      "              8 RETURN_CONST             0 (None)\n"
     ]
    }
   ],
   "source": [
    "def outer():\n",
    "    x = 100\n",
    "    def inner():\n",
    "        nonlocal x\n",
    "        x = 200\n",
    "    return inner\n",
    "\n",
    "dis.dis(outer)    "
   ]
  },
  {
   "cell_type": "code",
   "execution_count": 71,
   "metadata": {},
   "outputs": [
    {
     "name": "stdout",
     "output_type": "stream",
     "text": [
      "16\n"
     ]
    }
   ],
   "source": [
    "x = 100\n",
    "\n",
    "for i in range(5):\n",
    "    x = i ** 2\n",
    "\n",
    "print(x)    "
   ]
  },
  {
   "cell_type": "code",
   "execution_count": 72,
   "metadata": {},
   "outputs": [
    {
     "data": {
      "text/plain": [
       "100"
      ]
     },
     "execution_count": 72,
     "metadata": {},
     "output_type": "execute_result"
    }
   ],
   "source": [
    "x = 100\n",
    "\n",
    "[x\n",
    " for x in range(5)]\n",
    "\n",
    "x "
   ]
  },
  {
   "cell_type": "code",
   "execution_count": 73,
   "metadata": {},
   "outputs": [],
   "source": [
    "def myfunc():\n",
    "    global x\n",
    "    [x\n",
    "     for x in range(5)]\n"
   ]
  },
  {
   "cell_type": "code",
   "execution_count": 74,
   "metadata": {},
   "outputs": [
    {
     "name": "stdout",
     "output_type": "stream",
     "text": [
      "  1           0 RESUME                   0\n",
      "\n",
      "  3           2 LOAD_GLOBAL              1 (NULL + range)\n",
      "             12 LOAD_CONST               1 (5)\n",
      "             14 CALL                     1\n",
      "\n",
      "  2          22 GET_ITER\n",
      "             24 LOAD_FAST_AND_CLEAR      0 (x)\n",
      "             26 SWAP                     2\n",
      "             28 BUILD_LIST               0\n",
      "             30 SWAP                     2\n",
      "        >>   32 FOR_ITER                 4 (to 44)\n",
      "\n",
      "  3          36 STORE_FAST               0 (x)\n",
      "\n",
      "  2          38 LOAD_FAST                0 (x)\n",
      "             40 LIST_APPEND              2\n",
      "             42 JUMP_BACKWARD            6 (to 32)\n",
      "        >>   44 END_FOR\n",
      "             46 SWAP                     2\n",
      "             48 STORE_FAST               0 (x)\n",
      "             50 POP_TOP\n",
      "             52 RETURN_CONST             0 (None)\n",
      "        >>   54 SWAP                     2\n",
      "             56 POP_TOP\n",
      "             58 SWAP                     2\n",
      "             60 STORE_FAST               0 (x)\n",
      "             62 RERAISE                  0\n",
      "ExceptionTable:\n",
      "  28 to 44 -> 54 [2]\n"
     ]
    }
   ],
   "source": [
    "dis.dis(myfunc)"
   ]
  },
  {
   "cell_type": "code",
   "execution_count": 75,
   "metadata": {},
   "outputs": [],
   "source": [
    "s = '[x for x in range(5)]'\n",
    "\n"
   ]
  },
  {
   "cell_type": "code",
   "execution_count": 76,
   "metadata": {},
   "outputs": [
    {
     "name": "stdout",
     "output_type": "stream",
     "text": [
      "  0           0 RESUME                   0\n",
      "\n",
      "  1           2 PUSH_NULL\n",
      "              4 LOAD_NAME                0 (range)\n",
      "              6 LOAD_CONST               0 (5)\n",
      "              8 CALL                     1\n",
      "             16 GET_ITER\n",
      "             18 LOAD_FAST_AND_CLEAR      0 (x)\n",
      "             20 SWAP                     2\n",
      "             22 BUILD_LIST               0\n",
      "             24 SWAP                     2\n",
      "        >>   26 FOR_ITER                 4 (to 38)\n",
      "             30 STORE_FAST               0 (x)\n",
      "             32 LOAD_FAST                0 (x)\n",
      "             34 LIST_APPEND              2\n",
      "             36 JUMP_BACKWARD            6 (to 26)\n",
      "        >>   38 END_FOR\n",
      "             40 SWAP                     2\n",
      "             42 STORE_FAST               0 (x)\n",
      "             44 RETURN_VALUE\n",
      "        >>   46 SWAP                     2\n",
      "             48 POP_TOP\n",
      "             50 SWAP                     2\n",
      "             52 STORE_FAST               0 (x)\n",
      "             54 RERAISE                  0\n",
      "ExceptionTable:\n",
      "  22 to 38 -> 46 [2]\n"
     ]
    }
   ],
   "source": [
    "dis.dis(s)"
   ]
  },
  {
   "cell_type": "code",
   "execution_count": 78,
   "metadata": {},
   "outputs": [],
   "source": [
    "def myfunc():\n",
    "    global x\n",
    "    [x\n",
    "     for x in range(5)]\n",
    "    print(x)\n"
   ]
  },
  {
   "cell_type": "code",
   "execution_count": 79,
   "metadata": {},
   "outputs": [
    {
     "name": "stdout",
     "output_type": "stream",
     "text": [
      "100\n"
     ]
    }
   ],
   "source": [
    "myfunc()"
   ]
  },
  {
   "cell_type": "code",
   "execution_count": 80,
   "metadata": {},
   "outputs": [],
   "source": [
    "# Dispatch table\n",
    "\n"
   ]
  },
  {
   "cell_type": "code",
   "execution_count": null,
   "metadata": {},
   "outputs": [],
   "source": [
    "def a():\n",
    "    return 'a'\n",
    "\n",
    "def b():\n",
    "    return 'b'\n",
    "\n",
    "choice = "
   ]
  }
 ],
 "metadata": {
  "kernelspec": {
   "display_name": "Python 3 (ipykernel)",
   "language": "python",
   "name": "python3"
  },
  "language_info": {
   "codemirror_mode": {
    "name": "ipython",
    "version": 3
   },
   "file_extension": ".py",
   "mimetype": "text/x-python",
   "name": "python",
   "nbconvert_exporter": "python",
   "pygments_lexer": "ipython3",
   "version": "3.12.2"
  },
  "widgets": {
   "application/vnd.jupyter.widget-state+json": {
    "state": {},
    "version_major": 2,
    "version_minor": 0
   }
  }
 },
 "nbformat": 4,
 "nbformat_minor": 4
}
